{
  "nbformat": 4,
  "nbformat_minor": 0,
  "metadata": {
    "colab": {
      "name": "Product Recommendation.ipynb",
      "provenance": [],
      "collapsed_sections": [],
      "authorship_tag": "ABX9TyOS+3SCwLVAA6JOJKAllN2N",
      "include_colab_link": true
    },
    "kernelspec": {
      "name": "python3",
      "display_name": "Python 3"
    }
  },
  "cells": [
    {
      "cell_type": "markdown",
      "metadata": {
        "id": "view-in-github",
        "colab_type": "text"
      },
      "source": [
        "<a href=\"https://colab.research.google.com/github/Vasanthpathi549/Mini-Project/blob/master/Product_Recommendation.ipynb\" target=\"_parent\"><img src=\"https://colab.research.google.com/assets/colab-badge.svg\" alt=\"Open In Colab\"/></a>"
      ]
    },
    {
      "cell_type": "markdown",
      "metadata": {
        "id": "kZv242dqLTCf",
        "colab_type": "text"
      },
      "source": [
        "**1.Import Libraries**"
      ]
    },
    {
      "cell_type": "code",
      "metadata": {
        "id": "2yC8mUX_NVzw",
        "colab_type": "code",
        "colab": {}
      },
      "source": [
        "import numpy as np # linear algebra\n",
        "import pandas as pd # data processing, CSV file I/O\n",
        "import os\n",
        "from IPython.core.interactiveshell import InteractiveShell\n",
        "InteractiveShell.ast_node_interactivity = \"all\"\n",
        "import math\n",
        "import json\n",
        "import time\n",
        "import matplotlib.pyplot as plt\n",
        "import seaborn as sns\n",
        "from sklearn.metrics.pairwise import cosine_similarity\n",
        "from sklearn.model_selection import train_test_split\n",
        "from sklearn.neighbors import NearestNeighbors\n",
        "from sklearn.externals import joblib\n",
        "import scipy.sparse\n",
        "from scipy.sparse import csr_matrix\n",
        "from scipy.sparse.linalg import svds\n",
        "# import warnings; warnings.simplefilter('ignore')\n",
        "# %matplotlib inline"
      ],
      "execution_count": 0,
      "outputs": []
    },
    {
      "cell_type": "markdown",
      "metadata": {
        "id": "IpD4kK7uOP-j",
        "colab_type": "text"
      },
      "source": [
        "**2.Load the dataset and add headers**"
      ]
    },
    {
      "cell_type": "code",
      "metadata": {
        "id": "uslR7RNqO8wL",
        "colab_type": "code",
        "colab": {}
      },
      "source": [
        "electronics_data=pd.read_csv(\"ratings_Electronics (1).csv\",names=['userId', 'productId','Rating','timestamp'])"
      ],
      "execution_count": 0,
      "outputs": []
    },
    {
      "cell_type": "code",
      "metadata": {
        "id": "vMprOYsfP2VX",
        "colab_type": "code",
        "outputId": "292c99e4-8f26-4889-999b-950de843dcfe",
        "colab": {
          "base_uri": "https://localhost:8080/",
          "height": 204
        }
      },
      "source": [
        "#Display the data\n",
        "electronics_data.head()"
      ],
      "execution_count": 10,
      "outputs": [
        {
          "output_type": "execute_result",
          "data": {
            "text/html": [
              "<div>\n",
              "<style scoped>\n",
              "    .dataframe tbody tr th:only-of-type {\n",
              "        vertical-align: middle;\n",
              "    }\n",
              "\n",
              "    .dataframe tbody tr th {\n",
              "        vertical-align: top;\n",
              "    }\n",
              "\n",
              "    .dataframe thead th {\n",
              "        text-align: right;\n",
              "    }\n",
              "</style>\n",
              "<table border=\"1\" class=\"dataframe\">\n",
              "  <thead>\n",
              "    <tr style=\"text-align: right;\">\n",
              "      <th></th>\n",
              "      <th>userId</th>\n",
              "      <th>productId</th>\n",
              "      <th>Rating</th>\n",
              "      <th>timestamp</th>\n",
              "    </tr>\n",
              "  </thead>\n",
              "  <tbody>\n",
              "    <tr>\n",
              "      <th>0</th>\n",
              "      <td>AKM1MP6P0OYPR</td>\n",
              "      <td>0132793040</td>\n",
              "      <td>5.0</td>\n",
              "      <td>1365811200</td>\n",
              "    </tr>\n",
              "    <tr>\n",
              "      <th>1</th>\n",
              "      <td>A2CX7LUOHB2NDG</td>\n",
              "      <td>0321732944</td>\n",
              "      <td>5.0</td>\n",
              "      <td>1341100800</td>\n",
              "    </tr>\n",
              "    <tr>\n",
              "      <th>2</th>\n",
              "      <td>A2NWSAGRHCP8N5</td>\n",
              "      <td>0439886341</td>\n",
              "      <td>1.0</td>\n",
              "      <td>1367193600</td>\n",
              "    </tr>\n",
              "    <tr>\n",
              "      <th>3</th>\n",
              "      <td>A2WNBOD3WNDNKT</td>\n",
              "      <td>0439886341</td>\n",
              "      <td>3.0</td>\n",
              "      <td>1374451200</td>\n",
              "    </tr>\n",
              "    <tr>\n",
              "      <th>4</th>\n",
              "      <td>A1GI0U4ZRJA8WN</td>\n",
              "      <td>0439886341</td>\n",
              "      <td>1.0</td>\n",
              "      <td>1334707200</td>\n",
              "    </tr>\n",
              "  </tbody>\n",
              "</table>\n",
              "</div>"
            ],
            "text/plain": [
              "           userId   productId  Rating   timestamp\n",
              "0   AKM1MP6P0OYPR  0132793040     5.0  1365811200\n",
              "1  A2CX7LUOHB2NDG  0321732944     5.0  1341100800\n",
              "2  A2NWSAGRHCP8N5  0439886341     1.0  1367193600\n",
              "3  A2WNBOD3WNDNKT  0439886341     3.0  1374451200\n",
              "4  A1GI0U4ZRJA8WN  0439886341     1.0  1334707200"
            ]
          },
          "metadata": {
            "tags": []
          },
          "execution_count": 10
        }
      ]
    },
    {
      "cell_type": "code",
      "metadata": {
        "id": "3K1NKHWEQu6S",
        "colab_type": "code",
        "outputId": "47edc8be-eeab-483a-d926-b72c15c0c437",
        "colab": {
          "base_uri": "https://localhost:8080/",
          "height": 34
        }
      },
      "source": [
        "#shape of data\n",
        "electronics_data.shape"
      ],
      "execution_count": 11,
      "outputs": [
        {
          "output_type": "execute_result",
          "data": {
            "text/plain": [
              "(566756, 4)"
            ]
          },
          "metadata": {
            "tags": []
          },
          "execution_count": 11
        }
      ]
    },
    {
      "cell_type": "code",
      "metadata": {
        "id": "M9Ps6H_YS_eJ",
        "colab_type": "code",
        "colab": {}
      },
      "source": [
        "#Taking subset of the dataset\n",
        "electronics_data=electronics_data.iloc[:560000,0:]"
      ],
      "execution_count": 0,
      "outputs": []
    },
    {
      "cell_type": "code",
      "metadata": {
        "id": "X3nw832xTpU4",
        "colab_type": "code",
        "outputId": "a818ee01-6bca-42cb-810f-ba2149cbe297",
        "colab": {
          "base_uri": "https://localhost:8080/",
          "height": 102
        }
      },
      "source": [
        "#Check the datatypes\n",
        "electronics_data.dtypes"
      ],
      "execution_count": 13,
      "outputs": [
        {
          "output_type": "execute_result",
          "data": {
            "text/plain": [
              "userId        object\n",
              "productId     object\n",
              "Rating       float64\n",
              "timestamp      int64\n",
              "dtype: object"
            ]
          },
          "metadata": {
            "tags": []
          },
          "execution_count": 13
        }
      ]
    },
    {
      "cell_type": "code",
      "metadata": {
        "id": "5sIt2olATyW3",
        "colab_type": "code",
        "outputId": "d650983f-cf0d-4251-f33b-7d9b18b36671",
        "colab": {
          "base_uri": "https://localhost:8080/",
          "height": 204
        }
      },
      "source": [
        "electronics_data.info()"
      ],
      "execution_count": 14,
      "outputs": [
        {
          "output_type": "stream",
          "text": [
            "<class 'pandas.core.frame.DataFrame'>\n",
            "RangeIndex: 560000 entries, 0 to 559999\n",
            "Data columns (total 4 columns):\n",
            " #   Column     Non-Null Count   Dtype  \n",
            "---  ------     --------------   -----  \n",
            " 0   userId     560000 non-null  object \n",
            " 1   productId  560000 non-null  object \n",
            " 2   Rating     560000 non-null  float64\n",
            " 3   timestamp  560000 non-null  int64  \n",
            "dtypes: float64(1), int64(1), object(2)\n",
            "memory usage: 17.1+ MB\n"
          ],
          "name": "stdout"
        }
      ]
    },
    {
      "cell_type": "code",
      "metadata": {
        "id": "_RsXxC2KUBXf",
        "colab_type": "code",
        "outputId": "a0b23508-7e2b-4ba8-ac97-856ba95ea698",
        "colab": {
          "base_uri": "https://localhost:8080/",
          "height": 170
        }
      },
      "source": [
        "#Five point summary \n",
        "electronics_data.describe()['Rating'].T"
      ],
      "execution_count": 15,
      "outputs": [
        {
          "output_type": "execute_result",
          "data": {
            "text/plain": [
              "count    560000.000000\n",
              "mean          3.987593\n",
              "std           1.394229\n",
              "min           1.000000\n",
              "25%           3.000000\n",
              "50%           5.000000\n",
              "75%           5.000000\n",
              "max           5.000000\n",
              "Name: Rating, dtype: float64"
            ]
          },
          "metadata": {
            "tags": []
          },
          "execution_count": 15
        }
      ]
    },
    {
      "cell_type": "code",
      "metadata": {
        "id": "7vVioE3BUSDm",
        "colab_type": "code",
        "outputId": "b87a4f3a-214c-4cd4-c6bd-94e746919ad4",
        "colab": {
          "base_uri": "https://localhost:8080/",
          "height": 51
        }
      },
      "source": [
        "#Find the minimum and maximum ratings\n",
        "print('Minimum rating is: %d' %(electronics_data.Rating.min()))\n",
        "print('Maximum rating is: %d' %(electronics_data.Rating.max()))"
      ],
      "execution_count": 16,
      "outputs": [
        {
          "output_type": "stream",
          "text": [
            "Minimum rating is: 1\n",
            "Maximum rating is: 5\n"
          ],
          "name": "stdout"
        }
      ]
    },
    {
      "cell_type": "markdown",
      "metadata": {
        "id": "V_HtqIMLUtm1",
        "colab_type": "text"
      },
      "source": [
        "The rating of the product range from 1 to 5"
      ]
    },
    {
      "cell_type": "markdown",
      "metadata": {
        "id": "rbwccwAIU0OJ",
        "colab_type": "text"
      },
      "source": [
        "**Handling Missing Values**"
      ]
    },
    {
      "cell_type": "code",
      "metadata": {
        "id": "z6JWcgHnU9Zi",
        "colab_type": "code",
        "outputId": "298c3406-2625-4bee-ac29-a58804a84d87",
        "colab": {
          "base_uri": "https://localhost:8080/",
          "height": 119
        }
      },
      "source": [
        "#Check for missing values\n",
        "print('Number of missing values across columns: \\n',electronics_data.isnull().sum())"
      ],
      "execution_count": 17,
      "outputs": [
        {
          "output_type": "stream",
          "text": [
            "Number of missing values across columns: \n",
            " userId       0\n",
            "productId    0\n",
            "Rating       0\n",
            "timestamp    0\n",
            "dtype: int64\n"
          ],
          "name": "stdout"
        }
      ]
    },
    {
      "cell_type": "markdown",
      "metadata": {
        "id": "9Yvb31upVIq4",
        "colab_type": "text"
      },
      "source": [
        "**Ratings**"
      ]
    },
    {
      "cell_type": "code",
      "metadata": {
        "id": "AmukGSvBVLt_",
        "colab_type": "code",
        "outputId": "062a5f1d-a407-4632-e93a-46cd73602e80",
        "colab": {
          "base_uri": "https://localhost:8080/",
          "height": 440
        }
      },
      "source": [
        "# Check the distribution of the rating\n",
        "with sns.axes_style('white'):\n",
        "    g = sns.factorplot(\"Rating\", data=electronics_data, aspect=2.0,kind='count')\n",
        "    g.set_ylabels(\"Total number of ratings\")"
      ],
      "execution_count": 18,
      "outputs": [
        {
          "output_type": "stream",
          "text": [
            "/usr/local/lib/python3.6/dist-packages/seaborn/categorical.py:3669: UserWarning: The `factorplot` function has been renamed to `catplot`. The original name will be removed in a future release. Please update your code. Note that the default `kind` in `factorplot` (`'point'`) has changed `'strip'` in `catplot`.\n",
            "  warnings.warn(msg)\n"
          ],
          "name": "stderr"
        },
        {
          "output_type": "execute_result",
          "data": {
            "text/plain": [
              "<seaborn.axisgrid.FacetGrid at 0x7f5dea582710>"
            ]
          },
          "metadata": {
            "tags": []
          },
          "execution_count": 18
        },
        {
          "output_type": "display_data",
          "data": {
            "image/png": "[encoded data removed]",
            "text/plain": [
              "<Figure size 720x360 with 1 Axes>"
            ]
          },
          "metadata": {
            "tags": []
          }
        }
      ]
    },
    {
      "cell_type": "markdown",
      "metadata": {
        "id": "k2rIXCh4Vhsu",
        "colab_type": "text"
      },
      "source": [
        "Most of the people has given the rating of 5"
      ]
    },
    {
      "cell_type": "markdown",
      "metadata": {
        "id": "ZsOyQHQJVnRL",
        "colab_type": "text"
      },
      "source": [
        "**Unique users and products**"
      ]
    },
    {
      "cell_type": "code",
      "metadata": {
        "id": "xSsTwZnQVrm8",
        "colab_type": "code",
        "outputId": "77f9faf4-03bc-4cef-b801-bfc03163390b",
        "colab": {
          "base_uri": "https://localhost:8080/",
          "height": 119
        }
      },
      "source": [
        "print(\"Total data \")\n",
        "print(\"-\"*50)\n",
        "print(\"\\nTotal no of ratings :\",electronics_data.shape[0])\n",
        "print(\"Total No of Users   :\", len(np.unique(electronics_data.userId)))\n",
        "print(\"Total No of products  :\", len(np.unique(electronics_data.productId)))"
      ],
      "execution_count": 19,
      "outputs": [
        {
          "output_type": "stream",
          "text": [
            "Total data \n",
            "--------------------------------------------------\n",
            "\n",
            "Total no of ratings : 560000\n",
            "Total No of Users   : 448403\n",
            "Total No of products  : 33789\n"
          ],
          "name": "stdout"
        }
      ]
    },
    {
      "cell_type": "markdown",
      "metadata": {
        "id": "aw4Uev_zV7Wq",
        "colab_type": "text"
      },
      "source": [
        "**Dropping the timestamp column**"
      ]
    },
    {
      "cell_type": "code",
      "metadata": {
        "id": "Px7ybaIhWANz",
        "colab_type": "code",
        "colab": {}
      },
      "source": [
        "#Dropping the Timestamp column\n",
        "electronics_data.drop(['timestamp'], axis=1,inplace=True)"
      ],
      "execution_count": 0,
      "outputs": []
    },
    {
      "cell_type": "markdown",
      "metadata": {
        "id": "fVXxnXlFWRN0",
        "colab_type": "text"
      },
      "source": [
        "**Analysing the rating**"
      ]
    },
    {
      "cell_type": "code",
      "metadata": {
        "id": "2VUujAsEWW5O",
        "colab_type": "code",
        "outputId": "d21d8f18-4d94-4ec3-c1ab-da6d531e822c",
        "colab": {
          "base_uri": "https://localhost:8080/",
          "height": 136
        }
      },
      "source": [
        "#Analysis of rating given by the user \n",
        "no_of_rated_products_per_user = electronics_data.groupby(by='userId')['Rating'].count().sort_values(ascending=False)\n",
        "no_of_rated_products_per_user.head()"
      ],
      "execution_count": 21,
      "outputs": [
        {
          "output_type": "execute_result",
          "data": {
            "text/plain": [
              "userId\n",
              "A5JLAU2ARJ0BO     327\n",
              "A231WM2Z2JL0U3    248\n",
              "A25HBO5V8S8SEA    160\n",
              "AKT8TGIT6VVZ5      90\n",
              "AT6CZDCP4TRGA      89\n",
              "Name: Rating, dtype: int64"
            ]
          },
          "metadata": {
            "tags": []
          },
          "execution_count": 21
        }
      ]
    },
    {
      "cell_type": "code",
      "metadata": {
        "id": "T8I0UM0CWsmH",
        "colab_type": "code",
        "outputId": "fe88489b-2f3e-4765-cb02-217dc9b95457",
        "colab": {
          "base_uri": "https://localhost:8080/",
          "height": 170
        }
      },
      "source": [
        "no_of_rated_products_per_user.describe()"
      ],
      "execution_count": 22,
      "outputs": [
        {
          "output_type": "execute_result",
          "data": {
            "text/plain": [
              "count    448403.000000\n",
              "mean          1.248877\n",
              "std           1.223340\n",
              "min           1.000000\n",
              "25%           1.000000\n",
              "50%           1.000000\n",
              "75%           1.000000\n",
              "max         327.000000\n",
              "Name: Rating, dtype: float64"
            ]
          },
          "metadata": {
            "tags": []
          },
          "execution_count": 22
        }
      ]
    },
    {
      "cell_type": "code",
      "metadata": {
        "id": "LZWbTFtWW_va",
        "colab_type": "code",
        "colab": {}
      },
      "source": [
        "quantiles = no_of_rated_products_per_user.quantile(np.arange(0,1.01,0.01), interpolation='higher')"
      ],
      "execution_count": 0,
      "outputs": []
    },
    {
      "cell_type": "code",
      "metadata": {
        "id": "CRypqjGSXkQ9",
        "colab_type": "code",
        "outputId": "9f6da708-bc9e-4ed6-e35e-000f07f63e23",
        "colab": {
          "base_uri": "https://localhost:8080/",
          "height": 689
        }
      },
      "source": [
        "plt.figure(figsize=(10,10))\n",
        "plt.title(\"Quantiles and their Values\")\n",
        "quantiles.plot()\n",
        "# quantiles with 0.05 difference\n",
        "plt.scatter(x=quantiles.index[::5], y=quantiles.values[::5], c='orange', label=\"quantiles with 0.05 intervals\")\n",
        "# quantiles with 0.25 difference\n",
        "plt.scatter(x=quantiles.index[::25], y=quantiles.values[::25], c='m', label = \"quantiles with 0.25 intervals\")\n",
        "plt.ylabel('No of ratings by user')\n",
        "plt.xlabel('Value at the quantile')\n",
        "plt.legend(loc='best')\n",
        "plt.show()"
      ],
      "execution_count": 24,
      "outputs": [
        {
          "output_type": "execute_result",
          "data": {
            "text/plain": [
              "<Figure size 720x720 with 0 Axes>"
            ]
          },
          "metadata": {
            "tags": []
          },
          "execution_count": 24
        },
        {
          "output_type": "execute_result",
          "data": {
            "text/plain": [
              "Text(0.5, 1.0, 'Quantiles and their Values')"
            ]
          },
          "metadata": {
            "tags": []
          },
          "execution_count": 24
        },
        {
          "output_type": "execute_result",
          "data": {
            "text/plain": [
              "<matplotlib.axes._subplots.AxesSubplot at 0x7f5dea5827f0>"
            ]
          },
          "metadata": {
            "tags": []
          },
          "execution_count": 24
        },
        {
          "output_type": "execute_result",
          "data": {
            "text/plain": [
              "<matplotlib.collections.PathCollection at 0x7f5dd75bae80>"
            ]
          },
          "metadata": {
            "tags": []
          },
          "execution_count": 24
        },
        {
          "output_type": "execute_result",
          "data": {
            "text/plain": [
              "<matplotlib.collections.PathCollection at 0x7f5dd75ba6d8>"
            ]
          },
          "metadata": {
            "tags": []
          },
          "execution_count": 24
        },
        {
          "output_type": "execute_result",
          "data": {
            "text/plain": [
              "Text(0, 0.5, 'No of ratings by user')"
            ]
          },
          "metadata": {
            "tags": []
          },
          "execution_count": 24
        },
        {
          "output_type": "execute_result",
          "data": {
            "text/plain": [
              "Text(0.5, 0, 'Value at the quantile')"
            ]
          },
          "metadata": {
            "tags": []
          },
          "execution_count": 24
        },
        {
          "output_type": "execute_result",
          "data": {
            "text/plain": [
              "<matplotlib.legend.Legend at 0x7f5dd75a5710>"
            ]
          },
          "metadata": {
            "tags": []
          },
          "execution_count": 24
        },
        {
          "output_type": "display_data",
          "data": {
            "image/png": "[encoded data removed]",
            "text/plain": [
              "<Figure size 720x720 with 1 Axes>"
            ]
          },
          "metadata": {
            "tags": []
          }
        }
      ]
    },
    {
      "cell_type": "code",
      "metadata": {
        "id": "foaEA4r_X2dT",
        "colab_type": "code",
        "outputId": "86fe1259-5386-473d-db3f-ba32914a0644",
        "colab": {
          "base_uri": "https://localhost:8080/",
          "height": 68
        }
      },
      "source": [
        "print('\\n No of rated product more than 50 per user : {}\\n'.format(sum(no_of_rated_products_per_user >= 50)) )"
      ],
      "execution_count": 25,
      "outputs": [
        {
          "output_type": "stream",
          "text": [
            "\n",
            " No of rated product more than 50 per user : 21\n",
            "\n"
          ],
          "name": "stdout"
        }
      ]
    },
    {
      "cell_type": "markdown",
      "metadata": {
        "id": "cOyxVjbnYk7E",
        "colab_type": "text"
      },
      "source": [
        "#Popularity Based Recommendation\n",
        "Popularity based recommendation system works with the trend. It basically uses the items which are in trend right now. For example, if any product which is usually bought by every new user then there are chances that it may suggest that item to the user who just signed up.\n",
        "\n",
        "The problems with popularity based recommendation system is that the personalization is not available with this method i.e. even though you know the behaviour of the user you cannot recommend items accordingly."
      ]
    },
    {
      "cell_type": "code",
      "metadata": {
        "id": "jzcyLO7AZAM1",
        "colab_type": "code",
        "colab": {}
      },
      "source": [
        "#Getting the new dataframe which contains users who has given 50 or more ratings\n",
        "new_df=electronics_data.groupby(\"productId\").filter(lambda x:x['Rating'].count() >=50)"
      ],
      "execution_count": 0,
      "outputs": []
    },
    {
      "cell_type": "code",
      "metadata": {
        "id": "vt1afkh_ZUuX",
        "colab_type": "code",
        "outputId": "46e1607e-08c0-4f35-e73f-ab6cf331194e",
        "colab": {
          "base_uri": "https://localhost:8080/",
          "height": 302
        }
      },
      "source": [
        "no_of_ratings_per_product = new_df.groupby(by='productId')['Rating'].count().sort_values(ascending=False)\n",
        "\n",
        "fig = plt.figure(figsize=plt.figaspect(.5))\n",
        "ax = plt.gca()\n",
        "plt.plot(no_of_ratings_per_product.values)\n",
        "plt.title('# RATINGS per Product')\n",
        "plt.xlabel('Product')\n",
        "plt.ylabel('No of ratings per product')\n",
        "ax.set_xticklabels([])\n",
        "\n",
        "plt.show()"
      ],
      "execution_count": 27,
      "outputs": [
        {
          "output_type": "execute_result",
          "data": {
            "text/plain": [
              "[<matplotlib.lines.Line2D at 0x7f5dd759ff60>]"
            ]
          },
          "metadata": {
            "tags": []
          },
          "execution_count": 27
        },
        {
          "output_type": "execute_result",
          "data": {
            "text/plain": [
              "Text(0.5, 1.0, '# RATINGS per Product')"
            ]
          },
          "metadata": {
            "tags": []
          },
          "execution_count": 27
        },
        {
          "output_type": "execute_result",
          "data": {
            "text/plain": [
              "Text(0.5, 0, 'Product')"
            ]
          },
          "metadata": {
            "tags": []
          },
          "execution_count": 27
        },
        {
          "output_type": "execute_result",
          "data": {
            "text/plain": [
              "Text(0, 0.5, 'No of ratings per product')"
            ]
          },
          "metadata": {
            "tags": []
          },
          "execution_count": 27
        },
        {
          "output_type": "execute_result",
          "data": {
            "text/plain": [
              "[]"
            ]
          },
          "metadata": {
            "tags": []
          },
          "execution_count": 27
        },
        {
          "output_type": "display_data",
          "data": {
            "image/png": "[encoded data removed]",
            "text/plain": [
              "<Figure size 576x288 with 1 Axes>"
            ]
          },
          "metadata": {
            "tags": []
          }
        }
      ]
    },
    {
      "cell_type": "code",
      "metadata": {
        "id": "O6upoP6BZgKa",
        "colab_type": "code",
        "outputId": "81b80576-c970-45ff-bfca-bba26a1f0ef5",
        "colab": {
          "base_uri": "https://localhost:8080/",
          "height": 136
        }
      },
      "source": [
        "#Average rating of the product \n",
        "new_df.groupby('productId')['Rating'].mean().head()"
      ],
      "execution_count": 28,
      "outputs": [
        {
          "output_type": "execute_result",
          "data": {
            "text/plain": [
              "productId\n",
              "0972683275    4.470980\n",
              "1400501466    3.560000\n",
              "1400501520    4.243902\n",
              "1400501776    3.884892\n",
              "1400532620    3.684211\n",
              "Name: Rating, dtype: float64"
            ]
          },
          "metadata": {
            "tags": []
          },
          "execution_count": 28
        }
      ]
    },
    {
      "cell_type": "code",
      "metadata": {
        "id": "k3wcJIV4Zuub",
        "colab_type": "code",
        "colab": {
          "base_uri": "https://localhost:8080/",
          "height": 136
        },
        "outputId": "993a808c-9e5a-4509-b6f1-749408eaafb5"
      },
      "source": [
        "new_df.groupby('productId')['Rating'].mean().sort_values(ascending=False).head()"
      ],
      "execution_count": 31,
      "outputs": [
        {
          "output_type": "execute_result",
          "data": {
            "text/plain": [
              "productId\n",
              "B0000DYV9H    4.947368\n",
              "B000053HC5    4.945783\n",
              "B00009R96C    4.885714\n",
              "B00005LE76    4.879310\n",
              "B0002E52S4    4.861111\n",
              "Name: Rating, dtype: float64"
            ]
          },
          "metadata": {
            "tags": []
          },
          "execution_count": 31
        }
      ]
    },
    {
      "cell_type": "code",
      "metadata": {
        "id": "FTeIBUgOZ9ol",
        "colab_type": "code",
        "outputId": "acc2a0ae-9ccd-466c-ef9f-06f79603e9e8",
        "colab": {
          "base_uri": "https://localhost:8080/",
          "height": 136
        }
      },
      "source": [
        "#Total no of rating for product\n",
        "new_df.groupby('productId')['Rating'].count().sort_values(ascending=False).head()"
      ],
      "execution_count": 34,
      "outputs": [
        {
          "output_type": "execute_result",
          "data": {
            "text/plain": [
              "productId\n",
              "B0002L5R78    9487\n",
              "B0001FTVEK    5345\n",
              "B00007E7JU    3523\n",
              "B00007M1TZ    2608\n",
              "B00004ZCJE    2547\n",
              "Name: Rating, dtype: int64"
            ]
          },
          "metadata": {
            "tags": []
          },
          "execution_count": 34
        }
      ]
    },
    {
      "cell_type": "code",
      "metadata": {
        "id": "VDzTUjBhaSF_",
        "colab_type": "code",
        "colab": {}
      },
      "source": [
        "ratings_mean_count = pd.DataFrame(new_df.groupby('productId')['Rating'].mean())"
      ],
      "execution_count": 0,
      "outputs": []
    },
    {
      "cell_type": "code",
      "metadata": {
        "id": "jreav5gUaXUx",
        "colab_type": "code",
        "colab": {}
      },
      "source": [
        "ratings_mean_count['rating_counts'] = pd.DataFrame(new_df.groupby('productId')['Rating'].count())"
      ],
      "execution_count": 0,
      "outputs": []
    },
    {
      "cell_type": "code",
      "metadata": {
        "id": "fl_3InJcaf0G",
        "colab_type": "code",
        "outputId": "df879b10-0807-4e40-bfc0-aa02de23b5a8",
        "colab": {
          "base_uri": "https://localhost:8080/",
          "height": 235
        }
      },
      "source": [
        "ratings_mean_count.head()"
      ],
      "execution_count": 37,
      "outputs": [
        {
          "output_type": "execute_result",
          "data": {
            "text/html": [
              "<div>\n",
              "<style scoped>\n",
              "    .dataframe tbody tr th:only-of-type {\n",
              "        vertical-align: middle;\n",
              "    }\n",
              "\n",
              "    .dataframe tbody tr th {\n",
              "        vertical-align: top;\n",
              "    }\n",
              "\n",
              "    .dataframe thead th {\n",
              "        text-align: right;\n",
              "    }\n",
              "</style>\n",
              "<table border=\"1\" class=\"dataframe\">\n",
              "  <thead>\n",
              "    <tr style=\"text-align: right;\">\n",
              "      <th></th>\n",
              "      <th>Rating</th>\n",
              "      <th>rating_counts</th>\n",
              "    </tr>\n",
              "    <tr>\n",
              "      <th>productId</th>\n",
              "      <th></th>\n",
              "      <th></th>\n",
              "    </tr>\n",
              "  </thead>\n",
              "  <tbody>\n",
              "    <tr>\n",
              "      <th>0972683275</th>\n",
              "      <td>4.470980</td>\n",
              "      <td>1051</td>\n",
              "    </tr>\n",
              "    <tr>\n",
              "      <th>1400501466</th>\n",
              "      <td>3.560000</td>\n",
              "      <td>250</td>\n",
              "    </tr>\n",
              "    <tr>\n",
              "      <th>1400501520</th>\n",
              "      <td>4.243902</td>\n",
              "      <td>82</td>\n",
              "    </tr>\n",
              "    <tr>\n",
              "      <th>1400501776</th>\n",
              "      <td>3.884892</td>\n",
              "      <td>139</td>\n",
              "    </tr>\n",
              "    <tr>\n",
              "      <th>1400532620</th>\n",
              "      <td>3.684211</td>\n",
              "      <td>171</td>\n",
              "    </tr>\n",
              "  </tbody>\n",
              "</table>\n",
              "</div>"
            ],
            "text/plain": [
              "              Rating  rating_counts\n",
              "productId                          \n",
              "0972683275  4.470980           1051\n",
              "1400501466  3.560000            250\n",
              "1400501520  4.243902             82\n",
              "1400501776  3.884892            139\n",
              "1400532620  3.684211            171"
            ]
          },
          "metadata": {
            "tags": []
          },
          "execution_count": 37
        }
      ]
    },
    {
      "cell_type": "code",
      "metadata": {
        "id": "jIq4pWS9a3SE",
        "colab_type": "code",
        "outputId": "3632d0ff-e655-4d4f-b26c-1d2f9641e507",
        "colab": {
          "base_uri": "https://localhost:8080/",
          "height": 34
        }
      },
      "source": [
        "ratings_mean_count['rating_counts'].max()"
      ],
      "execution_count": 38,
      "outputs": [
        {
          "output_type": "execute_result",
          "data": {
            "text/plain": [
              "9487"
            ]
          },
          "metadata": {
            "tags": []
          },
          "execution_count": 38
        }
      ]
    },
    {
      "cell_type": "code",
      "metadata": {
        "id": "WUwHgfPXbF7P",
        "colab_type": "code",
        "outputId": "6a3a7e2e-9ac8-42e3-a929-d81df2c75f04",
        "colab": {
          "base_uri": "https://localhost:8080/",
          "height": 391
        }
      },
      "source": [
        "plt.figure(figsize=(8,6))\n",
        "plt.rcParams['patch.force_edgecolor'] = True\n",
        "ratings_mean_count['rating_counts'].hist(bins=50)\n"
      ],
      "execution_count": 39,
      "outputs": [
        {
          "output_type": "execute_result",
          "data": {
            "text/plain": [
              "<Figure size 576x432 with 0 Axes>"
            ]
          },
          "metadata": {
            "tags": []
          },
          "execution_count": 39
        },
        {
          "output_type": "execute_result",
          "data": {
            "text/plain": [
              "<matplotlib.axes._subplots.AxesSubplot at 0x7f5dea582898>"
            ]
          },
          "metadata": {
            "tags": []
          },
          "execution_count": 39
        },
        {
          "output_type": "display_data",
          "data": {
            "image/png": "[encoded data removed]",
            "text/plain": [
              "<Figure size 576x432 with 1 Axes>"
            ]
          },
          "metadata": {
            "tags": []
          }
        }
      ]
    },
    {
      "cell_type": "code",
      "metadata": {
        "id": "BmWb1Sm-bena",
        "colab_type": "code",
        "outputId": "66bdf966-9b2c-40fc-a6ef-d6c3f361583d",
        "colab": {
          "base_uri": "https://localhost:8080/",
          "height": 391
        }
      },
      "source": [
        "plt.figure(figsize=(8,6))\n",
        "plt.rcParams['patch.force_edgecolor'] = True\n",
        "ratings_mean_count['Rating'].hist(bins=50)"
      ],
      "execution_count": 40,
      "outputs": [
        {
          "output_type": "execute_result",
          "data": {
            "text/plain": [
              "<Figure size 576x432 with 0 Axes>"
            ]
          },
          "metadata": {
            "tags": []
          },
          "execution_count": 40
        },
        {
          "output_type": "execute_result",
          "data": {
            "text/plain": [
              "<matplotlib.axes._subplots.AxesSubplot at 0x7f5dd73a75f8>"
            ]
          },
          "metadata": {
            "tags": []
          },
          "execution_count": 40
        },
        {
          "output_type": "display_data",
          "data": {
            "image/png": "[encoded data removed]",
            "text/plain": [
              "<Figure size 576x432 with 1 Axes>"
            ]
          },
          "metadata": {
            "tags": []
          }
        }
      ]
    },
    {
      "cell_type": "code",
      "metadata": {
        "id": "NRrl0FEWbrPs",
        "colab_type": "code",
        "outputId": "334641e2-00a4-4ff8-8816-a8bbeaf03363",
        "colab": {
          "base_uri": "https://localhost:8080/",
          "height": 475
        }
      },
      "source": [
        "plt.figure(figsize=(8,6))\n",
        "plt.rcParams['patch.force_edgecolor'] = True\n",
        "sns.jointplot(x='Rating', y='rating_counts', data=ratings_mean_count, alpha=0.4)"
      ],
      "execution_count": 41,
      "outputs": [
        {
          "output_type": "execute_result",
          "data": {
            "text/plain": [
              "<Figure size 576x432 with 0 Axes>"
            ]
          },
          "metadata": {
            "tags": []
          },
          "execution_count": 41
        },
        {
          "output_type": "execute_result",
          "data": {
            "text/plain": [
              "<seaborn.axisgrid.JointGrid at 0x7f5dd73a7438>"
            ]
          },
          "metadata": {
            "tags": []
          },
          "execution_count": 41
        },
        {
          "output_type": "display_data",
          "data": {
            "text/plain": [
              "<Figure size 576x432 with 0 Axes>"
            ]
          },
          "metadata": {
            "tags": []
          }
        },
        {
          "output_type": "display_data",
          "data": {
            "image/png": "[encoded data removed]",
            "text/plain": [
              "<Figure size 432x432 with 3 Axes>"
            ]
          },
          "metadata": {
            "tags": []
          }
        }
      ]
    },
    {
      "cell_type": "code",
      "metadata": {
        "id": "o_HFmk4sbx0P",
        "colab_type": "code",
        "outputId": "a73532bd-78ee-440d-bcd8-49f9c7c03db3",
        "colab": {
          "base_uri": "https://localhost:8080/",
          "height": 356
        }
      },
      "source": [
        "popular_products = pd.DataFrame(new_df.groupby('productId')['Rating'].count())\n",
        "most_popular = popular_products.sort_values('Rating', ascending=False)\n",
        "most_popular.head(30).plot(kind = \"bar\")"
      ],
      "execution_count": 42,
      "outputs": [
        {
          "output_type": "execute_result",
          "data": {
            "text/plain": [
              "<matplotlib.axes._subplots.AxesSubplot at 0x7f5dd708beb8>"
            ]
          },
          "metadata": {
            "tags": []
          },
          "execution_count": 42
        },
        {
          "output_type": "display_data",
          "data": {
            "image/png": "[encoded data removed]",
            "text/plain": [
              "<Figure size 432x288 with 1 Axes>"
            ]
          },
          "metadata": {
            "tags": []
          }
        }
      ]
    },
    {
      "cell_type": "markdown",
      "metadata": {
        "id": "kE277QD1cQDV",
        "colab_type": "text"
      },
      "source": [
        "#**Collaborative filtering (Item-Item recommedation)**\n",
        "Collaborative filtering is commonly used for recommender systems. These techniques aim to fill in the missing entries of a user-item association matrix. We are going to use collaborative filtering (CF) approach. CF is based on the idea that the best recommendations come from people who have similar tastes. In other words, it uses historical item ratings of like-minded people to predict how someone would rate an item.Collaborative filtering has two sub-categories that are generally called memory based and model-based approaches."
      ]
    },
    {
      "cell_type": "code",
      "metadata": {
        "id": "MFbE7UmHccpi",
        "colab_type": "code",
        "colab": {
          "base_uri": "https://localhost:8080/",
          "height": 119
        },
        "outputId": "507b6bab-b3c3-406c-c58c-0381a58f8565"
      },
      "source": [
        "pip install surprise"
      ],
      "execution_count": 43,
      "outputs": [
        {
          "output_type": "stream",
          "text": [
            "Requirement already satisfied: surprise in /usr/local/lib/python3.6/dist-packages (0.1)\n",
            "Requirement already satisfied: scikit-surprise in /usr/local/lib/python3.6/dist-packages (from surprise) (1.1.0)\n",
            "Requirement already satisfied: joblib>=0.11 in /usr/local/lib/python3.6/dist-packages (from scikit-surprise->surprise) (0.14.1)\n",
            "Requirement already satisfied: numpy>=1.11.2 in /usr/local/lib/python3.6/dist-packages (from scikit-surprise->surprise) (1.18.2)\n",
            "Requirement already satisfied: scipy>=1.0.0 in /usr/local/lib/python3.6/dist-packages (from scikit-surprise->surprise) (1.4.1)\n",
            "Requirement already satisfied: six>=1.10.0 in /usr/local/lib/python3.6/dist-packages (from scikit-surprise->surprise) (1.12.0)\n"
          ],
          "name": "stdout"
        }
      ]
    },
    {
      "cell_type": "code",
      "metadata": {
        "id": "f6pbW6gOJoOE",
        "colab_type": "code",
        "colab": {}
      },
      "source": [
        "from surprise import KNNWithMeans\n",
        "from surprise import Dataset\n",
        "from surprise import accuracy\n",
        "from surprise import Reader\n",
        "import os\n",
        "from surprise.model_selection import train_test_split"
      ],
      "execution_count": 0,
      "outputs": []
    },
    {
      "cell_type": "code",
      "metadata": {
        "id": "BKw2twOUJ1hr",
        "colab_type": "code",
        "colab": {}
      },
      "source": [
        "#Reading the dataset\n",
        "reader = Reader(rating_scale=(1, 5))\n",
        "data = Dataset.load_from_df(new_df,reader)"
      ],
      "execution_count": 0,
      "outputs": []
    },
    {
      "cell_type": "code",
      "metadata": {
        "id": "BA0hHP-fTyuY",
        "colab_type": "code",
        "colab": {}
      },
      "source": [
        "#Splitting the dataset\n",
        "trainset, testset = train_test_split(data, test_size=0.3,random_state=10)"
      ],
      "execution_count": 0,
      "outputs": []
    },
    {
      "cell_type": "code",
      "metadata": {
        "id": "Cmb_yhc8T9zo",
        "colab_type": "code",
        "colab": {
          "base_uri": "https://localhost:8080/",
          "height": 85
        },
        "outputId": "943a4109-e97e-43f1-f2e2-2e0cf9005403"
      },
      "source": [
        "# Use user_based true/false to switch between user-based or item-based collaborative filtering\n",
        "algo = KNNWithMeans(k=5, sim_options={'name': 'pearson_baseline', 'user_based': False})\n",
        "algo.fit(trainset)"
      ],
      "execution_count": 49,
      "outputs": [
        {
          "output_type": "stream",
          "text": [
            "Estimating biases using als...\n",
            "Computing the pearson_baseline similarity matrix...\n",
            "Done computing similarity matrix.\n"
          ],
          "name": "stdout"
        },
        {
          "output_type": "execute_result",
          "data": {
            "text/plain": [
              "<surprise.prediction_algorithms.knns.KNNWithMeans at 0x7f5dd75893c8>"
            ]
          },
          "metadata": {
            "tags": []
          },
          "execution_count": 49
        }
      ]
    },
    {
      "cell_type": "code",
      "metadata": {
        "id": "ESWwivQZUjUy",
        "colab_type": "code",
        "colab": {}
      },
      "source": [
        "# run the trained model against the testset\n",
        "test_pred = algo.test(testset)"
      ],
      "execution_count": 0,
      "outputs": []
    },
    {
      "cell_type": "code",
      "metadata": {
        "id": "GYc4MQ3jU-6d",
        "colab_type": "code",
        "colab": {
          "base_uri": "https://localhost:8080/",
          "height": 1000
        },
        "outputId": "0a3bbd25-24db-4c8e-860a-b5192e74ae1c"
      },
      "source": [
        "test_pred"
      ],
      "execution_count": 51,
      "outputs": [
        {
          "output_type": "execute_result",
          "data": {
            "text/plain": [
              "[Prediction(uid='A3KWVINP3O2JU', iid='B00004ZCJE', r_ui=4.0, est=4.144063027574564, details={'actual_k': 0, 'was_impossible': False}),\n",
              " Prediction(uid='A3TD42X3DNZT7T', iid='B000075UZ7', r_ui=5.0, est=3.6021505376344085, details={'actual_k': 0, 'was_impossible': False}),\n",
              " Prediction(uid='A1ZJ3221S7DYSQ', iid='B00006HCIX', r_ui=2.0, est=4.064259962582604, details={'was_impossible': True, 'reason': 'User and/or item is unkown.'}),\n",
              " Prediction(uid='A2Z9H86XRXBVEI', iid='B0002OKCX4', r_ui=4.0, est=4.476190476190476, details={'actual_k': 0, 'was_impossible': False}),\n",
              " Prediction(uid='ADXKYE179RH23', iid='B00005N6KG', r_ui=5.0, est=4.064259962582604, details={'was_impossible': True, 'reason': 'User and/or item is unkown.'}),\n",
              " Prediction(uid='A2HAVQSKXK1Z50', iid='B0002XQDSS', r_ui=5.0, est=4.138121546961326, details={'actual_k': 0, 'was_impossible': False}),\n",
              " Prediction(uid='A3C23R5W1RJLJC', iid='B00003006E', r_ui=3.0, est=4.064259962582604, details={'was_impossible': True, 'reason': 'User and/or item is unkown.'}),\n",
              " Prediction(uid='APZCDO59WKLN8', iid='B00005LENO', r_ui=5.0, est=4.064259962582604, details={'was_impossible': True, 'reason': 'User and/or item is unkown.'}),\n",
              " Prediction(uid='A3THKM5QX5XBKQ', iid='B00000K135', r_ui=3.0, est=4.064259962582604, details={'was_impossible': True, 'reason': 'User and/or item is unkown.'}),\n",
              " Prediction(uid='A32JVLNTF381Y0', iid='B000065UDU', r_ui=5.0, est=4.064259962582604, details={'was_impossible': True, 'reason': 'User and/or item is unkown.'}),\n",
              " Prediction(uid='A20L70BH8FCEQJ', iid='B0002JFN10', r_ui=5.0, est=4.064259962582604, details={'was_impossible': True, 'reason': 'User and/or item is unkown.'}),\n",
              " Prediction(uid='A1L12CXOTSBVLF', iid='B0001VWHH2', r_ui=5.0, est=4.064259962582604, details={'was_impossible': True, 'reason': 'User and/or item is unkown.'}),\n",
              " Prediction(uid='AXF7HOXQDTVOQ', iid='B00007KDVI', r_ui=5.0, est=3.574519230769231, details={'actual_k': 0, 'was_impossible': False}),\n",
              " Prediction(uid='A392MLG4RY3J0K', iid='B0002YY9PG', r_ui=4.0, est=4.064259962582604, details={'was_impossible': True, 'reason': 'User and/or item is unkown.'}),\n",
              " Prediction(uid='AKS1O93EOA3QW', iid='B0001FV3C8', r_ui=2.0, est=4.247619047619048, details={'actual_k': 0, 'was_impossible': False}),\n",
              " Prediction(uid='A3DQUI3Y7SKWP2', iid='B0002VM8RU', r_ui=4.0, est=4.064259962582604, details={'was_impossible': True, 'reason': 'User and/or item is unkown.'}),\n",
              " Prediction(uid='A25KDJ7OHGFRCA', iid='B00009KH63', r_ui=5.0, est=4.064259962582604, details={'was_impossible': True, 'reason': 'User and/or item is unkown.'}),\n",
              " Prediction(uid='A1CXAMGBU1IMAD', iid='B0002IHP58', r_ui=5.0, est=4.064259962582604, details={'was_impossible': True, 'reason': 'User and/or item is unkown.'}),\n",
              " Prediction(uid='A24MS2W8CCSMDS', iid='B00009UT9B', r_ui=5.0, est=4.064259962582604, details={'was_impossible': True, 'reason': 'User and/or item is unkown.'}),\n",
              " Prediction(uid='A3SR370WH2WOVS', iid='B000652M6Y', r_ui=3.0, est=4.064259962582604, details={'was_impossible': True, 'reason': 'User and/or item is unkown.'}),\n",
              " Prediction(uid='A2DM5L6UFIXTGH', iid='B0002L5R78', r_ui=1.0, est=4.064259962582604, details={'was_impossible': True, 'reason': 'User and/or item is unkown.'}),\n",
              " Prediction(uid='A2ZUC0NLE0VODE', iid='B0002EXJ8Y', r_ui=5.0, est=4.064259962582604, details={'was_impossible': True, 'reason': 'User and/or item is unkown.'}),\n",
              " Prediction(uid='AJWGB3U7SBVI', iid='B00007M1TZ', r_ui=4.0, est=4.064259962582604, details={'was_impossible': True, 'reason': 'User and/or item is unkown.'}),\n",
              " Prediction(uid='A1TA30CWJR7TKV', iid='B00005T3BD', r_ui=3.0, est=4.064259962582604, details={'was_impossible': True, 'reason': 'User and/or item is unkown.'}),\n",
              " Prediction(uid='A20T5AKP4R9L5W', iid='B00066IJPQ', r_ui=1.0, est=4.064259962582604, details={'was_impossible': True, 'reason': 'User and/or item is unkown.'}),\n",
              " Prediction(uid='A3PQDACWPH1BTY', iid='B0002MQGOK', r_ui=5.0, est=4.064259962582604, details={'was_impossible': True, 'reason': 'User and/or item is unkown.'}),\n",
              " Prediction(uid='A2ZMT9TKCXA9BH', iid='B00004WCID', r_ui=5.0, est=4.6106870229007635, details={'actual_k': 0, 'was_impossible': False}),\n",
              " Prediction(uid='A3C6FDYLX7S36X', iid='B0002KVQBA', r_ui=5.0, est=4.064259962582604, details={'was_impossible': True, 'reason': 'User and/or item is unkown.'}),\n",
              " Prediction(uid='A14924SGLTJUUZ', iid='B0001F22PA', r_ui=4.0, est=4.064259962582604, details={'was_impossible': True, 'reason': 'User and/or item is unkown.'}),\n",
              " Prediction(uid='A158ZTHX7DLCTP', iid='B0002QLQ96', r_ui=1.0, est=4.064259962582604, details={'was_impossible': True, 'reason': 'User and/or item is unkown.'}),\n",
              " Prediction(uid='A4H4KYSM2KQ85', iid='B00005T39Y', r_ui=5.0, est=4.064259962582604, details={'was_impossible': True, 'reason': 'User and/or item is unkown.'}),\n",
              " Prediction(uid='A3KXKOK77BJRLD', iid='B00005N5WU', r_ui=4.0, est=3.8292682926829267, details={'actual_k': 0, 'was_impossible': False}),\n",
              " Prediction(uid='A2EFJHU5C2U9GM', iid='B0002E3FBA', r_ui=5.0, est=4.064259962582604, details={'was_impossible': True, 'reason': 'User and/or item is unkown.'}),\n",
              " Prediction(uid='A3K3OTBI7IN29R', iid='B00008AWKZ', r_ui=5.0, est=4.064259962582604, details={'was_impossible': True, 'reason': 'User and/or item is unkown.'}),\n",
              " Prediction(uid='A3TWAELSS9LLS5', iid='B00006RSQU', r_ui=4.0, est=4.064259962582604, details={'was_impossible': True, 'reason': 'User and/or item is unkown.'}),\n",
              " Prediction(uid='A3ALRUMB03FNNW', iid='B0001FTVEK', r_ui=5.0, est=4.064259962582604, details={'was_impossible': True, 'reason': 'User and/or item is unkown.'}),\n",
              " Prediction(uid='A1A2ZTS7BDNRPP', iid='B000063TJY', r_ui=4.0, est=4.064259962582604, details={'was_impossible': True, 'reason': 'User and/or item is unkown.'}),\n",
              " Prediction(uid='A1NOH74RODFZJH', iid='B000095SB6', r_ui=4.0, est=3.5830258302583027, details={'actual_k': 0, 'was_impossible': False}),\n",
              " Prediction(uid='APRKG7DIXKCDJ', iid='B00007IFJY', r_ui=5.0, est=4.064259962582604, details={'was_impossible': True, 'reason': 'User and/or item is unkown.'}),\n",
              " Prediction(uid='A33ONA2L7RHKZ6', iid='B00008SCFL', r_ui=1.0, est=4.064259962582604, details={'was_impossible': True, 'reason': 'User and/or item is unkown.'}),\n",
              " Prediction(uid='AIF8WJWC90VRI', iid='B0000510T7', r_ui=2.0, est=4.064259962582604, details={'was_impossible': True, 'reason': 'User and/or item is unkown.'}),\n",
              " Prediction(uid='AOLZ8K5EBK47M', iid='B0002AZNKA', r_ui=5.0, est=4.064259962582604, details={'was_impossible': True, 'reason': 'User and/or item is unkown.'}),\n",
              " Prediction(uid='AV22NJ70L2ENJ', iid='B0002375F8', r_ui=5.0, est=4.064259962582604, details={'was_impossible': True, 'reason': 'User and/or item is unkown.'}),\n",
              " Prediction(uid='AOW0P77WJ9JL9', iid='B00008W7LS', r_ui=5.0, est=4.064259962582604, details={'was_impossible': True, 'reason': 'User and/or item is unkown.'}),\n",
              " Prediction(uid='A16I88BZXVNPOM', iid='B00009UHXR', r_ui=4.0, est=4.064259962582604, details={'was_impossible': True, 'reason': 'User and/or item is unkown.'}),\n",
              " Prediction(uid='A3KJVEPNMTMQPK', iid='B00005NIMR', r_ui=3.0, est=4.064259962582604, details={'was_impossible': True, 'reason': 'User and/or item is unkown.'}),\n",
              " Prediction(uid='A1ZTR0FR5AW9B4', iid='B0002A4M4I', r_ui=2.0, est=4.148148148148148, details={'actual_k': 0, 'was_impossible': False}),\n",
              " Prediction(uid='A3GPL01NDHWDYD', iid='B0000TW3N8', r_ui=3.0, est=4.064259962582604, details={'was_impossible': True, 'reason': 'User and/or item is unkown.'}),\n",
              " Prediction(uid='A1ZJP8TZ8SEJ5V', iid='B0002Y5WZM', r_ui=5.0, est=4.064259962582604, details={'was_impossible': True, 'reason': 'User and/or item is unkown.'}),\n",
              " Prediction(uid='A3HCXA9WZB3TMT', iid='B000068P8R', r_ui=4.0, est=4.064259962582604, details={'was_impossible': True, 'reason': 'User and/or item is unkown.'}),\n",
              " Prediction(uid='A35WM8XO5J7XSS', iid='B00066EK3G', r_ui=3.0, est=4.066666666666666, details={'actual_k': 0, 'was_impossible': False}),\n",
              " Prediction(uid='A28SWRS2G1B7W2', iid='B00009R6TA', r_ui=5.0, est=5, details={'actual_k': 1, 'was_impossible': False}),\n",
              " Prediction(uid='A31I70CMLS8RLQ', iid='B00007M1TZ', r_ui=5.0, est=4.064259962582604, details={'was_impossible': True, 'reason': 'User and/or item is unkown.'}),\n",
              " Prediction(uid='AQLJSM0B7MVAX', iid='B00028ONIA', r_ui=4.0, est=4.064259962582604, details={'was_impossible': True, 'reason': 'User and/or item is unkown.'}),\n",
              " Prediction(uid='A37GWH6KHMJAWX', iid='B00008UA9I', r_ui=4.0, est=4.064259962582604, details={'was_impossible': True, 'reason': 'User and/or item is unkown.'}),\n",
              " Prediction(uid='A30UDLQK3X6RTL', iid='B000068O3S', r_ui=5.0, est=4.116666666666666, details={'actual_k': 0, 'was_impossible': False}),\n",
              " Prediction(uid='A2XA3RHDTS64IA', iid='B0000ALPBA', r_ui=5.0, est=4.064259962582604, details={'was_impossible': True, 'reason': 'User and/or item is unkown.'}),\n",
              " Prediction(uid='A16U2FZ686BAF', iid='B000204SWE', r_ui=4.0, est=4.064259962582604, details={'was_impossible': True, 'reason': 'User and/or item is unkown.'}),\n",
              " Prediction(uid='A2YJZJ29NAV7MU', iid='B0002ZW5W4', r_ui=3.0, est=4.064259962582604, details={'was_impossible': True, 'reason': 'User and/or item is unkown.'}),\n",
              " Prediction(uid='A3V39GRK6ULMWW', iid='B0001DBEM4', r_ui=5.0, est=4.064259962582604, details={'was_impossible': True, 'reason': 'User and/or item is unkown.'}),\n",
              " Prediction(uid='A3BY557W2ENKKY', iid='B00002ST80', r_ui=5.0, est=4.064259962582604, details={'was_impossible': True, 'reason': 'User and/or item is unkown.'}),\n",
              " Prediction(uid='A21M449U9ITKCI', iid='B0002L5R78', r_ui=2.0, est=4.064259962582604, details={'was_impossible': True, 'reason': 'User and/or item is unkown.'}),\n",
              " Prediction(uid='A32DTH9TSA47PG', iid='B00004YBVE', r_ui=1.0, est=4.064259962582604, details={'was_impossible': True, 'reason': 'User and/or item is unkown.'}),\n",
              " Prediction(uid='A3A2QISZ44247F', iid='B00000JDF5', r_ui=5.0, est=4.064259962582604, details={'was_impossible': True, 'reason': 'User and/or item is unkown.'}),\n",
              " Prediction(uid='A8409BV2J2V3C', iid='B00008W2LC', r_ui=5.0, est=4.064259962582604, details={'was_impossible': True, 'reason': 'User and/or item is unkown.'}),\n",
              " Prediction(uid='AZ5WZ0KJKPFLC', iid='B00004Z5D1', r_ui=4.0, est=4.439655172413793, details={'actual_k': 0, 'was_impossible': False}),\n",
              " Prediction(uid='A3M1BNMWE8A633', iid='B0000691IO', r_ui=5.0, est=4.634146341463414, details={'actual_k': 0, 'was_impossible': False}),\n",
              " Prediction(uid='A14250RW2CGT6R', iid='B000066E6Y', r_ui=4.0, est=4.064259962582604, details={'was_impossible': True, 'reason': 'User and/or item is unkown.'}),\n",
              " Prediction(uid='A239J0DZ2OJD43', iid='B000062VUO', r_ui=5.0, est=4.064259962582604, details={'was_impossible': True, 'reason': 'User and/or item is unkown.'}),\n",
              " Prediction(uid='A232MB3FW6QMKG', iid='B00004Z5KA', r_ui=5.0, est=4.064259962582604, details={'was_impossible': True, 'reason': 'User and/or item is unkown.'}),\n",
              " Prediction(uid='A22TJPZOUI9DE1', iid='B00000JDF5', r_ui=5.0, est=4.609625668449198, details={'actual_k': 0, 'was_impossible': False}),\n",
              " Prediction(uid='A3J9BLRGB9XQYN', iid='B0002WTK48', r_ui=4.0, est=4.064259962582604, details={'was_impossible': True, 'reason': 'User and/or item is unkown.'}),\n",
              " Prediction(uid='A3RN25CK9B9LMO', iid='B00005N6KG', r_ui=5.0, est=4.064259962582604, details={'was_impossible': True, 'reason': 'User and/or item is unkown.'}),\n",
              " Prediction(uid='A32XFBVRCBTBTE', iid='B0000AKVJC', r_ui=1.0, est=4.064259962582604, details={'was_impossible': True, 'reason': 'User and/or item is unkown.'}),\n",
              " Prediction(uid='AEMW91HPTH3S7', iid='B00004SABB', r_ui=5.0, est=4.064259962582604, details={'was_impossible': True, 'reason': 'User and/or item is unkown.'}),\n",
              " Prediction(uid='AQSYD88HG1IJR', iid='B00008NJEP', r_ui=5.0, est=4.064259962582604, details={'was_impossible': True, 'reason': 'User and/or item is unkown.'}),\n",
              " Prediction(uid='A3QDA8JXVINTGA', iid='B000065BPB', r_ui=4.0, est=4.064259962582604, details={'was_impossible': True, 'reason': 'User and/or item is unkown.'}),\n",
              " Prediction(uid='A1Y9WAW80243DP', iid='B00004TS16', r_ui=1.0, est=4.064259962582604, details={'was_impossible': True, 'reason': 'User and/or item is unkown.'}),\n",
              " Prediction(uid='A2H0V0W30F1T9W', iid='B0000642RX', r_ui=3.0, est=4.064259962582604, details={'was_impossible': True, 'reason': 'User and/or item is unkown.'}),\n",
              " Prediction(uid='A2KOTDN2G6Y2YC', iid='B00007EDZG', r_ui=5.0, est=4.064259962582604, details={'was_impossible': True, 'reason': 'User and/or item is unkown.'}),\n",
              " Prediction(uid='A2WE1FKSL1I38D', iid='B000065BP9', r_ui=3.0, est=4.064259962582604, details={'was_impossible': True, 'reason': 'User and/or item is unkown.'}),\n",
              " Prediction(uid='A13E08777SGIBC', iid='B0000DB4D1', r_ui=1.0, est=4.064259962582604, details={'was_impossible': True, 'reason': 'User and/or item is unkown.'}),\n",
              " Prediction(uid='A3EO4MBQ3WT59Z', iid='B000117DF8', r_ui=2.0, est=4.064259962582604, details={'was_impossible': True, 'reason': 'User and/or item is unkown.'}),\n",
              " Prediction(uid='AZ62TAW1ZT1US', iid='B00000JSGF', r_ui=5.0, est=4.064259962582604, details={'was_impossible': True, 'reason': 'User and/or item is unkown.'}),\n",
              " Prediction(uid='A3RU3MGA3D03L0', iid='B00005UKBG', r_ui=4.0, est=4.064259962582604, details={'was_impossible': True, 'reason': 'User and/or item is unkown.'}),\n",
              " Prediction(uid='A2P83WBPGXNUW', iid='B0000A2QBP', r_ui=4.0, est=4.064259962582604, details={'was_impossible': True, 'reason': 'User and/or item is unkown.'}),\n",
              " Prediction(uid='A1DSDDWMBT7D4Y', iid='B00004TL5Q', r_ui=5.0, est=5, details={'actual_k': 1, 'was_impossible': False}),\n",
              " Prediction(uid='A402IK8HX9SBN', iid='B0002R282O', r_ui=5.0, est=4.536842105263158, details={'actual_k': 0, 'was_impossible': False}),\n",
              " Prediction(uid='A3L0OZ1CG1ZTNO', iid='B000652SOK', r_ui=4.0, est=4.064259962582604, details={'was_impossible': True, 'reason': 'User and/or item is unkown.'}),\n",
              " Prediction(uid='A10L4XFT68M4DJ', iid='B0001FSCZO', r_ui=4.0, est=4.064259962582604, details={'was_impossible': True, 'reason': 'User and/or item is unkown.'}),\n",
              " Prediction(uid='A3U4CNMR8Z3S23', iid='B0001G6UES', r_ui=5.0, est=4.064259962582604, details={'was_impossible': True, 'reason': 'User and/or item is unkown.'}),\n",
              " Prediction(uid='A2YSQQQAS5ZCNP', iid='B00065L5TE', r_ui=5.0, est=4.064259962582604, details={'was_impossible': True, 'reason': 'User and/or item is unkown.'}),\n",
              " Prediction(uid='A34SYB32JWMWGO', iid='B00007M1TZ', r_ui=5.0, est=4.064259962582604, details={'was_impossible': True, 'reason': 'User and/or item is unkown.'}),\n",
              " Prediction(uid='A13R0XK64GF6F1', iid='B00000K4KH', r_ui=5.0, est=4.064259962582604, details={'was_impossible': True, 'reason': 'User and/or item is unkown.'}),\n",
              " Prediction(uid='A26ESCYUZKWF5W', iid='B000652M6Y', r_ui=1.0, est=4.064259962582604, details={'was_impossible': True, 'reason': 'User and/or item is unkown.'}),\n",
              " Prediction(uid='A1VR1A29J9LW58', iid='B000083CUA', r_ui=4.0, est=4.064259962582604, details={'was_impossible': True, 'reason': 'User and/or item is unkown.'}),\n",
              " Prediction(uid='A1JHCWINVVB807', iid='B000092YPR', r_ui=5.0, est=4.064259962582604, details={'was_impossible': True, 'reason': 'User and/or item is unkown.'}),\n",
              " Prediction(uid='A1GE686DFUPSHD', iid='B00017LSPI', r_ui=5.0, est=4.064259962582604, details={'was_impossible': True, 'reason': 'User and/or item is unkown.'}),\n",
              " Prediction(uid='A1FHHUQJK141VN', iid='B000089GN2', r_ui=2.0, est=4.064259962582604, details={'was_impossible': True, 'reason': 'User and/or item is unkown.'}),\n",
              " Prediction(uid='A8MUEGKJIFYJK', iid='B00007KDVK', r_ui=5.0, est=4.064259962582604, details={'was_impossible': True, 'reason': 'User and/or item is unkown.'}),\n",
              " Prediction(uid='AS9GZOUM5A7F8', iid='B0002MQGOK', r_ui=5.0, est=4.064259962582604, details={'was_impossible': True, 'reason': 'User and/or item is unkown.'}),\n",
              " Prediction(uid='A3JZ1ETD8GC8OL', iid='B0002Y5WZM', r_ui=5.0, est=4.064259962582604, details={'was_impossible': True, 'reason': 'User and/or item is unkown.'}),\n",
              " Prediction(uid='A2QE9Z2C12JXYK', iid='9575871979', r_ui=5.0, est=4.064259962582604, details={'was_impossible': True, 'reason': 'User and/or item is unkown.'}),\n",
              " Prediction(uid='A2HV7RYD2T30DD', iid='B000065BP9', r_ui=4.0, est=4.244610281923714, details={'actual_k': 0, 'was_impossible': False}),\n",
              " Prediction(uid='ACS6RE4KQNFB0', iid='B00005AR4L', r_ui=5.0, est=4.064259962582604, details={'was_impossible': True, 'reason': 'User and/or item is unkown.'}),\n",
              " Prediction(uid='A1DPOLT4I1OX4Q', iid='B0002JTD2K', r_ui=4.0, est=4.064259962582604, details={'was_impossible': True, 'reason': 'User and/or item is unkown.'}),\n",
              " Prediction(uid='A4BLZ3ZNJ0YV2', iid='B0002L5R78', r_ui=4.0, est=4.064259962582604, details={'was_impossible': True, 'reason': 'User and/or item is unkown.'}),\n",
              " Prediction(uid='A7LO9BYQZ49HR', iid='B00004TX6Z', r_ui=5.0, est=4.064259962582604, details={'was_impossible': True, 'reason': 'User and/or item is unkown.'}),\n",
              " Prediction(uid='A1TB1YN5LQHVAE', iid='B00005QBUU', r_ui=5.0, est=4.064259962582604, details={'was_impossible': True, 'reason': 'User and/or item is unkown.'}),\n",
              " Prediction(uid='A3EI3D6P7ZOK5N', iid='B000092TT0', r_ui=5.0, est=4.064259962582604, details={'was_impossible': True, 'reason': 'User and/or item is unkown.'}),\n",
              " Prediction(uid='AQMMXE3GFWZF8', iid='B0001F22R8', r_ui=4.0, est=4.064259962582604, details={'was_impossible': True, 'reason': 'User and/or item is unkown.'}),\n",
              " Prediction(uid='A3S5MP8SZMXH8B', iid='B0002EXJ98', r_ui=2.0, est=4.064259962582604, details={'was_impossible': True, 'reason': 'User and/or item is unkown.'}),\n",
              " Prediction(uid='ANYXTIY29PR1M', iid='B0000CEPE8', r_ui=2.0, est=4.064259962582604, details={'was_impossible': True, 'reason': 'User and/or item is unkown.'}),\n",
              " Prediction(uid='APQ7N6F43K5VP', iid='B0002MQGOK', r_ui=4.0, est=4.064259962582604, details={'was_impossible': True, 'reason': 'User and/or item is unkown.'}),\n",
              " Prediction(uid='A3HQ59ZP8MTVUJ', iid='B00001P4ZH', r_ui=5.0, est=4.064259962582604, details={'was_impossible': True, 'reason': 'User and/or item is unkown.'}),\n",
              " Prediction(uid='A37J4291SDK5QQ', iid='B00066EK40', r_ui=5.0, est=4.064259962582604, details={'was_impossible': True, 'reason': 'User and/or item is unkown.'}),\n",
              " Prediction(uid='A1BEYJZCL0FMZ6', iid='B0002Y5WZM', r_ui=5.0, est=4.064259962582604, details={'was_impossible': True, 'reason': 'User and/or item is unkown.'}),\n",
              " Prediction(uid='A1GC3RKKFS6AS4', iid='B00008SCFL', r_ui=1.0, est=4.064259962582604, details={'was_impossible': True, 'reason': 'User and/or item is unkown.'}),\n",
              " Prediction(uid='A2PMT5MGXPVPNY', iid='B00068E56G', r_ui=5.0, est=4.064259962582604, details={'was_impossible': True, 'reason': 'User and/or item is unkown.'}),\n",
              " Prediction(uid='A2BKBA60FKZYTD', iid='B0000AI0N1', r_ui=5.0, est=4.064259962582604, details={'was_impossible': True, 'reason': 'User and/or item is unkown.'}),\n",
              " Prediction(uid='AZRGD83E7MY7Z', iid='B00005LEN4', r_ui=5.0, est=4.064259962582604, details={'was_impossible': True, 'reason': 'User and/or item is unkown.'}),\n",
              " Prediction(uid='A133MO8HMK2THM', iid='B00005UOS4', r_ui=1.0, est=4.064259962582604, details={'was_impossible': True, 'reason': 'User and/or item is unkown.'}),\n",
              " Prediction(uid='A17RUKDSXN6J5J', iid='B00004SB92', r_ui=2.0, est=4.064259962582604, details={'was_impossible': True, 'reason': 'User and/or item is unkown.'}),\n",
              " Prediction(uid='A2ZL6XUHMT8RNW', iid='B000026D8E', r_ui=5.0, est=4.064259962582604, details={'was_impossible': True, 'reason': 'User and/or item is unkown.'}),\n",
              " Prediction(uid='A39DZLN4EP07DR', iid='B0001VGFKW', r_ui=5.0, est=4.064259962582604, details={'was_impossible': True, 'reason': 'User and/or item is unkown.'}),\n",
              " Prediction(uid='A2P80C1QWC0OQX', iid='B000065BP9', r_ui=4.0, est=4.244610281923714, details={'actual_k': 0, 'was_impossible': False}),\n",
              " Prediction(uid='APKUDFS3IZ6N0', iid='B000629GES', r_ui=4.0, est=4.064259962582604, details={'was_impossible': True, 'reason': 'User and/or item is unkown.'}),\n",
              " Prediction(uid='A2IBI8RPTX26SV', iid='B00005T3N3', r_ui=4.0, est=4.064259962582604, details={'was_impossible': True, 'reason': 'User and/or item is unkown.'}),\n",
              " Prediction(uid='A2AQKN779JFD6Z', iid='B00009R6VO', r_ui=5.0, est=4.064259962582604, details={'was_impossible': True, 'reason': 'User and/or item is unkown.'}),\n",
              " Prediction(uid='A2MGJ2LB5ZJ7E', iid='B00009R86L', r_ui=5.0, est=4.064259962582604, details={'was_impossible': True, 'reason': 'User and/or item is unkown.'}),\n",
              " Prediction(uid='A36N0KZW36T4XN', iid='B00009UT9B', r_ui=4.0, est=4.064259962582604, details={'was_impossible': True, 'reason': 'User and/or item is unkown.'}),\n",
              " Prediction(uid='A7D39HHCNZTZK', iid='B00004SB92', r_ui=5.0, est=4.064259962582604, details={'was_impossible': True, 'reason': 'User and/or item is unkown.'}),\n",
              " Prediction(uid='A1GZUQV2EEDIYU', iid='B00006B9W2', r_ui=5.0, est=4.064259962582604, details={'was_impossible': True, 'reason': 'User and/or item is unkown.'}),\n",
              " Prediction(uid='A1D5N4T7T22Z8U', iid='B00006HYKM', r_ui=3.0, est=3.493333333333333, details={'actual_k': 0, 'was_impossible': False}),\n",
              " Prediction(uid='A3CO1JK5J5D9IP', iid='B00007FGU7', r_ui=5.0, est=3.7245989304812834, details={'actual_k': 0, 'was_impossible': False}),\n",
              " Prediction(uid='A1F4FPZ9GWPEJ8', iid='B00005A1K1', r_ui=1.0, est=4.064259962582604, details={'was_impossible': True, 'reason': 'User and/or item is unkown.'}),\n",
              " Prediction(uid='A1W5MRSVLXNW79', iid='B0001A99LK', r_ui=5.0, est=4.064259962582604, details={'was_impossible': True, 'reason': 'User and/or item is unkown.'}),\n",
              " Prediction(uid='ATCAT437J0EU8', iid='B0002H4YUI', r_ui=2.0, est=4.064259962582604, details={'was_impossible': True, 'reason': 'User and/or item is unkown.'}),\n",
              " Prediction(uid='A11GTZDN7FTVTH', iid='B0000510ZO', r_ui=5.0, est=4.064259962582604, details={'was_impossible': True, 'reason': 'User and/or item is unkown.'}),\n",
              " Prediction(uid='A9ICKKUDE3N5N', iid='B0002BEQJ8', r_ui=3.0, est=4.064259962582604, details={'was_impossible': True, 'reason': 'User and/or item is unkown.'}),\n",
              " Prediction(uid='ANF4FWMIGGTHW', iid='B00030097G', r_ui=5.0, est=4.064259962582604, details={'was_impossible': True, 'reason': 'User and/or item is unkown.'}),\n",
              " Prediction(uid='A3MGFGD7EBO14D', iid='B0002S30RU', r_ui=1.0, est=4.064259962582604, details={'was_impossible': True, 'reason': 'User and/or item is unkown.'}),\n",
              " Prediction(uid='ALKYZWZX8CVTC', iid='B00005NWR0', r_ui=3.0, est=4.064259962582604, details={'was_impossible': True, 'reason': 'User and/or item is unkown.'}),\n",
              " Prediction(uid='ALIDGWFTNIUMV', iid='B0002BEQN4', r_ui=5.0, est=4.331521739130435, details={'actual_k': 0, 'was_impossible': False}),\n",
              " Prediction(uid='A189V8ODGC7WF5', iid='B0002MRO2S', r_ui=5.0, est=4.064259962582604, details={'was_impossible': True, 'reason': 'User and/or item is unkown.'}),\n",
              " Prediction(uid='ACSVZH5V1W1ND', iid='B0002GDIII', r_ui=5.0, est=4.064259962582604, details={'was_impossible': True, 'reason': 'User and/or item is unkown.'}),\n",
              " Prediction(uid='A253X5E4L0DM0W', iid='B0002J26LA', r_ui=5.0, est=4.2631578947368425, details={'actual_k': 0, 'was_impossible': False}),\n",
              " Prediction(uid='A3E0UUTSN81BUQ', iid='B00005125T', r_ui=1.0, est=4.064259962582604, details={'was_impossible': True, 'reason': 'User and/or item is unkown.'}),\n",
              " Prediction(uid='A12C9F06T9VDGB', iid='B0000669BN', r_ui=5.0, est=4.064259962582604, details={'was_impossible': True, 'reason': 'User and/or item is unkown.'}),\n",
              " Prediction(uid='A3L5HBPTLZE1AO', iid='B000075UZ7', r_ui=5.0, est=4.064259962582604, details={'was_impossible': True, 'reason': 'User and/or item is unkown.'}),\n",
              " Prediction(uid='A15H6UY26UWXU3', iid='B0000BZL28', r_ui=5.0, est=4.064259962582604, details={'was_impossible': True, 'reason': 'User and/or item is unkown.'}),\n",
              " Prediction(uid='AXOZ610ACKS3C', iid='B00000J1QK', r_ui=5.0, est=4.064259962582604, details={'was_impossible': True, 'reason': 'User and/or item is unkown.'}),\n",
              " Prediction(uid='AMACXKD1SBM6V', iid='B00009R6TA', r_ui=5.0, est=4.477973568281938, details={'actual_k': 0, 'was_impossible': False}),\n",
              " Prediction(uid='AIRK8KHFSBGVY', iid='B00028DJTY', r_ui=5.0, est=4.064259962582604, details={'was_impossible': True, 'reason': 'User and/or item is unkown.'}),\n",
              " Prediction(uid='A1XTPUB9DF30IE', iid='B00007EDZG', r_ui=3.0, est=4.064259962582604, details={'was_impossible': True, 'reason': 'User and/or item is unkown.'}),\n",
              " Prediction(uid='A1D9HW3T93S4HU', iid='B00005LEOO', r_ui=4.0, est=4.064259962582604, details={'was_impossible': True, 'reason': 'User and/or item is unkown.'}),\n",
              " Prediction(uid='A1U8EMDWB4K6AT', iid='B0000A03CZ', r_ui=3.0, est=3.942857142857143, details={'actual_k': 0, 'was_impossible': False}),\n",
              " Prediction(uid='A211QKH0BYR6L', iid='B00006JPDF', r_ui=4.0, est=4.064259962582604, details={'was_impossible': True, 'reason': 'User and/or item is unkown.'}),\n",
              " Prediction(uid='AL2D4JFLTXFMR', iid='B0002OCF0C', r_ui=3.0, est=4.064259962582604, details={'was_impossible': True, 'reason': 'User and/or item is unkown.'}),\n",
              " Prediction(uid='A2IMRYK3XC2PPI', iid='B00006412G', r_ui=5.0, est=4.064259962582604, details={'was_impossible': True, 'reason': 'User and/or item is unkown.'}),\n",
              " Prediction(uid='A2QOG33NRD4QVG', iid='B000065BPB', r_ui=5.0, est=4.064259962582604, details={'was_impossible': True, 'reason': 'User and/or item is unkown.'}),\n",
              " Prediction(uid='AOEV1NV1T07GS', iid='B00003CWDH', r_ui=5.0, est=4.064259962582604, details={'was_impossible': True, 'reason': 'User and/or item is unkown.'}),\n",
              " Prediction(uid='A1TD29XWZSK55', iid='B0000ATNH3', r_ui=4.0, est=4.064259962582604, details={'was_impossible': True, 'reason': 'User and/or item is unkown.'}),\n",
              " Prediction(uid='AJG5WURREV8L2', iid='B00006JQ06', r_ui=4.0, est=4.064259962582604, details={'was_impossible': True, 'reason': 'User and/or item is unkown.'}),\n",
              " Prediction(uid='A2R0WRJ0502D1T', iid='B000261N6M', r_ui=4.0, est=4.064259962582604, details={'was_impossible': True, 'reason': 'User and/or item is unkown.'}),\n",
              " Prediction(uid='A2ZRQ6XQ8XNMTO', iid='B00004SABJ', r_ui=5.0, est=3.721014492753623, details={'actual_k': 0, 'was_impossible': False}),\n",
              " Prediction(uid='A2B6ZLYC70WEOZ', iid='B000652M6Y', r_ui=5.0, est=4.064259962582604, details={'was_impossible': True, 'reason': 'User and/or item is unkown.'}),\n",
              " Prediction(uid='AQQF9KFYHR990', iid='B00009UT3F', r_ui=4.0, est=4.064259962582604, details={'was_impossible': True, 'reason': 'User and/or item is unkown.'}),\n",
              " Prediction(uid='A18SPICFUVSTJC', iid='B00007EDM0', r_ui=2.0, est=4.064259962582604, details={'was_impossible': True, 'reason': 'User and/or item is unkown.'}),\n",
              " Prediction(uid='A1RG8TOP88GPQW', iid='B00005T3C8', r_ui=5.0, est=4.716763005780347, details={'actual_k': 0, 'was_impossible': False}),\n",
              " Prediction(uid='A1KDQZAH4179SK', iid='B00012FVYM', r_ui=3.0, est=4.064259962582604, details={'was_impossible': True, 'reason': 'User and/or item is unkown.'}),\n",
              " Prediction(uid='A15WLL60JXUU0M', iid='B0002MQGOU', r_ui=5.0, est=4.3355704697986575, details={'actual_k': 0, 'was_impossible': False}),\n",
              " Prediction(uid='AICUSSCEK2P4C', iid='B00001OWYM', r_ui=5.0, est=4.064259962582604, details={'was_impossible': True, 'reason': 'User and/or item is unkown.'}),\n",
              " Prediction(uid='A5MSC9VBBCYBX', iid='B00025742A', r_ui=4.0, est=4.064259962582604, details={'was_impossible': True, 'reason': 'User and/or item is unkown.'}),\n",
              " Prediction(uid='A132DP7QAIXPO5', iid='B0002L5R78', r_ui=5.0, est=4.437481077808053, details={'actual_k': 0, 'was_impossible': False}),\n",
              " Prediction(uid='A1L8VGGJST3HMI', iid='B0001FTVEK', r_ui=5.0, est=4.064259962582604, details={'was_impossible': True, 'reason': 'User and/or item is unkown.'}),\n",
              " Prediction(uid='A1KLESV3TZIRY4', iid='B0002KR9PW', r_ui=5.0, est=4.064259962582604, details={'was_impossible': True, 'reason': 'User and/or item is unkown.'}),\n",
              " Prediction(uid='A255DD2GW6IE9Y', iid='B0002Z2CYU', r_ui=5.0, est=4.064259962582604, details={'was_impossible': True, 'reason': 'User and/or item is unkown.'}),\n",
              " Prediction(uid='A3445SRT7KJ6FN', iid='B00004THCZ', r_ui=5.0, est=4.064259962582604, details={'was_impossible': True, 'reason': 'User and/or item is unkown.'}),\n",
              " Prediction(uid='A29D7JEYZDQJ51', iid='B0000EW9M8', r_ui=1.0, est=4.064259962582604, details={'was_impossible': True, 'reason': 'User and/or item is unkown.'}),\n",
              " Prediction(uid='A27YQLHSWW29PF', iid='B0000CCY7A', r_ui=3.0, est=4.064259962582604, details={'was_impossible': True, 'reason': 'User and/or item is unkown.'}),\n",
              " Prediction(uid='A3F48AV2AYPETM', iid='B00068YUPM', r_ui=3.0, est=4.064259962582604, details={'was_impossible': True, 'reason': 'User and/or item is unkown.'}),\n",
              " Prediction(uid='A2920399PUJ8NW', iid='B00000J0D2', r_ui=4.0, est=4.064259962582604, details={'was_impossible': True, 'reason': 'User and/or item is unkown.'}),\n",
              " Prediction(uid='A1K6NAM2EEQ5RR', iid='B00005T3G0', r_ui=4.0, est=4.064259962582604, details={'was_impossible': True, 'reason': 'User and/or item is unkown.'}),\n",
              " Prediction(uid='A2LVDAGMOSX9IN', iid='B0002BBP7Y', r_ui=5.0, est=4.064259962582604, details={'was_impossible': True, 'reason': 'User and/or item is unkown.'}),\n",
              " Prediction(uid='A2G4QX5F5BP60J', iid='B0002L5R78', r_ui=5.0, est=4.064259962582604, details={'was_impossible': True, 'reason': 'User and/or item is unkown.'}),\n",
              " Prediction(uid='A3S81W3DIM95W6', iid='B0002IWC9C', r_ui=2.0, est=4.064259962582604, details={'was_impossible': True, 'reason': 'User and/or item is unkown.'}),\n",
              " Prediction(uid='A3H07FO011I1P5', iid='B0000A602S', r_ui=5.0, est=4.064259962582604, details={'was_impossible': True, 'reason': 'User and/or item is unkown.'}),\n",
              " Prediction(uid='A1GMA9ZVYW0XAK', iid='B00009UT3F', r_ui=5.0, est=4.064259962582604, details={'was_impossible': True, 'reason': 'User and/or item is unkown.'}),\n",
              " Prediction(uid='A3PB65ID19UGRZ', iid='B00000J3UJ', r_ui=3.0, est=4.064259962582604, details={'was_impossible': True, 'reason': 'User and/or item is unkown.'}),\n",
              " Prediction(uid='A358FLDKUKX457', iid='B00007E7K9', r_ui=5.0, est=4.4523809523809526, details={'actual_k': 0, 'was_impossible': False}),\n",
              " Prediction(uid='A3RDXVJA8NAL3L', iid='B000233ZMU', r_ui=5.0, est=4.064259962582604, details={'was_impossible': True, 'reason': 'User and/or item is unkown.'}),\n",
              " Prediction(uid='ATX3B7T5026WM', iid='B0000BVYTV', r_ui=4.0, est=4.064259962582604, details={'was_impossible': True, 'reason': 'User and/or item is unkown.'}),\n",
              " Prediction(uid='A3KAV8RMNHEJIW', iid='B00006RVPW', r_ui=5.0, est=4.480745341614907, details={'actual_k': 0, 'was_impossible': False}),\n",
              " Prediction(uid='A3NPZ4F131MK70', iid='B00004UE2R', r_ui=5.0, est=4.064259962582604, details={'was_impossible': True, 'reason': 'User and/or item is unkown.'}),\n",
              " Prediction(uid='A1G6M86XS35YS3', iid='B000001OM5', r_ui=3.0, est=4.064259962582604, details={'was_impossible': True, 'reason': 'User and/or item is unkown.'}),\n",
              " Prediction(uid='A24G40JVQ2V2LO', iid='B0000DZFVR', r_ui=5.0, est=4.064259962582604, details={'was_impossible': True, 'reason': 'User and/or item is unkown.'}),\n",
              " Prediction(uid='AAPQIZFO3TVGD', iid='B00006LHO7', r_ui=5.0, est=4.064259962582604, details={'was_impossible': True, 'reason': 'User and/or item is unkown.'}),\n",
              " Prediction(uid='A18KFBKSE9WWD1', iid='B0001G6U7K', r_ui=1.0, est=4.064259962582604, details={'was_impossible': True, 'reason': 'User and/or item is unkown.'}),\n",
              " Prediction(uid='A1K7N2SWEZ5LFL', iid='B00001W0DG', r_ui=4.0, est=4.064259962582604, details={'was_impossible': True, 'reason': 'User and/or item is unkown.'}),\n",
              " Prediction(uid='A4CD4KZ37ADMZ', iid='B000067RWL', r_ui=5.0, est=4.064259962582604, details={'was_impossible': True, 'reason': 'User and/or item is unkown.'}),\n",
              " Prediction(uid='A3R4794K2RVU1S', iid='B00023CJI6', r_ui=5.0, est=4.0675675675675675, details={'actual_k': 0, 'was_impossible': False}),\n",
              " Prediction(uid='ABEEQI9LV7C8Z', iid='B00006HVT4', r_ui=5.0, est=4.064259962582604, details={'was_impossible': True, 'reason': 'User and/or item is unkown.'}),\n",
              " Prediction(uid='A1EOFCWE8QPNMD', iid='B000652SZO', r_ui=5.0, est=4.064259962582604, details={'was_impossible': True, 'reason': 'User and/or item is unkown.'}),\n",
              " Prediction(uid='A3B6PBHBPRRJ13', iid='B00006HOKR', r_ui=4.0, est=4.064259962582604, details={'was_impossible': True, 'reason': 'User and/or item is unkown.'}),\n",
              " Prediction(uid='A13BMR8M97C70M', iid='B00005AXHW', r_ui=5.0, est=4.064259962582604, details={'was_impossible': True, 'reason': 'User and/or item is unkown.'}),\n",
              " Prediction(uid='AV0508KTPCRY0', iid='B00009R6WO', r_ui=5.0, est=4.064259962582604, details={'was_impossible': True, 'reason': 'User and/or item is unkown.'}),\n",
              " Prediction(uid='A30J6MXJPNHCGU', iid='B00004WCIC', r_ui=5.0, est=4.064259962582604, details={'was_impossible': True, 'reason': 'User and/or item is unkown.'}),\n",
              " Prediction(uid='A2DF2EKDK3HX74', iid='B0001FV364', r_ui=5.0, est=4.064259962582604, details={'was_impossible': True, 'reason': 'User and/or item is unkown.'}),\n",
              " Prediction(uid='A2PD1E9NTF9Q2V', iid='B0001FTVEK', r_ui=2.0, est=4.064259962582604, details={'was_impossible': True, 'reason': 'User and/or item is unkown.'}),\n",
              " Prediction(uid='A1PPWIO7I1E1J5', iid='B000065BP9', r_ui=5.0, est=4.244610281923714, details={'actual_k': 0, 'was_impossible': False}),\n",
              " Prediction(uid='A3BF1JQJSH43GE', iid='B0001MMH9E', r_ui=5.0, est=4.064259962582604, details={'was_impossible': True, 'reason': 'User and/or item is unkown.'}),\n",
              " Prediction(uid='A1GF39PQTS8HG4', iid='B0001DBEM4', r_ui=4.0, est=4.064259962582604, details={'was_impossible': True, 'reason': 'User and/or item is unkown.'}),\n",
              " Prediction(uid='A3F90T9WOCX7R8', iid='B000652M6Y', r_ui=4.0, est=4.064259962582604, details={'was_impossible': True, 'reason': 'User and/or item is unkown.'}),\n",
              " Prediction(uid='A2V5S8JZ5GFN8S', iid='B00006B7DA', r_ui=4.0, est=4.064259962582604, details={'was_impossible': True, 'reason': 'User and/or item is unkown.'}),\n",
              " Prediction(uid='A1YCFTY7WI2VV8', iid='B0002L5R78', r_ui=1.0, est=4.064259962582604, details={'was_impossible': True, 'reason': 'User and/or item is unkown.'}),\n",
              " Prediction(uid='A1HRK2R9BIQ6YT', iid='B0000AZK4D', r_ui=5.0, est=4.064259962582604, details={'was_impossible': True, 'reason': 'User and/or item is unkown.'}),\n",
              " Prediction(uid='A37UU7LD4MWAJQ', iid='B00004T8R2', r_ui=5.0, est=4.283645655877343, details={'actual_k': 0, 'was_impossible': False}),\n",
              " Prediction(uid='A1BFNXIOZUN19U', iid='B00005T3BD', r_ui=5.0, est=4.064259962582604, details={'was_impossible': True, 'reason': 'User and/or item is unkown.'}),\n",
              " Prediction(uid='A1LB92KUJI2JOQ', iid='B00005T3EM', r_ui=5.0, est=4.064259962582604, details={'was_impossible': True, 'reason': 'User and/or item is unkown.'}),\n",
              " Prediction(uid='A3KX4S3V9WA81Q', iid='B0002WTK48', r_ui=2.0, est=4.064259962582604, details={'was_impossible': True, 'reason': 'User and/or item is unkown.'}),\n",
              " Prediction(uid='AUW5XC67E9MIL', iid='B0002L5R78', r_ui=5.0, est=4.437481077808053, details={'actual_k': 0, 'was_impossible': False}),\n",
              " Prediction(uid='AWAD446W4BZ2P', iid='B0002FHENE', r_ui=2.0, est=4.064259962582604, details={'was_impossible': True, 'reason': 'User and/or item is unkown.'}),\n",
              " Prediction(uid='A1LZFMXZ6D1BU', iid='B00006IR39', r_ui=2.0, est=4.064259962582604, details={'was_impossible': True, 'reason': 'User and/or item is unkown.'}),\n",
              " Prediction(uid='A4ZOOU89L8P1W', iid='B00005T406', r_ui=3.0, est=4.064259962582604, details={'was_impossible': True, 'reason': 'User and/or item is unkown.'}),\n",
              " Prediction(uid='A3MYOPYP9VBML', iid='B000067RC4', r_ui=4.0, est=4.064259962582604, details={'was_impossible': True, 'reason': 'User and/or item is unkown.'}),\n",
              " Prediction(uid='A1P4A3J01WFJKT', iid='B000069EV0', r_ui=1.0, est=4.064259962582604, details={'was_impossible': True, 'reason': 'User and/or item is unkown.'}),\n",
              " Prediction(uid='A12DLCTDIG0TXU', iid='B000067RC1', r_ui=5.0, est=5, details={'actual_k': 1, 'was_impossible': False}),\n",
              " Prediction(uid='A22QEAHFO7ZHQY', iid='B00028ONIA', r_ui=4.0, est=4.064259962582604, details={'was_impossible': True, 'reason': 'User and/or item is unkown.'}),\n",
              " Prediction(uid='AQWJ8ZRXNEH0T', iid='B000087KY8', r_ui=4.0, est=4.064259962582604, details={'was_impossible': True, 'reason': 'User and/or item is unkown.'}),\n",
              " Prediction(uid='AN4CKSAV3BLOK', iid='B000094Q77', r_ui=5.0, est=4.064259962582604, details={'was_impossible': True, 'reason': 'User and/or item is unkown.'}),\n",
              " Prediction(uid='AS7AE3ZRAQG0A', iid='B00005T3N3', r_ui=5.0, est=4.064259962582604, details={'was_impossible': True, 'reason': 'User and/or item is unkown.'}),\n",
              " Prediction(uid='A3L7CDICYPLXL6', iid='B000069K8O', r_ui=5.0, est=4.064259962582604, details={'was_impossible': True, 'reason': 'User and/or item is unkown.'}),\n",
              " Prediction(uid='AP0LDC2X7JBN7', iid='B0002WPSBC', r_ui=4.0, est=4.064259962582604, details={'was_impossible': True, 'reason': 'User and/or item is unkown.'}),\n",
              " Prediction(uid='A15R7PJ92SP5H7', iid='B00008J6VW', r_ui=1.0, est=4.064259962582604, details={'was_impossible': True, 'reason': 'User and/or item is unkown.'}),\n",
              " Prediction(uid='A3BWD7HFUPG821', iid='B000233WJ6', r_ui=5.0, est=4.064259962582604, details={'was_impossible': True, 'reason': 'User and/or item is unkown.'}),\n",
              " Prediction(uid='A39F9MATOR8MSQ', iid='B00005OTG6', r_ui=5.0, est=4.064259962582604, details={'was_impossible': True, 'reason': 'User and/or item is unkown.'}),\n",
              " Prediction(uid='A3IHFA2A7Q5CCA', iid='B00005LEN4', r_ui=5.0, est=4.064259962582604, details={'was_impossible': True, 'reason': 'User and/or item is unkown.'}),\n",
              " Prediction(uid='ATNOYRR65EWDE', iid='B00004R8VC', r_ui=3.0, est=4.064259962582604, details={'was_impossible': True, 'reason': 'User and/or item is unkown.'}),\n",
              " Prediction(uid='A1L14TJ4LSADUP', iid='B00004Z5QU', r_ui=5.0, est=4.5, details={'actual_k': 0, 'was_impossible': False}),\n",
              " Prediction(uid='A3GPX3NL7I3MGM', iid='B00009WQS1', r_ui=5.0, est=4.064259962582604, details={'was_impossible': True, 'reason': 'User and/or item is unkown.'}),\n",
              " Prediction(uid='A1LZ45GFRFCFC0', iid='B00007056H', r_ui=5.0, est=4.064259962582604, details={'was_impossible': True, 'reason': 'User and/or item is unkown.'}),\n",
              " Prediction(uid='A2ZVZWMYVISE28', iid='B000068OEO', r_ui=5.0, est=4.064259962582604, details={'was_impossible': True, 'reason': 'User and/or item is unkown.'}),\n",
              " Prediction(uid='A2QLYM4REJROE7', iid='B0001XGQTA', r_ui=2.0, est=4.064259962582604, details={'was_impossible': True, 'reason': 'User and/or item is unkown.'}),\n",
              " Prediction(uid='A2UR44HF5K9FE5', iid='B00008W7LS', r_ui=3.0, est=4.219178082191781, details={'actual_k': 0, 'was_impossible': False}),\n",
              " Prediction(uid='A12TW9Q3YIGMLX', iid='B00007E7C8', r_ui=5.0, est=4.064259962582604, details={'was_impossible': True, 'reason': 'User and/or item is unkown.'}),\n",
              " Prediction(uid='A2SK396QXFBZ9T', iid='B0000EI9UC', r_ui=3.0, est=4.064259962582604, details={'was_impossible': True, 'reason': 'User and/or item is unkown.'}),\n",
              " Prediction(uid='A2P943S1VWKEBY', iid='B0002D03ZW', r_ui=5.0, est=4.064259962582604, details={'was_impossible': True, 'reason': 'User and/or item is unkown.'}),\n",
              " Prediction(uid='A3LJS8W66RHE63', iid='B00009WO51', r_ui=5.0, est=4.064259962582604, details={'was_impossible': True, 'reason': 'User and/or item is unkown.'}),\n",
              " Prediction(uid='A38CUCB144TDS', iid='B00007M1TZ', r_ui=5.0, est=4.064259962582604, details={'was_impossible': True, 'reason': 'User and/or item is unkown.'}),\n",
              " Prediction(uid='A2QI016O5O9KD3', iid='B00007E8D2', r_ui=3.0, est=4.064259962582604, details={'was_impossible': True, 'reason': 'User and/or item is unkown.'}),\n",
              " Prediction(uid='A3UZ4VNRH3GTM2', iid='B000093IRC', r_ui=2.0, est=4.064259962582604, details={'was_impossible': True, 'reason': 'User and/or item is unkown.'}),\n",
              " Prediction(uid='A2YYFB92RCSH78', iid='B00009W3FR', r_ui=5.0, est=4.064259962582604, details={'was_impossible': True, 'reason': 'User and/or item is unkown.'}),\n",
              " Prediction(uid='A38K2R2LCJ16FB', iid='B0000BZL1P', r_ui=4.0, est=4.064259962582604, details={'was_impossible': True, 'reason': 'User and/or item is unkown.'}),\n",
              " Prediction(uid='A26YMENOPFXNJX', iid='B00005N5WW', r_ui=4.0, est=4.064259962582604, details={'was_impossible': True, 'reason': 'User and/or item is unkown.'}),\n",
              " Prediction(uid='A253IOATGMT2UP', iid='B00004ZC9V', r_ui=4.0, est=4.474025974025974, details={'actual_k': 0, 'was_impossible': False}),\n",
              " Prediction(uid='A3SGJMAPXZUULX', iid='B0002L5R78', r_ui=5.0, est=4.064259962582604, details={'was_impossible': True, 'reason': 'User and/or item is unkown.'}),\n",
              " Prediction(uid='A1ANBYMCLCRSO', iid='B00009UHYQ', r_ui=3.0, est=4.064259962582604, details={'was_impossible': True, 'reason': 'User and/or item is unkown.'}),\n",
              " Prediction(uid='A35ML39WLKOPFC', iid='B00001WRSJ', r_ui=5.0, est=4.064259962582604, details={'was_impossible': True, 'reason': 'User and/or item is unkown.'}),\n",
              " Prediction(uid='AHFSBQ3G9Q432', iid='B00007E7JU', r_ui=5.0, est=4.064259962582604, details={'was_impossible': True, 'reason': 'User and/or item is unkown.'}),\n",
              " Prediction(uid='AT0IKAJJBC86V', iid='B000095SB4', r_ui=5.0, est=4.064259962582604, details={'was_impossible': True, 'reason': 'User and/or item is unkown.'}),\n",
              " Prediction(uid='A10A0FHUKUG3DO', iid='B0000CDZ82', r_ui=5.0, est=4.155555555555556, details={'actual_k': 0, 'was_impossible': False}),\n",
              " Prediction(uid='A2B764VGLKX0TY', iid='B00007LTBA', r_ui=1.0, est=4.064259962582604, details={'was_impossible': True, 'reason': 'User and/or item is unkown.'}),\n",
              " Prediction(uid='APFF3JDA2CPIV', iid='B000095SB6', r_ui=1.0, est=4.064259962582604, details={'was_impossible': True, 'reason': 'User and/or item is unkown.'}),\n",
              " Prediction(uid='A38H04PPD3SF48', iid='B0001EMLXE', r_ui=4.0, est=4.064259962582604, details={'was_impossible': True, 'reason': 'User and/or item is unkown.'}),\n",
              " Prediction(uid='A2LC45BP6IMG40', iid='B00001P4ZH', r_ui=1.0, est=4.064259962582604, details={'was_impossible': True, 'reason': 'User and/or item is unkown.'}),\n",
              " Prediction(uid='A3XKGDJ3YN1XZ', iid='B0002L5R78', r_ui=3.0, est=4.064259962582604, details={'was_impossible': True, 'reason': 'User and/or item is unkown.'}),\n",
              " Prediction(uid='AB9VIWH1OJY1Q', iid='B00005N5X7', r_ui=5.0, est=4.064259962582604, details={'was_impossible': True, 'reason': 'User and/or item is unkown.'}),\n",
              " Prediction(uid='AFK0ERYCQFTOR', iid='B00005108H', r_ui=5.0, est=4.678571428571429, details={'actual_k': 0, 'was_impossible': False}),\n",
              " Prediction(uid='A16LHICUB1HEWU', iid='B0001H27PS', r_ui=5.0, est=4.064259962582604, details={'was_impossible': True, 'reason': 'User and/or item is unkown.'}),\n",
              " Prediction(uid='A1NFCHJ8ZR4362', iid='B0001H29OW', r_ui=5.0, est=4.154929577464789, details={'actual_k': 0, 'was_impossible': False}),\n",
              " Prediction(uid='A3DLWUNNQODTDH', iid='B0001A3N6C', r_ui=5.0, est=4.064259962582604, details={'was_impossible': True, 'reason': 'User and/or item is unkown.'}),\n",
              " Prediction(uid='A20A1S5NSAQTTY', iid='B00011Y1MQ', r_ui=1.0, est=4.064259962582604, details={'was_impossible': True, 'reason': 'User and/or item is unkown.'}),\n",
              " Prediction(uid='A1M68JMDV0Q63N', iid='B00004ZCJE', r_ui=3.0, est=4.064259962582604, details={'was_impossible': True, 'reason': 'User and/or item is unkown.'}),\n",
              " Prediction(uid='AWK0T0TJO8SZS', iid='B000056SSM', r_ui=5.0, est=4.5789387487717, details={'actual_k': 1, 'was_impossible': False}),\n",
              " Prediction(uid='A38XKV9TG402N2', iid='B0002MQGOK', r_ui=5.0, est=4.064259962582604, details={'was_impossible': True, 'reason': 'User and/or item is unkown.'}),\n",
              " Prediction(uid='A3W1WRQHK0D9XZ', iid='B0000AE6G9', r_ui=1.0, est=4.064259962582604, details={'was_impossible': True, 'reason': 'User and/or item is unkown.'}),\n",
              " Prediction(uid='A1JKO8PVNSBIYG', iid='B00004Z5M1', r_ui=5.0, est=4.064259962582604, details={'was_impossible': True, 'reason': 'User and/or item is unkown.'}),\n",
              " Prediction(uid='A2SS9DRRQQ7EG5', iid='B00009XVCZ', r_ui=4.0, est=4.494178525226391, details={'actual_k': 0, 'was_impossible': False}),\n",
              " Prediction(uid='A1P7FTD7BI4FEI', iid='B0001FV2YM', r_ui=1.0, est=4.064259962582604, details={'was_impossible': True, 'reason': 'User and/or item is unkown.'}),\n",
              " Prediction(uid='A2TKWZ4D4QW770', iid='B0000CE1UO', r_ui=5.0, est=4.064259962582604, details={'was_impossible': True, 'reason': 'User and/or item is unkown.'}),\n",
              " Prediction(uid='A7IBHX82GZ32W', iid='B00007M1TZ', r_ui=5.0, est=4.064259962582604, details={'was_impossible': True, 'reason': 'User and/or item is unkown.'}),\n",
              " Prediction(uid='A8IGAU0EBU9AB', iid='B0000BZL5A', r_ui=5.0, est=4.064259962582604, details={'was_impossible': True, 'reason': 'User and/or item is unkown.'}),\n",
              " Prediction(uid='AP9MRFVH7KRUK', iid='B00009R6WO', r_ui=5.0, est=4.588495575221239, details={'actual_k': 0, 'was_impossible': False}),\n",
              " Prediction(uid='A1JC18XXIS0XP0', iid='B00012F6A6', r_ui=1.0, est=4.064259962582604, details={'was_impossible': True, 'reason': 'User and/or item is unkown.'}),\n",
              " Prediction(uid='A20O5F760SYW9L', iid='B00005ATMB', r_ui=5.0, est=4.064259962582604, details={'was_impossible': True, 'reason': 'User and/or item is unkown.'}),\n",
              " Prediction(uid='A1Y7M6CLUZIM0R', iid='B000053HC5', r_ui=5.0, est=4.064259962582604, details={'was_impossible': True, 'reason': 'User and/or item is unkown.'}),\n",
              " Prediction(uid='A3M7YVZQ67CDNB', iid='B00003G1RG', r_ui=5.0, est=4.064259962582604, details={'was_impossible': True, 'reason': 'User and/or item is unkown.'}),\n",
              " Prediction(uid='A2SPH10WLGIK8Z', iid='B00007E7K0', r_ui=5.0, est=4.064259962582604, details={'was_impossible': True, 'reason': 'User and/or item is unkown.'}),\n",
              " Prediction(uid='AX268359RPIEM', iid='B0002TPFTA', r_ui=5.0, est=4.064259962582604, details={'was_impossible': True, 'reason': 'User and/or item is unkown.'}),\n",
              " Prediction(uid='A1DN7LGQB05SJ3', iid='B00006HOAQ', r_ui=5.0, est=4.064259962582604, details={'was_impossible': True, 'reason': 'User and/or item is unkown.'}),\n",
              " Prediction(uid='A2GQM7ELCQBTSE', iid='B0002XN3VS', r_ui=5.0, est=4.064259962582604, details={'was_impossible': True, 'reason': 'User and/or item is unkown.'}),\n",
              " Prediction(uid='AW7JXGGJXYOTG', iid='B0002FO2IO', r_ui=5.0, est=4.064259962582604, details={'was_impossible': True, 'reason': 'User and/or item is unkown.'}),\n",
              " Prediction(uid='A3ESLNF6EPAWQX', iid='B0002H4YUI', r_ui=5.0, est=3.484162895927602, details={'actual_k': 0, 'was_impossible': False}),\n",
              " Prediction(uid='A1W858UT8HC0AU', iid='B00004ZC8Y', r_ui=2.0, est=4.064259962582604, details={'was_impossible': True, 'reason': 'User and/or item is unkown.'}),\n",
              " Prediction(uid='A377DC2CPICKNZ', iid='B00009R6GE', r_ui=5.0, est=4.064259962582604, details={'was_impossible': True, 'reason': 'User and/or item is unkown.'}),\n",
              " Prediction(uid='AR655JM5X2CHG', iid='B000059MSI', r_ui=4.0, est=4.064259962582604, details={'was_impossible': True, 'reason': 'User and/or item is unkown.'}),\n",
              " Prediction(uid='ANC4BPHE3CK20', iid='B000067RC1', r_ui=3.0, est=4.064259962582604, details={'was_impossible': True, 'reason': 'User and/or item is unkown.'}),\n",
              " Prediction(uid='A11BXQ1C406T3D', iid='B0002QPC28', r_ui=5.0, est=4.064259962582604, details={'was_impossible': True, 'reason': 'User and/or item is unkown.'}),\n",
              " Prediction(uid='A1KQW0ZXONG7V7', iid='B0002QLQ96', r_ui=4.0, est=4.064259962582604, details={'was_impossible': True, 'reason': 'User and/or item is unkown.'}),\n",
              " Prediction(uid='A2F00TMZ2W2IJH', iid='B00022OBO2', r_ui=5.0, est=3.7286713286713287, details={'actual_k': 0, 'was_impossible': False}),\n",
              " Prediction(uid='A1B3SYX81JVU7J', iid='B0001GAMQK', r_ui=5.0, est=4.064259962582604, details={'was_impossible': True, 'reason': 'User and/or item is unkown.'}),\n",
              " Prediction(uid='A1EVLOB1B8JFDI', iid='B00009XVCZ', r_ui=2.0, est=4.728324866689806, details={'actual_k': 1, 'was_impossible': False}),\n",
              " Prediction(uid='A2WFS1FRB1B9QK', iid='B0000A98AC', r_ui=4.0, est=4.064259962582604, details={'was_impossible': True, 'reason': 'User and/or item is unkown.'}),\n",
              " Prediction(uid='AH5FLKVQAG7F6', iid='B00007E7JU', r_ui=5.0, est=4.5718402634829145, details={'actual_k': 0, 'was_impossible': False}),\n",
              " Prediction(uid='A2HGIBS5UFUFEU', iid='B000092YPR', r_ui=4.0, est=4.064259962582604, details={'was_impossible': True, 'reason': 'User and/or item is unkown.'}),\n",
              " Prediction(uid='A24LYEGMXDRRNY', iid='B00009R9EO', r_ui=2.0, est=4.064259962582604, details={'was_impossible': True, 'reason': 'User and/or item is unkown.'}),\n",
              " Prediction(uid='A2N2HXMGKWH51M', iid='B0000AE68P', r_ui=1.0, est=4.064259962582604, details={'was_impossible': True, 'reason': 'User and/or item is unkown.'}),\n",
              " Prediction(uid='A396UYBDDWYA8Z', iid='B0002CPBWI', r_ui=5.0, est=4.064259962582604, details={'was_impossible': True, 'reason': 'User and/or item is unkown.'}),\n",
              " Prediction(uid='A1XZCC2QH148KG', iid='B000067O5G', r_ui=4.0, est=4.064259962582604, details={'was_impossible': True, 'reason': 'User and/or item is unkown.'}),\n",
              " Prediction(uid='AIFX8S3JSN2RX', iid='B000067RCU', r_ui=1.0, est=4.064259962582604, details={'was_impossible': True, 'reason': 'User and/or item is unkown.'}),\n",
              " Prediction(uid='A14NLV3OPVIC0F', iid='B0000658CG', r_ui=1.0, est=4.064259962582604, details={'was_impossible': True, 'reason': 'User and/or item is unkown.'}),\n",
              " Prediction(uid='A1V50R6NZJ2FNE', iid='B00026KYFS', r_ui=5.0, est=4.064259962582604, details={'was_impossible': True, 'reason': 'User and/or item is unkown.'}),\n",
              " Prediction(uid='A25JXK82HP059R', iid='B0001MQUOC', r_ui=5.0, est=4.064259962582604, details={'was_impossible': True, 'reason': 'User and/or item is unkown.'}),\n",
              " Prediction(uid='A2DDCCZCX3XGXJ', iid='B00004ZCJE', r_ui=5.0, est=4.8506456176859505, details={'actual_k': 2, 'was_impossible': False}),\n",
              " Prediction(uid='A204Q8F0QV8ARZ', iid='B000067RC4', r_ui=4.0, est=4.064259962582604, details={'was_impossible': True, 'reason': 'User and/or item is unkown.'}),\n",
              " Prediction(uid='ASXFX1L2FW8ER', iid='B0002AHT0M', r_ui=5.0, est=4.064259962582604, details={'was_impossible': True, 'reason': 'User and/or item is unkown.'}),\n",
              " Prediction(uid='A1E93J2XU9SN5P', iid='B00029X1MI', r_ui=5.0, est=3.96, details={'actual_k': 0, 'was_impossible': False}),\n",
              " Prediction(uid='AJIC64C630FTT', iid='B00000JBPB', r_ui=1.0, est=4.064259962582604, details={'was_impossible': True, 'reason': 'User and/or item is unkown.'}),\n",
              " Prediction(uid='A2WPLHFPN2LUGI', iid='B0000A0AJH', r_ui=4.0, est=4.064259962582604, details={'was_impossible': True, 'reason': 'User and/or item is unkown.'}),\n",
              " Prediction(uid='A33JW9JWM3H87L', iid='B0002KVQBA', r_ui=3.0, est=4.064259962582604, details={'was_impossible': True, 'reason': 'User and/or item is unkown.'}),\n",
              " Prediction(uid='A2QIC4G483SQQA', iid='B00005BC0J', r_ui=5.0, est=4.064259962582604, details={'was_impossible': True, 'reason': 'User and/or item is unkown.'}),\n",
              " Prediction(uid='A379NEWWVYKK9H', iid='B000068P8W', r_ui=5.0, est=4.064259962582604, details={'was_impossible': True, 'reason': 'User and/or item is unkown.'}),\n",
              " Prediction(uid='AAH8M8ULI36DE', iid='B0003QER7S', r_ui=5.0, est=4.064259962582604, details={'was_impossible': True, 'reason': 'User and/or item is unkown.'}),\n",
              " Prediction(uid='A23QOG8HFGXFJT', iid='B00008ZPJU', r_ui=4.0, est=4.064259962582604, details={'was_impossible': True, 'reason': 'User and/or item is unkown.'}),\n",
              " Prediction(uid='A1EDU8GZKIK5KI', iid='B00006JU62', r_ui=4.0, est=4.064259962582604, details={'was_impossible': True, 'reason': 'User and/or item is unkown.'}),\n",
              " Prediction(uid='A2GTFSIRMQS3DS', iid='B00009QORL', r_ui=5.0, est=4.064259962582604, details={'was_impossible': True, 'reason': 'User and/or item is unkown.'}),\n",
              " Prediction(uid='A2510XTIDG4RPG', iid='B00028D778', r_ui=5.0, est=4.064259962582604, details={'was_impossible': True, 'reason': 'User and/or item is unkown.'}),\n",
              " Prediction(uid='A10BC5NHJXLZL0', iid='B0001DYUJ8', r_ui=2.0, est=3.376146788990826, details={'actual_k': 0, 'was_impossible': False}),\n",
              " Prediction(uid='A2QOGTFAK9JQFS', iid='B00013MSUQ', r_ui=4.0, est=4.064259962582604, details={'was_impossible': True, 'reason': 'User and/or item is unkown.'}),\n",
              " Prediction(uid='A1FV05L6G193PI', iid='B000058AKE', r_ui=5.0, est=4.064259962582604, details={'was_impossible': True, 'reason': 'User and/or item is unkown.'}),\n",
              " Prediction(uid='A3H4U12QNCZ773', iid='B0002HA7FY', r_ui=3.0, est=4.064259962582604, details={'was_impossible': True, 'reason': 'User and/or item is unkown.'}),\n",
              " Prediction(uid='A1KNHTFGH5X84I', iid='B000062VUO', r_ui=5.0, est=4.274348422496571, details={'actual_k': 0, 'was_impossible': False}),\n",
              " Prediction(uid='A1492X9WKFQERN', iid='B00009UHKW', r_ui=5.0, est=4.064259962582604, details={'was_impossible': True, 'reason': 'User and/or item is unkown.'}),\n",
              " Prediction(uid='A2OTCRZWLCEVVF', iid='B0000U19F0', r_ui=4.0, est=4.064259962582604, details={'was_impossible': True, 'reason': 'User and/or item is unkown.'}),\n",
              " Prediction(uid='A1IK4L0E3ZK1CG', iid='B0002ZPJZY', r_ui=5.0, est=4.064259962582604, details={'was_impossible': True, 'reason': 'User and/or item is unkown.'}),\n",
              " Prediction(uid='ACPYT9KCCKX6X', iid='B0001FTVEK', r_ui=4.0, est=4.064259962582604, details={'was_impossible': True, 'reason': 'User and/or item is unkown.'}),\n",
              " Prediction(uid='A2RJ47OHPJ081E', iid='B0000TW3RE', r_ui=1.0, est=4.064259962582604, details={'was_impossible': True, 'reason': 'User and/or item is unkown.'}),\n",
              " Prediction(uid='A2GPQUV5GEZ07D', iid='B0001YFZ46', r_ui=3.0, est=4.064259962582604, details={'was_impossible': True, 'reason': 'User and/or item is unkown.'}),\n",
              " Prediction(uid='A2EZFLI3XRYIRN', iid='9984984354', r_ui=5.0, est=4.064259962582604, details={'was_impossible': True, 'reason': 'User and/or item is unkown.'}),\n",
              " Prediction(uid='A3VFD2WI8U0IVZ', iid='B0001PFQAI', r_ui=5.0, est=4.8, details={'actual_k': 0, 'was_impossible': False}),\n",
              " Prediction(uid='A2LBSAAOXGBGE6', iid='B00006HYJ5', r_ui=1.0, est=4.064259962582604, details={'was_impossible': True, 'reason': 'User and/or item is unkown.'}),\n",
              " Prediction(uid='A10ULLBJZ3MBYO', iid='B0001KWGOW', r_ui=4.0, est=3.557377049180328, details={'actual_k': 0, 'was_impossible': False}),\n",
              " Prediction(uid='A3DXFC9CCGH1L3', iid='B000085BCX', r_ui=4.0, est=4.064259962582604, details={'was_impossible': True, 'reason': 'User and/or item is unkown.'}),\n",
              " Prediction(uid='A26GTDBKC2AX54', iid='B00004W3ZQ', r_ui=4.0, est=4.064259962582604, details={'was_impossible': True, 'reason': 'User and/or item is unkown.'}),\n",
              " Prediction(uid='A1U5SOFL20XJUT', iid='B0002L5R78', r_ui=5.0, est=4.064259962582604, details={'was_impossible': True, 'reason': 'User and/or item is unkown.'}),\n",
              " Prediction(uid='A3O5GQYE23E0AH', iid='B0000BZ2WA', r_ui=5.0, est=4.144827586206897, details={'actual_k': 0, 'was_impossible': False}),\n",
              " Prediction(uid='A7DSN9722G0YG', iid='B000067S60', r_ui=5.0, est=4.064259962582604, details={'was_impossible': True, 'reason': 'User and/or item is unkown.'}),\n",
              " Prediction(uid='A2C38BKM8Y18NH', iid='B00006HXMQ', r_ui=4.0, est=4.064259962582604, details={'was_impossible': True, 'reason': 'User and/or item is unkown.'}),\n",
              " Prediction(uid='APFNDSGVBG7UG', iid='B00004T8R2', r_ui=5.0, est=4.064259962582604, details={'was_impossible': True, 'reason': 'User and/or item is unkown.'}),\n",
              " Prediction(uid='A2Z7FAN7LIFG9D', iid='B00009R9A1', r_ui=5.0, est=4.064259962582604, details={'was_impossible': True, 'reason': 'User and/or item is unkown.'}),\n",
              " Prediction(uid='A30RJAKA8EZI62', iid='B0001A06GW', r_ui=5.0, est=4.064259962582604, details={'was_impossible': True, 'reason': 'User and/or item is unkown.'}),\n",
              " Prediction(uid='A21VTS8SHLWZ5T', iid='B000062VUO', r_ui=5.0, est=4.064259962582604, details={'was_impossible': True, 'reason': 'User and/or item is unkown.'}),\n",
              " Prediction(uid='A2CE6BVIG3NFXS', iid='B0000AI0OE', r_ui=2.0, est=4.064259962582604, details={'was_impossible': True, 'reason': 'User and/or item is unkown.'}),\n",
              " Prediction(uid='A1RVVHRCCR9G2', iid='B0001YGIB0', r_ui=5.0, est=4.064259962582604, details={'was_impossible': True, 'reason': 'User and/or item is unkown.'}),\n",
              " Prediction(uid='A3FQQP4VK9356K', iid='B00007FGUE', r_ui=5.0, est=3.5268817204301075, details={'actual_k': 0, 'was_impossible': False}),\n",
              " Prediction(uid='A3VER6IUYPX723', iid='B00006B7DA', r_ui=5.0, est=4.064259962582604, details={'was_impossible': True, 'reason': 'User and/or item is unkown.'}),\n",
              " Prediction(uid='A28TA2H3LB5BHR', iid='B0000CCOVM', r_ui=4.0, est=4.064259962582604, details={'was_impossible': True, 'reason': 'User and/or item is unkown.'}),\n",
              " Prediction(uid='A3L61G6N7AT8N2', iid='B00000J1TX', r_ui=2.0, est=4.064259962582604, details={'was_impossible': True, 'reason': 'User and/or item is unkown.'}),\n",
              " Prediction(uid='A3NL1KW56O3JR8', iid='B00020S7XK', r_ui=5.0, est=4.064259962582604, details={'was_impossible': True, 'reason': 'User and/or item is unkown.'}),\n",
              " Prediction(uid='A30I1X9MWPHN8O', iid='B0001F22PA', r_ui=3.0, est=2.6370967741935485, details={'actual_k': 0, 'was_impossible': False}),\n",
              " Prediction(uid='AMAZGZVYU0IWZ', iid='B00006L7RV', r_ui=4.0, est=4.064259962582604, details={'was_impossible': True, 'reason': 'User and/or item is unkown.'}),\n",
              " Prediction(uid='A3U6R2XZK50AQ7', iid='B0002L5R78', r_ui=4.0, est=4.064259962582604, details={'was_impossible': True, 'reason': 'User and/or item is unkown.'}),\n",
              " Prediction(uid='A3TGS0PWZN0C2A', iid='B00004WCGF', r_ui=3.0, est=4.064259962582604, details={'was_impossible': True, 'reason': 'User and/or item is unkown.'}),\n",
              " Prediction(uid='A1PMCM7USIU720', iid='B00011CNWG', r_ui=1.0, est=4.064259962582604, details={'was_impossible': True, 'reason': 'User and/or item is unkown.'}),\n",
              " Prediction(uid='A30FH2KCQ2XZX3', iid='B00022OBO2', r_ui=1.0, est=4.064259962582604, details={'was_impossible': True, 'reason': 'User and/or item is unkown.'}),\n",
              " Prediction(uid='A2K3DRCYQBHKYV', iid='B0000BZOGJ', r_ui=4.0, est=4.064259962582604, details={'was_impossible': True, 'reason': 'User and/or item is unkown.'}),\n",
              " Prediction(uid='AZZ2DEE2NTIM7', iid='B000066R6M', r_ui=5.0, est=4.039393939393939, details={'actual_k': 0, 'was_impossible': False}),\n",
              " Prediction(uid='A7PEZST5FF7IK', iid='B00004WCGF', r_ui=2.0, est=4.064259962582604, details={'was_impossible': True, 'reason': 'User and/or item is unkown.'}),\n",
              " Prediction(uid='A1SH03TJXSKAQA', iid='B00007FGU7', r_ui=2.0, est=4.064259962582604, details={'was_impossible': True, 'reason': 'User and/or item is unkown.'}),\n",
              " Prediction(uid='A28KAXBXSXYZXY', iid='B00008VWOJ', r_ui=4.0, est=3.09478672985782, details={'actual_k': 0, 'was_impossible': False}),\n",
              " Prediction(uid='ATS11ZD3IOTDB', iid='B0001F22R8', r_ui=5.0, est=4.064259962582604, details={'was_impossible': True, 'reason': 'User and/or item is unkown.'}),\n",
              " Prediction(uid='A3IWAM2YQUCRJY', iid='B0002OZXHO', r_ui=4.0, est=4.064259962582604, details={'was_impossible': True, 'reason': 'User and/or item is unkown.'}),\n",
              " Prediction(uid='A28F9C3JU1MTU9', iid='B00064V6R6', r_ui=5.0, est=4.378378378378378, details={'actual_k': 0, 'was_impossible': False}),\n",
              " Prediction(uid='A2M1D8GVCJZLJN', iid='B00004TENT', r_ui=5.0, est=4.064259962582604, details={'was_impossible': True, 'reason': 'User and/or item is unkown.'}),\n",
              " Prediction(uid='A25JXMT3618J1M', iid='B00004TDMX', r_ui=4.0, est=4.064259962582604, details={'was_impossible': True, 'reason': 'User and/or item is unkown.'}),\n",
              " Prediction(uid='A2DN8B4RRGP1G3', iid='B00007EDZG', r_ui=5.0, est=4.064259962582604, details={'was_impossible': True, 'reason': 'User and/or item is unkown.'}),\n",
              " Prediction(uid='A3BIUKNQ650M5D', iid='B0001FTVEA', r_ui=4.0, est=4.064259962582604, details={'was_impossible': True, 'reason': 'User and/or item is unkown.'}),\n",
              " Prediction(uid='A2B5VMLFBK5J4D', iid='B0002FHENE', r_ui=4.0, est=4.064259962582604, details={'was_impossible': True, 'reason': 'User and/or item is unkown.'}),\n",
              " Prediction(uid='A1GXJE6MAB2V2G', iid='B00007E7JU', r_ui=5.0, est=4.064259962582604, details={'was_impossible': True, 'reason': 'User and/or item is unkown.'}),\n",
              " Prediction(uid='A2CHZ46DL3GT4A', iid='B00061IYJC', r_ui=4.0, est=4.064259962582604, details={'was_impossible': True, 'reason': 'User and/or item is unkown.'}),\n",
              " Prediction(uid='A353PCMK0XBMGR', iid='B0002IP2TY', r_ui=5.0, est=4.064259962582604, details={'was_impossible': True, 'reason': 'User and/or item is unkown.'}),\n",
              " Prediction(uid='AO5826Y9WCAKS', iid='B00000JBAT', r_ui=4.0, est=4.064259962582604, details={'was_impossible': True, 'reason': 'User and/or item is unkown.'}),\n",
              " Prediction(uid='A14UFDO7YK78PJ', iid='B0001FTVEA', r_ui=2.0, est=4.064259962582604, details={'was_impossible': True, 'reason': 'User and/or item is unkown.'}),\n",
              " Prediction(uid='A1XTS506WX1Q87', iid='B0002D6QJO', r_ui=5.0, est=4.064259962582604, details={'was_impossible': True, 'reason': 'User and/or item is unkown.'}),\n",
              " Prediction(uid='A3J6BQFYER9K51', iid='B00009UT9B', r_ui=5.0, est=4.064259962582604, details={'was_impossible': True, 'reason': 'User and/or item is unkown.'}),\n",
              " Prediction(uid='AHQ1FZCX868EL', iid='B00004ZCLV', r_ui=3.0, est=4.064259962582604, details={'was_impossible': True, 'reason': 'User and/or item is unkown.'}),\n",
              " Prediction(uid='A31SE0P6IADKE6', iid='B0000632H7', r_ui=5.0, est=4.064259962582604, details={'was_impossible': True, 'reason': 'User and/or item is unkown.'}),\n",
              " Prediction(uid='A2GPWZFYT9GIOF', iid='B0001FTVEA', r_ui=5.0, est=3.803379416282642, details={'actual_k': 0, 'was_impossible': False}),\n",
              " Prediction(uid='AKWJJPFQPFLKQ', iid='B00006JQ06', r_ui=5.0, est=4.064259962582604, details={'was_impossible': True, 'reason': 'User and/or item is unkown.'}),\n",
              " Prediction(uid='A2RFTBRH31MZDR', iid='B00000K2YR', r_ui=5.0, est=4.064259962582604, details={'was_impossible': True, 'reason': 'User and/or item is unkown.'}),\n",
              " Prediction(uid='A1RXV7VP99INXU', iid='B00004ZCKV', r_ui=5.0, est=4.064259962582604, details={'was_impossible': True, 'reason': 'User and/or item is unkown.'}),\n",
              " Prediction(uid='A1258PFGXQZYKL', iid='B000065BP9', r_ui=4.0, est=4.064259962582604, details={'was_impossible': True, 'reason': 'User and/or item is unkown.'}),\n",
              " Prediction(uid='AWUM8CWDH7PWK', iid='B00025O7FC', r_ui=4.0, est=4.264705882352941, details={'actual_k': 0, 'was_impossible': False}),\n",
              " Prediction(uid='A2M3OSBBGRXNRO', iid='B00005ARK4', r_ui=5.0, est=4.064259962582604, details={'was_impossible': True, 'reason': 'User and/or item is unkown.'}),\n",
              " Prediction(uid='A1VGPGJTKHHYJ3', iid='B0002L5R78', r_ui=5.0, est=4.064259962582604, details={'was_impossible': True, 'reason': 'User and/or item is unkown.'}),\n",
              " Prediction(uid='AG4P59IYZ8Q6W', iid='B0002L5R78', r_ui=5.0, est=4.064259962582604, details={'was_impossible': True, 'reason': 'User and/or item is unkown.'}),\n",
              " Prediction(uid='A1VAZQZ3CTXDLS', iid='B00001W0DI', r_ui=5.0, est=4.064259962582604, details={'was_impossible': True, 'reason': 'User and/or item is unkown.'}),\n",
              " Prediction(uid='A3BY907WMH6F0S', iid='B00007E7JU', r_ui=5.0, est=4.064259962582604, details={'was_impossible': True, 'reason': 'User and/or item is unkown.'}),\n",
              " Prediction(uid='A3K822XQPK2920', iid='B00001P4XA', r_ui=4.0, est=4.064259962582604, details={'was_impossible': True, 'reason': 'User and/or item is unkown.'}),\n",
              " Prediction(uid='A2V8FNIO634ZRD', iid='B0001H27PS', r_ui=4.0, est=4.44, details={'actual_k': 0, 'was_impossible': False}),\n",
              " Prediction(uid='A38KK0SZYEH5UD', iid='B00005LEOO', r_ui=4.0, est=4.36734693877551, details={'actual_k': 0, 'was_impossible': False}),\n",
              " Prediction(uid='AE28CT324ZDZD', iid='B00009WQS1', r_ui=2.0, est=4.042857142857143, details={'actual_k': 0, 'was_impossible': False}),\n",
              " Prediction(uid='A368WOZJGHZB3Q', iid='B000092YPR', r_ui=5.0, est=4.064259962582604, details={'was_impossible': True, 'reason': 'User and/or item is unkown.'}),\n",
              " Prediction(uid='A1W2032TPJH057', iid='B00000J1EQ', r_ui=1.0, est=4.064259962582604, details={'was_impossible': True, 'reason': 'User and/or item is unkown.'}),\n",
              " Prediction(uid='A3G8V46OTRF0O4', iid='B00012F7HS', r_ui=5.0, est=4.064259962582604, details={'was_impossible': True, 'reason': 'User and/or item is unkown.'}),\n",
              " Prediction(uid='A2SJS10Z333EMD', iid='B00011KM38', r_ui=5.0, est=4.064259962582604, details={'was_impossible': True, 'reason': 'User and/or item is unkown.'}),\n",
              " Prediction(uid='A1IR92014735XZ', iid='B0000AQIFZ', r_ui=5.0, est=4.064259962582604, details={'was_impossible': True, 'reason': 'User and/or item is unkown.'}),\n",
              " Prediction(uid='A32G4KAHKRYWBP', iid='B00001P4ZH', r_ui=5.0, est=4.064259962582604, details={'was_impossible': True, 'reason': 'User and/or item is unkown.'}),\n",
              " Prediction(uid='A2CZFKAD0HWHQM', iid='B0002WTK4S', r_ui=5.0, est=4.064259962582604, details={'was_impossible': True, 'reason': 'User and/or item is unkown.'}),\n",
              " Prediction(uid='A13WV6SMXUJADT', iid='B000261N6M', r_ui=1.0, est=4.064259962582604, details={'was_impossible': True, 'reason': 'User and/or item is unkown.'}),\n",
              " Prediction(uid='AKR1H6C5PNOIZ', iid='B00006IW1X', r_ui=3.0, est=4.064259962582604, details={'was_impossible': True, 'reason': 'User and/or item is unkown.'}),\n",
              " Prediction(uid='ADLGBJ0N4TQBS', iid='B000233WJ6', r_ui=5.0, est=4.064259962582604, details={'was_impossible': True, 'reason': 'User and/or item is unkown.'}),\n",
              " Prediction(uid='ARXWCKE4TW84H', iid='B0002U1TJY', r_ui=3.0, est=4.064259962582604, details={'was_impossible': True, 'reason': 'User and/or item is unkown.'}),\n",
              " Prediction(uid='A1UTDKDJQYZJCN', iid='B00006IRR8', r_ui=5.0, est=4.064259962582604, details={'was_impossible': True, 'reason': 'User and/or item is unkown.'}),\n",
              " Prediction(uid='A19AH2VJT4QQJJ', iid='B00028DJTY', r_ui=1.0, est=4.064259962582604, details={'was_impossible': True, 'reason': 'User and/or item is unkown.'}),\n",
              " Prediction(uid='A3AK2R0N3CKTUP', iid='B00007056H', r_ui=2.0, est=4.198581560283688, details={'actual_k': 0, 'was_impossible': False}),\n",
              " Prediction(uid='A2NN765NTRCFP7', iid='B0001FTVEK', r_ui=5.0, est=4.009115281501341, details={'actual_k': 0, 'was_impossible': False}),\n",
              " Prediction(uid='A1L529X2BLROIK', iid='B00007E7K9', r_ui=2.0, est=4.064259962582604, details={'was_impossible': True, 'reason': 'User and/or item is unkown.'}),\n",
              " Prediction(uid='A76DRAEKZTT62', iid='B0000630TO', r_ui=5.0, est=4.064259962582604, details={'was_impossible': True, 'reason': 'User and/or item is unkown.'}),\n",
              " Prediction(uid='AATHGW7WGFD7B', iid='B0001FTVEK', r_ui=4.0, est=4.064259962582604, details={'was_impossible': True, 'reason': 'User and/or item is unkown.'}),\n",
              " Prediction(uid='AX8FW2MFQS4O2', iid='B00007E7JU', r_ui=5.0, est=4.064259962582604, details={'was_impossible': True, 'reason': 'User and/or item is unkown.'}),\n",
              " Prediction(uid='A37DS8P4RURILP', iid='B0001M2FZK', r_ui=5.0, est=4.064259962582604, details={'was_impossible': True, 'reason': 'User and/or item is unkown.'}),\n",
              " Prediction(uid='A23VWYKQL91I7L', iid='B00007KDVI', r_ui=5.0, est=4.064259962582604, details={'was_impossible': True, 'reason': 'User and/or item is unkown.'}),\n",
              " Prediction(uid='A34PIK0DADFGC0', iid='B0000645RH', r_ui=5.0, est=4.064259962582604, details={'was_impossible': True, 'reason': 'User and/or item is unkown.'}),\n",
              " Prediction(uid='A2ALHJF9P9XY8O', iid='B00005T3G0', r_ui=5.0, est=4.064259962582604, details={'was_impossible': True, 'reason': 'User and/or item is unkown.'}),\n",
              " Prediction(uid='A1EIGQFYUQ9Q2W', iid='B0002Y5WXE', r_ui=5.0, est=4.064259962582604, details={'was_impossible': True, 'reason': 'User and/or item is unkown.'}),\n",
              " Prediction(uid='A2HVHP3ESYS5R', iid='B00009W3FR', r_ui=4.0, est=4.064259962582604, details={'was_impossible': True, 'reason': 'User and/or item is unkown.'}),\n",
              " Prediction(uid='AWSVZ88JWLJPJ', iid='B0001FTVEK', r_ui=5.0, est=4.064259962582604, details={'was_impossible': True, 'reason': 'User and/or item is unkown.'}),\n",
              " Prediction(uid='AKJXRXRM6HZM', iid='B0002LEMWE', r_ui=5.0, est=4.064259962582604, details={'was_impossible': True, 'reason': 'User and/or item is unkown.'}),\n",
              " Prediction(uid='A2VMJ6VU7PWS0E', iid='B000059Y4N', r_ui=5.0, est=4.560975609756097, details={'actual_k': 0, 'was_impossible': False}),\n",
              " Prediction(uid='A1977GWEGAYE2N', iid='B0001PFQ08', r_ui=1.0, est=2.925531914893617, details={'actual_k': 0, 'was_impossible': False}),\n",
              " Prediction(uid='A2MN7KZ3SENVXH', iid='B0001G6U5W', r_ui=5.0, est=4.064259962582604, details={'was_impossible': True, 'reason': 'User and/or item is unkown.'}),\n",
              " Prediction(uid='ALDYVPJB1J69N', iid='B00007IFED', r_ui=5.0, est=4.181818181818182, details={'actual_k': 0, 'was_impossible': False}),\n",
              " Prediction(uid='A3MT7MPZ20QW4T', iid='B00003CWDH', r_ui=5.0, est=4.064259962582604, details={'was_impossible': True, 'reason': 'User and/or item is unkown.'}),\n",
              " Prediction(uid='A27NR0KWFRTJO6', iid='B0002XQDSS', r_ui=4.0, est=4.064259962582604, details={'was_impossible': True, 'reason': 'User and/or item is unkown.'}),\n",
              " Prediction(uid='A38ULGVJQHDW9W', iid='B0006B3QY0', r_ui=5.0, est=4.064259962582604, details={'was_impossible': True, 'reason': 'User and/or item is unkown.'}),\n",
              " Prediction(uid='A2LE5IS9W9OWXC', iid='B00007M1TZ', r_ui=5.0, est=4.064259962582604, details={'was_impossible': True, 'reason': 'User and/or item is unkown.'}),\n",
              " Prediction(uid='ACSNZDXNUXSDB', iid='B0000228GG', r_ui=5.0, est=4.162162162162162, details={'actual_k': 0, 'was_impossible': False}),\n",
              " Prediction(uid='A30FYS8O70K86Z', iid='B00005NVBT', r_ui=5.0, est=4.064259962582604, details={'was_impossible': True, 'reason': 'User and/or item is unkown.'}),\n",
              " Prediction(uid='A1QOG7G5EXAIO8', iid='B00005T3C8', r_ui=5.0, est=4.064259962582604, details={'was_impossible': True, 'reason': 'User and/or item is unkown.'}),\n",
              " Prediction(uid='A2V7IRVZJWQW6M', iid='B0001N3ZRQ', r_ui=5.0, est=4.064259962582604, details={'was_impossible': True, 'reason': 'User and/or item is unkown.'}),\n",
              " Prediction(uid='AP1335UV2ALB4', iid='B00005A1K1', r_ui=5.0, est=4.248062015503876, details={'actual_k': 0, 'was_impossible': False}),\n",
              " Prediction(uid='AROQO2VDODT7', iid='B0000BZL1P', r_ui=5.0, est=5, details={'actual_k': 4, 'was_impossible': False}),\n",
              " Prediction(uid='A3AW7IWKCOX693', iid='B0002Z45DQ', r_ui=5.0, est=4.064259962582604, details={'was_impossible': True, 'reason': 'User and/or item is unkown.'}),\n",
              " Prediction(uid='A36RNTV425PNPU', iid='B0002YE686', r_ui=5.0, est=4.064259962582604, details={'was_impossible': True, 'reason': 'User and/or item is unkown.'}),\n",
              " Prediction(uid='A3FJ7TTG7U5OBX', iid='B00028ONIA', r_ui=3.0, est=4.064259962582604, details={'was_impossible': True, 'reason': 'User and/or item is unkown.'}),\n",
              " Prediction(uid='A30VUIPRB00HQU', iid='B0000BZOGJ', r_ui=3.0, est=4.064259962582604, details={'was_impossible': True, 'reason': 'User and/or item is unkown.'}),\n",
              " Prediction(uid='A24U7TCN03OZ7V', iid='B000652M6Y', r_ui=3.0, est=4.064259962582604, details={'was_impossible': True, 'reason': 'User and/or item is unkown.'}),\n",
              " Prediction(uid='ATD8JA5MYMKUE', iid='B00006JPRQ', r_ui=3.0, est=2.926829268292683, details={'actual_k': 0, 'was_impossible': False}),\n",
              " Prediction(uid='AZXAEITRAM8EZ', iid='B0002J226O', r_ui=5.0, est=4.064259962582604, details={'was_impossible': True, 'reason': 'User and/or item is unkown.'}),\n",
              " Prediction(uid='A12AK7Q8BYZIKH', iid='B00024VTKE', r_ui=3.0, est=4.213483146067416, details={'actual_k': 0, 'was_impossible': False}),\n",
              " Prediction(uid='A28WII8A0HR0TR', iid='B0001LTT5K', r_ui=4.0, est=4.064259962582604, details={'was_impossible': True, 'reason': 'User and/or item is unkown.'}),\n",
              " Prediction(uid='A4KG51TDW1HYL', iid='B00005ATMB', r_ui=5.0, est=4.064259962582604, details={'was_impossible': True, 'reason': 'User and/or item is unkown.'}),\n",
              " Prediction(uid='A13N3XIPTXRE5Y', iid='B0001YXWVO', r_ui=1.0, est=4.064259962582604, details={'was_impossible': True, 'reason': 'User and/or item is unkown.'}),\n",
              " Prediction(uid='A3UY1ROU3GBF0B', iid='B00067TTY0', r_ui=2.0, est=4.064259962582604, details={'was_impossible': True, 'reason': 'User and/or item is unkown.'}),\n",
              " Prediction(uid='A2SI4BW6RZUK51', iid='B000204SWE', r_ui=5.0, est=4.064259962582604, details={'was_impossible': True, 'reason': 'User and/or item is unkown.'}),\n",
              " Prediction(uid='A3AC8AYX5TX0XX', iid='B0000C6E3P', r_ui=5.0, est=4.064259962582604, details={'was_impossible': True, 'reason': 'User and/or item is unkown.'}),\n",
              " Prediction(uid='A3HWI1LE8DE85S', iid='B0001LS3EI', r_ui=5.0, est=4.064259962582604, details={'was_impossible': True, 'reason': 'User and/or item is unkown.'}),\n",
              " Prediction(uid='AJILFYCDNPDDG', iid='B0002JY712', r_ui=5.0, est=4.67595818815331, details={'actual_k': 0, 'was_impossible': False}),\n",
              " Prediction(uid='A1UUXL0UMCVUH3', iid='B00003WGP5', r_ui=3.0, est=4.064259962582604, details={'was_impossible': True, 'reason': 'User and/or item is unkown.'}),\n",
              " Prediction(uid='A2DL7NX7ZERLDX', iid='B0001Y9UEW', r_ui=4.0, est=4.064259962582604, details={'was_impossible': True, 'reason': 'User and/or item is unkown.'}),\n",
              " Prediction(uid='A1ET446U8A8XGN', iid='B00032AIGG', r_ui=5.0, est=4.064259962582604, details={'was_impossible': True, 'reason': 'User and/or item is unkown.'}),\n",
              " Prediction(uid='A2SAKVYBDEM5FW', iid='B0000E1VRT', r_ui=5.0, est=4.064259962582604, details={'was_impossible': True, 'reason': 'User and/or item is unkown.'}),\n",
              " Prediction(uid='A5AXASLO6LDMH', iid='B0001FXLW8', r_ui=5.0, est=4.064259962582604, details={'was_impossible': True, 'reason': 'User and/or item is unkown.'}),\n",
              " Prediction(uid='A1FB3TC9AR5HSP', iid='B00007LTAQ', r_ui=1.0, est=4.064259962582604, details={'was_impossible': True, 'reason': 'User and/or item is unkown.'}),\n",
              " Prediction(uid='A3EA7QP5I2615V', iid='B0002L5R78', r_ui=5.0, est=4.064259962582604, details={'was_impossible': True, 'reason': 'User and/or item is unkown.'}),\n",
              " Prediction(uid='A1SXMUCSNJOJ2I', iid='B00006HYKM', r_ui=5.0, est=4.064259962582604, details={'was_impossible': True, 'reason': 'User and/or item is unkown.'}),\n",
              " Prediction(uid='A179TYQ80LQ7LF', iid='B00011G5FW', r_ui=5.0, est=4.064259962582604, details={'was_impossible': True, 'reason': 'User and/or item is unkown.'}),\n",
              " Prediction(uid='A1NT4YYVBMS2EE', iid='B00009UHKW', r_ui=5.0, est=4.064259962582604, details={'was_impossible': True, 'reason': 'User and/or item is unkown.'}),\n",
              " Prediction(uid='A32BWUVWLSH8DR', iid='B00064O89Y', r_ui=5.0, est=4.026666666666666, details={'actual_k': 0, 'was_impossible': False}),\n",
              " Prediction(uid='A2UB7M19ZXMPRT', iid='B00000K2YR', r_ui=5.0, est=4.064259962582604, details={'was_impossible': True, 'reason': 'User and/or item is unkown.'}),\n",
              " Prediction(uid='ANNFDLV0LYKJ1', iid='B00004WCGF', r_ui=5.0, est=4.064259962582604, details={'was_impossible': True, 'reason': 'User and/or item is unkown.'}),\n",
              " Prediction(uid='A60384DEDEXOV', iid='B00004VXNI', r_ui=3.0, est=4.064259962582604, details={'was_impossible': True, 'reason': 'User and/or item is unkown.'}),\n",
              " Prediction(uid='A1OTRL5A2XEL5F', iid='B00009WQS1', r_ui=5.0, est=4.064259962582604, details={'was_impossible': True, 'reason': 'User and/or item is unkown.'}),\n",
              " Prediction(uid='A28BJNOOV903VH', iid='B00009V3CG', r_ui=5.0, est=4.064259962582604, details={'was_impossible': True, 'reason': 'User and/or item is unkown.'}),\n",
              " Prediction(uid='A1XRD76YD6PL2J', iid='B00004Z68P', r_ui=3.0, est=4.064259962582604, details={'was_impossible': True, 'reason': 'User and/or item is unkown.'}),\n",
              " Prediction(uid='A3UEVAD4L53QFH', iid='B00002EQCW', r_ui=5.0, est=4.064259962582604, details={'was_impossible': True, 'reason': 'User and/or item is unkown.'}),\n",
              " Prediction(uid='A1SUS8UTZBTBKR', iid='B0000658CE', r_ui=1.0, est=4.064259962582604, details={'was_impossible': True, 'reason': 'User and/or item is unkown.'}),\n",
              " Prediction(uid='A118SDNHPAX5LQ', iid='B000050AUJ', r_ui=5.0, est=4.064259962582604, details={'was_impossible': True, 'reason': 'User and/or item is unkown.'}),\n",
              " Prediction(uid='A1F9YHBZIFMW2J', iid='B00009RDIF', r_ui=2.0, est=4.064259962582604, details={'was_impossible': True, 'reason': 'User and/or item is unkown.'}),\n",
              " Prediction(uid='A7WCOGBBYH0RF', iid='B00023KG40', r_ui=3.0, est=4.064259962582604, details={'was_impossible': True, 'reason': 'User and/or item is unkown.'}),\n",
              " Prediction(uid='A1VNEQCTXS0U2P', iid='B00007EDZ7', r_ui=5.0, est=4.064259962582604, details={'was_impossible': True, 'reason': 'User and/or item is unkown.'}),\n",
              " Prediction(uid='AO07SC8CQJYSM', iid='B00004VXNI', r_ui=5.0, est=4.064259962582604, details={'was_impossible': True, 'reason': 'User and/or item is unkown.'}),\n",
              " Prediction(uid='A422UP9JZY60U', iid='B00066IJPQ', r_ui=1.0, est=4.064259962582604, details={'was_impossible': True, 'reason': 'User and/or item is unkown.'}),\n",
              " Prediction(uid='A2BJZM7ZI8HH5C', iid='B0000BVYTV', r_ui=4.0, est=4.064259962582604, details={'was_impossible': True, 'reason': 'User and/or item is unkown.'}),\n",
              " Prediction(uid='A18E8G5RTG8GKM', iid='B00009EHJV', r_ui=5.0, est=4.064259962582604, details={'was_impossible': True, 'reason': 'User and/or item is unkown.'}),\n",
              " Prediction(uid='A2K1M113DV87V4', iid='B00009KAPX', r_ui=5.0, est=3.7457627118644066, details={'actual_k': 0, 'was_impossible': False}),\n",
              " Prediction(uid='A20VKZ926MVU36', iid='B00005NWR0', r_ui=4.0, est=4.064259962582604, details={'was_impossible': True, 'reason': 'User and/or item is unkown.'}),\n",
              " Prediction(uid='A32HY3VSY7RPF1', iid='B00005B4BW', r_ui=1.0, est=4.064259962582604, details={'was_impossible': True, 'reason': 'User and/or item is unkown.'}),\n",
              " Prediction(uid='A2R68672WTBUL9', iid='B00068U44I', r_ui=4.0, est=4.064259962582604, details={'was_impossible': True, 'reason': 'User and/or item is unkown.'}),\n",
              " Prediction(uid='A1IF72MYMLYZTM', iid='B00006HYPV', r_ui=5.0, est=4.064259962582604, details={'was_impossible': True, 'reason': 'User and/or item is unkown.'}),\n",
              " Prediction(uid='A30CMZVHMCY18', iid='B00008AWKZ', r_ui=3.0, est=4.064259962582604, details={'was_impossible': True, 'reason': 'User and/or item is unkown.'}),\n",
              " Prediction(uid='A3TZNKSI68V6Y2', iid='B0002BEY22', r_ui=3.0, est=4.064259962582604, details={'was_impossible': True, 'reason': 'User and/or item is unkown.'}),\n",
              " Prediction(uid='A2K1Z7B8U6D164', iid='B0000Y2WTS', r_ui=5.0, est=4.064259962582604, details={'was_impossible': True, 'reason': 'User and/or item is unkown.'}),\n",
              " Prediction(uid='A2XPFHSGBSGUS3', iid='B00022VBAE', r_ui=5.0, est=4.064259962582604, details={'was_impossible': True, 'reason': 'User and/or item is unkown.'}),\n",
              " Prediction(uid='A320DLHQTRFL5L', iid='B00000J1TX', r_ui=5.0, est=4.064259962582604, details={'was_impossible': True, 'reason': 'User and/or item is unkown.'}),\n",
              " Prediction(uid='A1X7FN0DE9M1MX', iid='B0002WPSBC', r_ui=5.0, est=4.064259962582604, details={'was_impossible': True, 'reason': 'User and/or item is unkown.'}),\n",
              " Prediction(uid='A1S1PXILSTEYZY', iid='B00008VWOJ', r_ui=5.0, est=4.064259962582604, details={'was_impossible': True, 'reason': 'User and/or item is unkown.'}),\n",
              " Prediction(uid='A1HO7J528F9WC', iid='B0001FV364', r_ui=5.0, est=4.252173913043478, details={'actual_k': 0, 'was_impossible': False}),\n",
              " Prediction(uid='AQOEKU7LF4FJ', iid='B0001ILXGQ', r_ui=4.0, est=4.064259962582604, details={'was_impossible': True, 'reason': 'User and/or item is unkown.'}),\n",
              " Prediction(uid='A2JAALDBZFU89W', iid='B00008VF63', r_ui=3.0, est=4.064259962582604, details={'was_impossible': True, 'reason': 'User and/or item is unkown.'}),\n",
              " Prediction(uid='A4ZGPH50QWA1F', iid='B0002L5R78', r_ui=1.0, est=4.437481077808053, details={'actual_k': 0, 'was_impossible': False}),\n",
              " Prediction(uid='A1HSAYB9K98OGX', iid='B0000952XX', r_ui=3.0, est=3.032258064516129, details={'actual_k': 0, 'was_impossible': False}),\n",
              " Prediction(uid='A1O234T90QAPHP', iid='B0002QLQ96', r_ui=1.0, est=4.064259962582604, details={'was_impossible': True, 'reason': 'User and/or item is unkown.'}),\n",
              " Prediction(uid='A1JFF4JGDSN966', iid='B000065BPB', r_ui=5.0, est=4.064259962582604, details={'was_impossible': True, 'reason': 'User and/or item is unkown.'}),\n",
              " Prediction(uid='A2YHI0C3DUZ1UK', iid='B00008XKYO', r_ui=5.0, est=4.064259962582604, details={'was_impossible': True, 'reason': 'User and/or item is unkown.'}),\n",
              " Prediction(uid='A2T83HBH8VDGF6', iid='B0001FXLW8', r_ui=4.0, est=4.064259962582604, details={'was_impossible': True, 'reason': 'User and/or item is unkown.'}),\n",
              " Prediction(uid='A2T3L5VLPGLO50', iid='B00005T3N3', r_ui=5.0, est=4.064259962582604, details={'was_impossible': True, 'reason': 'User and/or item is unkown.'}),\n",
              " Prediction(uid='A3TJ5DKZSMTLT2', iid='B00066EK36', r_ui=4.0, est=4.064259962582604, details={'was_impossible': True, 'reason': 'User and/or item is unkown.'}),\n",
              " Prediction(uid='ALDBEVQKP6JIZ', iid='B0001FTVDQ', r_ui=5.0, est=4.064259962582604, details={'was_impossible': True, 'reason': 'User and/or item is unkown.'}),\n",
              " Prediction(uid='A34AAAX9RZ1LVF', iid='B000065BP9', r_ui=4.0, est=4.064259962582604, details={'was_impossible': True, 'reason': 'User and/or item is unkown.'}),\n",
              " Prediction(uid='A2YLTMAH38MD93', iid='B00007AKC1', r_ui=5.0, est=4.064259962582604, details={'was_impossible': True, 'reason': 'User and/or item is unkown.'}),\n",
              " Prediction(uid='AJH5B4XXPELNL', iid='B00005T3C8', r_ui=5.0, est=4.064259962582604, details={'was_impossible': True, 'reason': 'User and/or item is unkown.'}),\n",
              " Prediction(uid='ACAOKPRQG2BLT', iid='B00005AR4L', r_ui=5.0, est=4.064259962582604, details={'was_impossible': True, 'reason': 'User and/or item is unkown.'}),\n",
              " Prediction(uid='A2T995BMJFJYGY', iid='B0002L5R78', r_ui=5.0, est=4.064259962582604, details={'was_impossible': True, 'reason': 'User and/or item is unkown.'}),\n",
              " Prediction(uid='A37TA8M1E91AJ0', iid='B00009UT9B', r_ui=5.0, est=4.064259962582604, details={'was_impossible': True, 'reason': 'User and/or item is unkown.'}),\n",
              " Prediction(uid='A1CD2ECAEZCB7P', iid='B0000TW3RE', r_ui=5.0, est=4.064259962582604, details={'was_impossible': True, 'reason': 'User and/or item is unkown.'}),\n",
              " Prediction(uid='AO7SIUA0LHKGN', iid='B00000J1QR', r_ui=3.0, est=4.064259962582604, details={'was_impossible': True, 'reason': 'User and/or item is unkown.'}),\n",
              " Prediction(uid='A1BXL4HWBDRTM0', iid='B000144I2Q', r_ui=5.0, est=4.767441860465116, details={'actual_k': 0, 'was_impossible': False}),\n",
              " Prediction(uid='A1KPC4T9TIRS04', iid='B0002J28NQ', r_ui=5.0, est=4.064259962582604, details={'was_impossible': True, 'reason': 'User and/or item is unkown.'}),\n",
              " Prediction(uid='A1U8ZM51E5TDB9', iid='B0002U0JPE', r_ui=5.0, est=4.064259962582604, details={'was_impossible': True, 'reason': 'User and/or item is unkown.'}),\n",
              " Prediction(uid='A3BQGADID42G73', iid='B00005QFZF', r_ui=2.0, est=4.372093023255814, details={'actual_k': 0, 'was_impossible': False}),\n",
              " Prediction(uid='AHHBXE2QDPHR2', iid='B000065BP9', r_ui=5.0, est=4.064259962582604, details={'was_impossible': True, 'reason': 'User and/or item is unkown.'}),\n",
              " Prediction(uid='A2TPKO59CGY7TH', iid='B0002L5R78', r_ui=4.0, est=4.437481077808053, details={'actual_k': 0, 'was_impossible': False}),\n",
              " Prediction(uid='A2VR3GEJY2RXSV', iid='B00007E7C8', r_ui=5.0, est=4.064259962582604, details={'was_impossible': True, 'reason': 'User and/or item is unkown.'}),\n",
              " Prediction(uid='A1MEC6AFV7G6YW', iid='B00029U1DK', r_ui=5.0, est=4.064259962582604, details={'was_impossible': True, 'reason': 'User and/or item is unkown.'}),\n",
              " Prediction(uid='ARBNJWM9TGXSO', iid='B0000659UN', r_ui=1.0, est=4.064259962582604, details={'was_impossible': True, 'reason': 'User and/or item is unkown.'}),\n",
              " Prediction(uid='A339VQ2QZQD3WK', iid='B0002SQ2P2', r_ui=5.0, est=4.064259962582604, details={'was_impossible': True, 'reason': 'User and/or item is unkown.'}),\n",
              " Prediction(uid='A1OISXDSOQP9UL', iid='B00008VIX2', r_ui=5.0, est=4.064259962582604, details={'was_impossible': True, 'reason': 'User and/or item is unkown.'}),\n",
              " Prediction(uid='A8WZ5ICYI9I6W', iid='B000067RCU', r_ui=1.0, est=4.658536585365853, details={'actual_k': 0, 'was_impossible': False}),\n",
              " Prediction(uid='A2KM9WBCDW9VL5', iid='B000067RBT', r_ui=5.0, est=4.064259962582604, details={'was_impossible': True, 'reason': 'User and/or item is unkown.'}),\n",
              " Prediction(uid='AC3UD6BX556S3', iid='B000065UDU', r_ui=5.0, est=4.064259962582604, details={'was_impossible': True, 'reason': 'User and/or item is unkown.'}),\n",
              " Prediction(uid='A2Q9ZWQ5NVT19E', iid='B00002N7FQ', r_ui=5.0, est=4.064259962582604, details={'was_impossible': True, 'reason': 'User and/or item is unkown.'}),\n",
              " Prediction(uid='A1MVER7MI3DB7T', iid='B00007E7JU', r_ui=5.0, est=4.064259962582604, details={'was_impossible': True, 'reason': 'User and/or item is unkown.'}),\n",
              " Prediction(uid='A4613VXLYF68J', iid='B0001FTVEK', r_ui=5.0, est=4.064259962582604, details={'was_impossible': True, 'reason': 'User and/or item is unkown.'}),\n",
              " Prediction(uid='A2YPI43ROXEVL', iid='B000067RBT', r_ui=2.0, est=4.064259962582604, details={'was_impossible': True, 'reason': 'User and/or item is unkown.'}),\n",
              " Prediction(uid='A2MGXJLB6P8YLR', iid='B000058EGT', r_ui=1.0, est=4.064259962582604, details={'was_impossible': True, 'reason': 'User and/or item is unkown.'}),\n",
              " Prediction(uid='A2PJ4V6SBL4TB7', iid='B0001H29OW', r_ui=1.0, est=4.064259962582604, details={'was_impossible': True, 'reason': 'User and/or item is unkown.'}),\n",
              " Prediction(uid='A3J3B85D2SGHQH', iid='B00008JOMD', r_ui=4.0, est=4.064259962582604, details={'was_impossible': True, 'reason': 'User and/or item is unkown.'}),\n",
              " Prediction(uid='A1JZKRPCTZZ1CP', iid='B00004ZCJE', r_ui=5.0, est=3.910662625160077, details={'actual_k': 1, 'was_impossible': False}),\n",
              " Prediction(uid='A2026A38RNWJX3', iid='B00006HOKR', r_ui=5.0, est=4.064259962582604, details={'was_impossible': True, 'reason': 'User and/or item is unkown.'}),\n",
              " Prediction(uid='A3JPEVXHCPUHQ0', iid='B0000510T7', r_ui=5.0, est=4.064259962582604, details={'was_impossible': True, 'reason': 'User and/or item is unkown.'}),\n",
              " Prediction(uid='A2XOAPWLYOWJK3', iid='B00017LSPI', r_ui=5.0, est=4.064259962582604, details={'was_impossible': True, 'reason': 'User and/or item is unkown.'}),\n",
              " Prediction(uid='A1K5P3VAK2BA5B', iid='B0002BG6RI', r_ui=4.0, est=4.064259962582604, details={'was_impossible': True, 'reason': 'User and/or item is unkown.'}),\n",
              " Prediction(uid='A2E0LBS94XASA9', iid='B000068O3C', r_ui=5.0, est=4.064259962582604, details={'was_impossible': True, 'reason': 'User and/or item is unkown.'}),\n",
              " Prediction(uid='A1M1YYWUQNKH8L', iid='B0002ER5B6', r_ui=5.0, est=4.064259962582604, details={'was_impossible': True, 'reason': 'User and/or item is unkown.'}),\n",
              " Prediction(uid='AKEM0LQV22W5H', iid='B000095SB4', r_ui=5.0, est=4.064259962582604, details={'was_impossible': True, 'reason': 'User and/or item is unkown.'}),\n",
              " Prediction(uid='A2IYOX0G607ZKS', iid='B00004THCZ', r_ui=5.0, est=4.223776223776224, details={'actual_k': 0, 'was_impossible': False}),\n",
              " Prediction(uid='A2Q8GRKLBRGRKX', iid='B0002BEQJ8', r_ui=5.0, est=4.064259962582604, details={'was_impossible': True, 'reason': 'User and/or item is unkown.'}),\n",
              " Prediction(uid='A26KL32L1UGQI1', iid='B0001M3982', r_ui=5.0, est=4.064259962582604, details={'was_impossible': True, 'reason': 'User and/or item is unkown.'}),\n",
              " Prediction(uid='A10SJA4J34E705', iid='B0000AAAPF', r_ui=1.0, est=4.064259962582604, details={'was_impossible': True, 'reason': 'User and/or item is unkown.'}),\n",
              " Prediction(uid='A2D898O4C2B84G', iid='B00065L5TE', r_ui=5.0, est=4.064259962582604, details={'was_impossible': True, 'reason': 'User and/or item is unkown.'}),\n",
              " Prediction(uid='AZMRWKGBNZO76', iid='B0000A0AEM', r_ui=2.0, est=4.064259962582604, details={'was_impossible': True, 'reason': 'User and/or item is unkown.'}),\n",
              " Prediction(uid='AMCNAH8SO8LEY', iid='B0002L5R78', r_ui=1.0, est=4.064259962582604, details={'was_impossible': True, 'reason': 'User and/or item is unkown.'}),\n",
              " Prediction(uid='A34LNRNH4A9PAQ', iid='B000001OM5', r_ui=4.0, est=4.064259962582604, details={'was_impossible': True, 'reason': 'User and/or item is unkown.'}),\n",
              " Prediction(uid='A20RTC3CT6XKTY', iid='B00007EDM8', r_ui=5.0, est=4.064259962582604, details={'was_impossible': True, 'reason': 'User and/or item is unkown.'}),\n",
              " Prediction(uid='A2AMUMN26X1VH3', iid='B00008SCFL', r_ui=5.0, est=4.064259962582604, details={'was_impossible': True, 'reason': 'User and/or item is unkown.'}),\n",
              " Prediction(uid='AOTPQIGGZIHE5', iid='B00004Z5M1', r_ui=5.0, est=4.064259962582604, details={'was_impossible': True, 'reason': 'User and/or item is unkown.'}),\n",
              " Prediction(uid='A30FKAMIAQYQMO', iid='B00001P4ZH', r_ui=5.0, est=4.462290502793296, details={'actual_k': 0, 'was_impossible': False}),\n",
              " Prediction(uid='A2ARRKZJKTGZVL', iid='B000092TT0', r_ui=4.0, est=4.064259962582604, details={'was_impossible': True, 'reason': 'User and/or item is unkown.'}),\n",
              " Prediction(uid='A2T796C1O26FRS', iid='B000053HBB', r_ui=5.0, est=4.064259962582604, details={'was_impossible': True, 'reason': 'User and/or item is unkown.'}),\n",
              " Prediction(uid='AHU1EKEZPXBPT', iid='B000065CE1', r_ui=4.0, est=4.064259962582604, details={'was_impossible': True, 'reason': 'User and/or item is unkown.'}),\n",
              " Prediction(uid='A229KNRZM9URT', iid='B00000J0D5', r_ui=5.0, est=4.064259962582604, details={'was_impossible': True, 'reason': 'User and/or item is unkown.'}),\n",
              " Prediction(uid='A1QJYC85LNS4S2', iid='B0000Y2WY8', r_ui=5.0, est=4.674418604651163, details={'actual_k': 0, 'was_impossible': False}),\n",
              " Prediction(uid='A1XSZKBWAOZCDJ', iid='B00007EDZG', r_ui=5.0, est=4.064259962582604, details={'was_impossible': True, 'reason': 'User and/or item is unkown.'}),\n",
              " Prediction(uid='A1VASOVPUGUYEJ', iid='B00001P4XA', r_ui=5.0, est=4.064259962582604, details={'was_impossible': True, 'reason': 'User and/or item is unkown.'}),\n",
              " Prediction(uid='AT7GXB5IYZPXN', iid='B00028DJTY', r_ui=4.0, est=4.064259962582604, details={'was_impossible': True, 'reason': 'User and/or item is unkown.'}),\n",
              " Prediction(uid='A3A2D2GWO3OVFF', iid='B0000CG4DI', r_ui=1.0, est=4.064259962582604, details={'was_impossible': True, 'reason': 'User and/or item is unkown.'}),\n",
              " Prediction(uid='A3AEQVHYRTKETU', iid='B0002TQXJG', r_ui=4.0, est=3.6666666666666665, details={'actual_k': 0, 'was_impossible': False}),\n",
              " Prediction(uid='A1P9YZK0D837QO', iid='B0002WPREU', r_ui=5.0, est=4.064259962582604, details={'was_impossible': True, 'reason': 'User and/or item is unkown.'}),\n",
              " Prediction(uid='A1OKU0XLOEZATN', iid='B000051299', r_ui=2.0, est=4.064259962582604, details={'was_impossible': True, 'reason': 'User and/or item is unkown.'}),\n",
              " Prediction(uid='A2ZNBBFXF4YM01', iid='B0000658CE', r_ui=2.0, est=4.064259962582604, details={'was_impossible': True, 'reason': 'User and/or item is unkown.'}),\n",
              " Prediction(uid='A2QDZ4P82VRC00', iid='B00008NJEP', r_ui=1.0, est=3.307142857142857, details={'actual_k': 0, 'was_impossible': False}),\n",
              " Prediction(uid='A3EPVRVKG8HFUZ', iid='B00004T8R2', r_ui=5.0, est=4.064259962582604, details={'was_impossible': True, 'reason': 'User and/or item is unkown.'}),\n",
              " Prediction(uid='A1UXHSKMBNG41E', iid='B00008Y0VN', r_ui=4.0, est=4.064259962582604, details={'was_impossible': True, 'reason': 'User and/or item is unkown.'}),\n",
              " Prediction(uid='A12XRHXJRFNKPT', iid='B0000BYDKO', r_ui=4.0, est=3.3666666666666667, details={'actual_k': 0, 'was_impossible': False}),\n",
              " Prediction(uid='AYCTNGJTV1B9N', iid='B00065L5TE', r_ui=5.0, est=4.438066465256798, details={'actual_k': 0, 'was_impossible': False}),\n",
              " Prediction(uid='AD91KD0H3W5IH', iid='B00008KWWF', r_ui=5.0, est=4.064259962582604, details={'was_impossible': True, 'reason': 'User and/or item is unkown.'}),\n",
              " Prediction(uid='A2T45UGV9KM10F', iid='B000062VUO', r_ui=5.0, est=4.064259962582604, details={'was_impossible': True, 'reason': 'User and/or item is unkown.'}),\n",
              " Prediction(uid='A2IS1JL82VSFBW', iid='B0002WPSBC', r_ui=5.0, est=4.064259962582604, details={'was_impossible': True, 'reason': 'User and/or item is unkown.'}),\n",
              " Prediction(uid='A2OU30AKABBS95', iid='B00024ENES', r_ui=5.0, est=4.064259962582604, details={'was_impossible': True, 'reason': 'User and/or item is unkown.'}),\n",
              " Prediction(uid='AAQDC94GP6TPQ', iid='B000652M6Y', r_ui=3.0, est=4.064259962582604, details={'was_impossible': True, 'reason': 'User and/or item is unkown.'}),\n",
              " Prediction(uid='A1T9JZ8K2244U5', iid='B000165C10', r_ui=5.0, est=4.064259962582604, details={'was_impossible': True, 'reason': 'User and/or item is unkown.'}),\n",
              " Prediction(uid='A3APKQ6NB6LSQS', iid='B00007E7JU', r_ui=5.0, est=4.064259962582604, details={'was_impossible': True, 'reason': 'User and/or item is unkown.'}),\n",
              " Prediction(uid='AKM68B03TZ64E', iid='B000065BP9', r_ui=5.0, est=4.064259962582604, details={'was_impossible': True, 'reason': 'User and/or item is unkown.'}),\n",
              " Prediction(uid='A1B1DVSO9825Z2', iid='B00007E7C8', r_ui=5.0, est=4.064259962582604, details={'was_impossible': True, 'reason': 'User and/or item is unkown.'}),\n",
              " Prediction(uid='A3IS1Q6HP1EM8N', iid='B00007056H', r_ui=5.0, est=4.064259962582604, details={'was_impossible': True, 'reason': 'User and/or item is unkown.'}),\n",
              " Prediction(uid='AF7WSQ6DGD685', iid='B000067RT6', r_ui=5.0, est=4.064259962582604, details={'was_impossible': True, 'reason': 'User and/or item is unkown.'}),\n",
              " Prediction(uid='A3HQDVJ3Y0KBBG', iid='B00006JPWW', r_ui=5.0, est=4.064259962582604, details={'was_impossible': True, 'reason': 'User and/or item is unkown.'}),\n",
              " Prediction(uid='ASQPQFMY86ERJ', iid='B000067V62', r_ui=4.0, est=4.064259962582604, details={'was_impossible': True, 'reason': 'User and/or item is unkown.'}),\n",
              " Prediction(uid='A2ELOQ0B9R7FTJ', iid='B0002343AS', r_ui=5.0, est=4.064259962582604, details={'was_impossible': True, 'reason': 'User and/or item is unkown.'}),\n",
              " Prediction(uid='A25XMTRD09NMSU', iid='B00004Z6N6', r_ui=5.0, est=4.064259962582604, details={'was_impossible': True, 'reason': 'User and/or item is unkown.'}),\n",
              " Prediction(uid='A5S1IR85VVU2W', iid='B000067RBT', r_ui=5.0, est=4.064259962582604, details={'was_impossible': True, 'reason': 'User and/or item is unkown.'}),\n",
              " Prediction(uid='ATL0C6YGK9HP4', iid='B0000BZOGJ', r_ui=5.0, est=4.064259962582604, details={'was_impossible': True, 'reason': 'User and/or item is unkown.'}),\n",
              " Prediction(uid='A2DG1NQM08X1EI', iid='B00028ONIA', r_ui=3.0, est=4.064259962582604, details={'was_impossible': True, 'reason': 'User and/or item is unkown.'}),\n",
              " Prediction(uid='A2WMTT17HJE6FX', iid='B00006FXR9', r_ui=1.0, est=4.064259962582604, details={'was_impossible': True, 'reason': 'User and/or item is unkown.'}),\n",
              " Prediction(uid='AHGWEHOC6Q9EP', iid='B00006I5O1', r_ui=5.0, est=4.064259962582604, details={'was_impossible': True, 'reason': 'User and/or item is unkown.'}),\n",
              " Prediction(uid='A3NP39QDKNKMA2', iid='B00005B4BW', r_ui=2.0, est=4.064259962582604, details={'was_impossible': True, 'reason': 'User and/or item is unkown.'}),\n",
              " Prediction(uid='A16S4E15XZOPN8', iid='B0002L5R78', r_ui=5.0, est=4.064259962582604, details={'was_impossible': True, 'reason': 'User and/or item is unkown.'}),\n",
              " Prediction(uid='A1YSEZZ4C9Y1VV', iid='B00000JI4F', r_ui=5.0, est=4.064259962582604, details={'was_impossible': True, 'reason': 'User and/or item is unkown.'}),\n",
              " Prediction(uid='AS55TN0ZI5DXO', iid='B00005B8HO', r_ui=4.0, est=4.064259962582604, details={'was_impossible': True, 'reason': 'User and/or item is unkown.'}),\n",
              " Prediction(uid='A68ZXMOB6PSMI', iid='B0002QLQ96', r_ui=3.0, est=4.064259962582604, details={'was_impossible': True, 'reason': 'User and/or item is unkown.'}),\n",
              " Prediction(uid='AZHBS11FLZTYF', iid='B0002L5R78', r_ui=5.0, est=4.064259962582604, details={'was_impossible': True, 'reason': 'User and/or item is unkown.'}),\n",
              " Prediction(uid='A3OPZUMY8N80TF', iid='B0001FTVEA', r_ui=3.0, est=4.064259962582604, details={'was_impossible': True, 'reason': 'User and/or item is unkown.'}),\n",
              " Prediction(uid='ANLNBDW5CJB8L', iid='B00005NWR0', r_ui=3.0, est=4.064259962582604, details={'was_impossible': True, 'reason': 'User and/or item is unkown.'}),\n",
              " Prediction(uid='AZ57VSDGXH2O6', iid='B00021ZVL0', r_ui=2.0, est=4.064259962582604, details={'was_impossible': True, 'reason': 'User and/or item is unkown.'}),\n",
              " Prediction(uid='A357UJNDB56MXC', iid='B00005QCT3', r_ui=5.0, est=4.064259962582604, details={'was_impossible': True, 'reason': 'User and/or item is unkown.'}),\n",
              " Prediction(uid='A3HDV71NT9TJP3', iid='B00005A1K1', r_ui=5.0, est=4.064259962582604, details={'was_impossible': True, 'reason': 'User and/or item is unkown.'}),\n",
              " Prediction(uid='AWY0LW5D5EMD7', iid='B00009MK5M', r_ui=5.0, est=4.064259962582604, details={'was_impossible': True, 'reason': 'User and/or item is unkown.'}),\n",
              " Prediction(uid='A24Q15UQS2URFE', iid='B0002XQJFA', r_ui=4.0, est=4.064259962582604, details={'was_impossible': True, 'reason': 'User and/or item is unkown.'}),\n",
              " Prediction(uid='A1BB8937SOUP0E', iid='B000652M6Y', r_ui=5.0, est=4.064259962582604, details={'was_impossible': True, 'reason': 'User and/or item is unkown.'}),\n",
              " Prediction(uid='A1MNHN28F46EKT', iid='B000067RC4', r_ui=5.0, est=4.064259962582604, details={'was_impossible': True, 'reason': 'User and/or item is unkown.'}),\n",
              " Prediction(uid='A3ATHKLTJFR612', iid='B0000AI0OE', r_ui=5.0, est=4.306569343065694, details={'actual_k': 0, 'was_impossible': False}),\n",
              " Prediction(uid='A2VHNK9KG4FN9F', iid='B00005OT5X', r_ui=4.0, est=4.145945945945946, details={'actual_k': 0, 'was_impossible': False}),\n",
              " Prediction(uid='A37D62W941D2AF', iid='B0001D3K8A', r_ui=1.0, est=4.064259962582604, details={'was_impossible': True, 'reason': 'User and/or item is unkown.'}),\n",
              " Prediction(uid='A3KR05AI2WI55E', iid='B000095SB6', r_ui=1.0, est=4.064259962582604, details={'was_impossible': True, 'reason': 'User and/or item is unkown.'}),\n",
              " Prediction(uid='A8IBEPH7UTV4R', iid='B0002BEWZQ', r_ui=4.0, est=3.2849282296650717, details={'actual_k': 1, 'was_impossible': False}),\n",
              " Prediction(uid='A27960HXT0E9E8', iid='B0002L5R78', r_ui=4.0, est=4.064259962582604, details={'was_impossible': True, 'reason': 'User and/or item is unkown.'}),\n",
              " Prediction(uid='A5KVHI1WDD6CO', iid='B00006RH5I', r_ui=3.0, est=4.064259962582604, details={'was_impossible': True, 'reason': 'User and/or item is unkown.'}),\n",
              " Prediction(uid='A1FGR28KP0VWVK', iid='B00009EHJV', r_ui=5.0, est=4.196850393700787, details={'actual_k': 0, 'was_impossible': False}),\n",
              " Prediction(uid='A2DULERPFDU4HG', iid='B0002BEY22', r_ui=4.0, est=4.064259962582604, details={'was_impossible': True, 'reason': 'User and/or item is unkown.'}),\n",
              " Prediction(uid='ACYOYQWKL9NBV', iid='B00006BBAC', r_ui=5.0, est=4.064259962582604, details={'was_impossible': True, 'reason': 'User and/or item is unkown.'}),\n",
              " Prediction(uid='AE6O2DUU9RYQL', iid='B0002Y67UG', r_ui=1.0, est=4.064259962582604, details={'was_impossible': True, 'reason': 'User and/or item is unkown.'}),\n",
              " Prediction(uid='AIV7ZG68SDY2C', iid='B00005T3G0', r_ui=5.0, est=4.630785791173305, details={'actual_k': 0, 'was_impossible': False}),\n",
              " Prediction(uid='AGWAA2G57TQ1U', iid='B0002WPREU', r_ui=5.0, est=4.064259962582604, details={'was_impossible': True, 'reason': 'User and/or item is unkown.'}),\n",
              " Prediction(uid='A3EBJNZ3FJAFFC', iid='B000066E6Y', r_ui=4.0, est=4.064259962582604, details={'was_impossible': True, 'reason': 'User and/or item is unkown.'}),\n",
              " Prediction(uid='A2GGHGT1HNAR5F', iid='B00006HYPV', r_ui=5.0, est=4.064259962582604, details={'was_impossible': True, 'reason': 'User and/or item is unkown.'}),\n",
              " Prediction(uid='A2JA3YY2OCV68B', iid='B00020S7XK', r_ui=5.0, est=4.064259962582604, details={'was_impossible': True, 'reason': 'User and/or item is unkown.'}),\n",
              " Prediction(uid='A3USV40HMLQ4PV', iid='B00066IJPQ', r_ui=4.0, est=3.6791044776119404, details={'actual_k': 0, 'was_impossible': False}),\n",
              " Prediction(uid='ADZZO3D3PTSJA', iid='B0000A1VS3', r_ui=5.0, est=4.064259962582604, details={'was_impossible': True, 'reason': 'User and/or item is unkown.'}),\n",
              " Prediction(uid='A2YHY9DVYZBS4A', iid='B00005T39Y', r_ui=1.0, est=4.064259962582604, details={'was_impossible': True, 'reason': 'User and/or item is unkown.'}),\n",
              " Prediction(uid='A1CRKXZHTI95AI', iid='B000058BCR', r_ui=4.0, est=3.5833333333333335, details={'actual_k': 0, 'was_impossible': False}),\n",
              " Prediction(uid='A2C9ZIZQ72GKHS', iid='B0002KVQBA', r_ui=5.0, est=4.064259962582604, details={'was_impossible': True, 'reason': 'User and/or item is unkown.'}),\n",
              " Prediction(uid='A3TRDH6S5XCRET', iid='B00007AKDL', r_ui=1.0, est=4.064259962582604, details={'was_impossible': True, 'reason': 'User and/or item is unkown.'}),\n",
              " Prediction(uid='AGT1RN4G4F49B', iid='B00063ZVJQ', r_ui=4.0, est=4.064259962582604, details={'was_impossible': True, 'reason': 'User and/or item is unkown.'}),\n",
              " Prediction(uid='AKDZPNKL0R80H', iid='B00061UISM', r_ui=5.0, est=4.7317073170731705, details={'actual_k': 0, 'was_impossible': False}),\n",
              " Prediction(uid='A2W07THWMRJGA4', iid='B0002HA7FY', r_ui=1.0, est=4.064259962582604, details={'was_impossible': True, 'reason': 'User and/or item is unkown.'}),\n",
              " Prediction(uid='A1QTDKE3L3I0N6', iid='B00005LEN4', r_ui=5.0, est=4.064259962582604, details={'was_impossible': True, 'reason': 'User and/or item is unkown.'}),\n",
              " Prediction(uid='A3UQ7RIV0UWBKJ', iid='B00023JJV6', r_ui=4.0, est=4.064259962582604, details={'was_impossible': True, 'reason': 'User and/or item is unkown.'}),\n",
              " Prediction(uid='A34MIPHHCMTCG0', iid='B0002MQGOA', r_ui=5.0, est=4.064259962582604, details={'was_impossible': True, 'reason': 'User and/or item is unkown.'}),\n",
              " Prediction(uid='APLWLRWZJ2CQD', iid='B000085ZKV', r_ui=1.0, est=4.064259962582604, details={'was_impossible': True, 'reason': 'User and/or item is unkown.'}),\n",
              " Prediction(uid='A1D3CAL1PZQGN5', iid='B0002ZH71S', r_ui=3.0, est=4.064259962582604, details={'was_impossible': True, 'reason': 'User and/or item is unkown.'}),\n",
              " Prediction(uid='A3TKBC1F4VS90Q', iid='B00030097G', r_ui=5.0, est=4.064259962582604, details={'was_impossible': True, 'reason': 'User and/or item is unkown.'}),\n",
              " Prediction(uid='AN7RJP9TI78ND', iid='B0000CE1UO', r_ui=2.0, est=1.5292381974248928, details={'actual_k': 1, 'was_impossible': False}),\n",
              " Prediction(uid='A3TIFRCUO65Z4O', iid='B00006HYPD', r_ui=4.0, est=4.064259962582604, details={'was_impossible': True, 'reason': 'User and/or item is unkown.'}),\n",
              " Prediction(uid='APDZU24PSMOYE', iid='B0000BZL1P', r_ui=5.0, est=4.064259962582604, details={'was_impossible': True, 'reason': 'User and/or item is unkown.'}),\n",
              " Prediction(uid='A2FCT2EPFRGMUN', iid='B00000JDHV', r_ui=2.0, est=4.064259962582604, details={'was_impossible': True, 'reason': 'User and/or item is unkown.'}),\n",
              " Prediction(uid='A1SMBAP8ORQT4Y', iid='B00008SCFL', r_ui=4.0, est=3.291223404255319, details={'actual_k': 0, 'was_impossible': False}),\n",
              " Prediction(uid='A33L0125HWEOS8', iid='B0002F4EO6', r_ui=1.0, est=4.064259962582604, details={'was_impossible': True, 'reason': 'User and/or item is unkown.'}),\n",
              " Prediction(uid='A1VNWN8BHJP01D', iid='B0002L5R78', r_ui=5.0, est=4.064259962582604, details={'was_impossible': True, 'reason': 'User and/or item is unkown.'}),\n",
              " Prediction(uid='A2RCCDVBANL1MI', iid='B00006CJKC', r_ui=3.0, est=4.064259962582604, details={'was_impossible': True, 'reason': 'User and/or item is unkown.'}),\n",
              " Prediction(uid='ARJBW1MD6C9E4', iid='B0000BZL0G', r_ui=1.0, est=4.064259962582604, details={'was_impossible': True, 'reason': 'User and/or item is unkown.'}),\n",
              " Prediction(uid='A1MWVX7T2VTZP6', iid='B00005Y7DP', r_ui=4.0, est=4.064259962582604, details={'was_impossible': True, 'reason': 'User and/or item is unkown.'}),\n",
              " Prediction(uid='A1XXMNLOLKNO0I', iid='B00007E7K9', r_ui=4.0, est=4.4523809523809526, details={'actual_k': 0, 'was_impossible': False}),\n",
              " Prediction(uid='A2B7BUH8834Y6M', iid='B0000AKVHF', r_ui=5.0, est=4.895936972425436, details={'actual_k': 1, 'was_impossible': False}),\n",
              " Prediction(uid='AUMBN1XWDYQLL', iid='B00005TQ08', r_ui=4.0, est=4.4787878787878785, details={'actual_k': 0, 'was_impossible': False}),\n",
              " Prediction(uid='A5EXO0WA2O2D4', iid='B0002Y5WZM', r_ui=3.0, est=4.659033078880407, details={'actual_k': 0, 'was_impossible': False}),\n",
              " Prediction(uid='A3CL9LNMYXVEHX', iid='B0001IXUEY', r_ui=4.0, est=4.064259962582604, details={'was_impossible': True, 'reason': 'User and/or item is unkown.'}),\n",
              " Prediction(uid='A15LHWDOK2UGC3', iid='B000067RMT', r_ui=5.0, est=4.064259962582604, details={'was_impossible': True, 'reason': 'User and/or item is unkown.'}),\n",
              " Prediction(uid='ALIGPBPDL6HGV', iid='B0002L5R78', r_ui=4.0, est=4.064259962582604, details={'was_impossible': True, 'reason': 'User and/or item is unkown.'}),\n",
              " Prediction(uid='AD5X1P6ACBTNT', iid='B00007E7JU', r_ui=4.0, est=4.064259962582604, details={'was_impossible': True, 'reason': 'User and/or item is unkown.'}),\n",
              " Prediction(uid='A26AMZ7MQW8UKP', iid='B00022AH6I', r_ui=5.0, est=4.27906976744186, details={'actual_k': 0, 'was_impossible': False}),\n",
              " Prediction(uid='A3TDNXBP1M1O6T', iid='B0002GRUJ6', r_ui=5.0, est=4.064259962582604, details={'was_impossible': True, 'reason': 'User and/or item is unkown.'}),\n",
              " Prediction(uid='A3LM9RAEZG7DV', iid='B0000UYTPC', r_ui=1.0, est=4.064259962582604, details={'was_impossible': True, 'reason': 'User and/or item is unkown.'}),\n",
              " Prediction(uid='A2VLMY2SLSTTWP', iid='B00007M1TZ', r_ui=5.0, est=4.064259962582604, details={'was_impossible': True, 'reason': 'User and/or item is unkown.'}),\n",
              " Prediction(uid='A1CHSF2YTBXUAS', iid='B00006HYPV', r_ui=2.0, est=3.2832618025751072, details={'actual_k': 0, 'was_impossible': False}),\n",
              " Prediction(uid='A1BQ4345EET5YL', iid='B00009W3BQ', r_ui=2.0, est=4.064259962582604, details={'was_impossible': True, 'reason': 'User and/or item is unkown.'}),\n",
              " Prediction(uid='A34ZKB31HX36RP', iid='B00011KLOI', r_ui=5.0, est=4.064259962582604, details={'was_impossible': True, 'reason': 'User and/or item is unkown.'}),\n",
              " Prediction(uid='A2BGXMV48SXMJK', iid='B00009R6UI', r_ui=4.0, est=4.245614035087719, details={'actual_k': 0, 'was_impossible': False}),\n",
              " Prediction(uid='A3JZ3PFAD6DXBM', iid='B00001P4XH', r_ui=5.0, est=4.064259962582604, details={'was_impossible': True, 'reason': 'User and/or item is unkown.'}),\n",
              " Prediction(uid='A1CGF0HKT7D7C2', iid='B000067RC4', r_ui=2.0, est=4.064259962582604, details={'was_impossible': True, 'reason': 'User and/or item is unkown.'}),\n",
              " Prediction(uid='ATZ00OZCLUVET', iid='B00017LSPI', r_ui=5.0, est=3.326445157431073, details={'actual_k': 1, 'was_impossible': False}),\n",
              " Prediction(uid='A2WFS7W0QD5KPI', iid='B00023NDLS', r_ui=5.0, est=4.064259962582604, details={'was_impossible': True, 'reason': 'User and/or item is unkown.'}),\n",
              " Prediction(uid='A64JA3363WGVP', iid='B0000510T7', r_ui=1.0, est=4.064259962582604, details={'was_impossible': True, 'reason': 'User and/or item is unkown.'}),\n",
              " Prediction(uid='A1MVHWEIP4U2LK', iid='B000165GJI', r_ui=1.0, est=4.064259962582604, details={'was_impossible': True, 'reason': 'User and/or item is unkown.'}),\n",
              " Prediction(uid='A2PX8TSGH8VGDH', iid='B00004VUGJ', r_ui=5.0, est=4.064259962582604, details={'was_impossible': True, 'reason': 'User and/or item is unkown.'}),\n",
              " Prediction(uid='A3P15GL2VZ2HQ1', iid='B00068B9RE', r_ui=1.0, est=4.064259962582604, details={'was_impossible': True, 'reason': 'User and/or item is unkown.'}),\n",
              " Prediction(uid='A3GAC64F5NKHAG', iid='B0002GX1XA', r_ui=1.0, est=4.064259962582604, details={'was_impossible': True, 'reason': 'User and/or item is unkown.'}),\n",
              " Prediction(uid='A1F562K3YSDQB9', iid='1400501466', r_ui=5.0, est=4.064259962582604, details={'was_impossible': True, 'reason': 'User and/or item is unkown.'}),\n",
              " Prediction(uid='ACSILCUHQWT0L', iid='B000051ZOA', r_ui=5.0, est=4.064259962582604, details={'was_impossible': True, 'reason': 'User and/or item is unkown.'}),\n",
              " Prediction(uid='AXMA4ELM5F3KH', iid='B000068O3L', r_ui=5.0, est=4.064259962582604, details={'was_impossible': True, 'reason': 'User and/or item is unkown.'}),\n",
              " Prediction(uid='A150VOHJDHV7H3', iid='B00008V3EE', r_ui=4.0, est=4.064259962582604, details={'was_impossible': True, 'reason': 'User and/or item is unkown.'}),\n",
              " Prediction(uid='A1RPIM2FQ067IZ', iid='B00007EDM8', r_ui=3.0, est=4.064259962582604, details={'was_impossible': True, 'reason': 'User and/or item is unkown.'}),\n",
              " Prediction(uid='A1851LBUQGZI28', iid='B0000C20T5', r_ui=4.0, est=4.458333333333333, details={'actual_k': 0, 'was_impossible': False}),\n",
              " Prediction(uid='AMIIKFQFTIRK2', iid='B0000AI0N1', r_ui=5.0, est=4.064259962582604, details={'was_impossible': True, 'reason': 'User and/or item is unkown.'}),\n",
              " Prediction(uid='A363DH8JE9YSFT', iid='B00022VZ0K', r_ui=5.0, est=4.121739130434783, details={'actual_k': 0, 'was_impossible': False}),\n",
              " Prediction(uid='A1BSMC7IJ2WLY1', iid='B00008AYBE', r_ui=5.0, est=4.064259962582604, details={'was_impossible': True, 'reason': 'User and/or item is unkown.'}),\n",
              " Prediction(uid='A2HI91FAU6RMI2', iid='B00005ML7Q', r_ui=1.0, est=4.064259962582604, details={'was_impossible': True, 'reason': 'User and/or item is unkown.'}),\n",
              " Prediction(uid='A2RHCOUFAGQXL7', iid='B0006B486K', r_ui=3.0, est=4.064259962582604, details={'was_impossible': True, 'reason': 'User and/or item is unkown.'}),\n",
              " Prediction(uid='A3JWD0WQ3VEZEX', iid='B000233WJ6', r_ui=5.0, est=4.064259962582604, details={'was_impossible': True, 'reason': 'User and/or item is unkown.'}),\n",
              " Prediction(uid='AF5TBJH0PQ0TI', iid='B00006I5WJ', r_ui=5.0, est=4.064259962582604, details={'was_impossible': True, 'reason': 'User and/or item is unkown.'}),\n",
              " Prediction(uid='A3RY4ZXA5G2LLJ', iid='B00004Z0BO', r_ui=3.0, est=4.064259962582604, details={'was_impossible': True, 'reason': 'User and/or item is unkown.'}),\n",
              " Prediction(uid='AT3IX1UOL3JPV', iid='B000067RVJ', r_ui=5.0, est=4.064259962582604, details={'was_impossible': True, 'reason': 'User and/or item is unkown.'}),\n",
              " Prediction(uid='AZR2N0ZQ207LH', iid='B0000E1VRT', r_ui=5.0, est=4.064259962582604, details={'was_impossible': True, 'reason': 'User and/or item is unkown.'}),\n",
              " Prediction(uid='A2NC84XZQRBPRE', iid='B00032AVN6', r_ui=1.0, est=4.064259962582604, details={'was_impossible': True, 'reason': 'User and/or item is unkown.'}),\n",
              " Prediction(uid='A1IOM8BW6QNO6Q', iid='B00005V5YP', r_ui=5.0, est=4.447368421052632, details={'actual_k': 0, 'was_impossible': False}),\n",
              " Prediction(uid='AL0PKYTX6Z84X', iid='B00005LVWB', r_ui=5.0, est=4.064259962582604, details={'was_impossible': True, 'reason': 'User and/or item is unkown.'}),\n",
              " Prediction(uid='A27CW07L5OECKG', iid='B0001M2FZK', r_ui=5.0, est=4.064259962582604, details={'was_impossible': True, 'reason': 'User and/or item is unkown.'}),\n",
              " Prediction(uid='A35A51WK4XKXMU', iid='B0002WTK48', r_ui=4.0, est=4.064259962582604, details={'was_impossible': True, 'reason': 'User and/or item is unkown.'}),\n",
              " Prediction(uid='A1Y31BR6NHDDOG', iid='B00007AP2O', r_ui=5.0, est=4.064259962582604, details={'was_impossible': True, 'reason': 'User and/or item is unkown.'}),\n",
              " Prediction(uid='A174LMEP27Q3H9', iid='0972683275', r_ui=5.0, est=4.064259962582604, details={'was_impossible': True, 'reason': 'User and/or item is unkown.'}),\n",
              " Prediction(uid='A184XDDWR5YB70', iid='B00001WRSJ', r_ui=3.0, est=4.064259962582604, details={'was_impossible': True, 'reason': 'User and/or item is unkown.'}),\n",
              " Prediction(uid='A3RBGEV4IHL1XM', iid='B0000ULJWS', r_ui=4.0, est=4.0, details={'actual_k': 0, 'was_impossible': False}),\n",
              " Prediction(uid='AMACXKD1SBM6V', iid='B00004XOM3', r_ui=5.0, est=4.765853658536585, details={'actual_k': 0, 'was_impossible': False}),\n",
              " Prediction(uid='A1WD13J9ZQ855I', iid='B00005ATZN', r_ui=5.0, est=4.064259962582604, details={'was_impossible': True, 'reason': 'User and/or item is unkown.'}),\n",
              " Prediction(uid='A2CZDPHF9J0UE1', iid='B00004Z5M1', r_ui=5.0, est=4.064259962582604, details={'was_impossible': True, 'reason': 'User and/or item is unkown.'}),\n",
              " Prediction(uid='A155V6D1VAX7JH', iid='B0000CE1UO', r_ui=5.0, est=4.064259962582604, details={'was_impossible': True, 'reason': 'User and/or item is unkown.'}),\n",
              " Prediction(uid='A2VI8QAMJ2RXEQ', iid='B00009XVBY', r_ui=4.0, est=4.064259962582604, details={'was_impossible': True, 'reason': 'User and/or item is unkown.'}),\n",
              " Prediction(uid='A1KNDKG4N9ADF8', iid='B00030097G', r_ui=5.0, est=4.064259962582604, details={'was_impossible': True, 'reason': 'User and/or item is unkown.'}),\n",
              " Prediction(uid='A9U49FH2NS7TF', iid='B00007056H', r_ui=4.0, est=4.064259962582604, details={'was_impossible': True, 'reason': 'User and/or item is unkown.'}),\n",
              " Prediction(uid='A373VU4V9IAHWF', iid='B0002L5R78', r_ui=4.0, est=4.064259962582604, details={'was_impossible': True, 'reason': 'User and/or item is unkown.'}),\n",
              " Prediction(uid='A2Y7X2ELNXMK6B', iid='B000629GES', r_ui=2.0, est=4.064259962582604, details={'was_impossible': True, 'reason': 'User and/or item is unkown.'}),\n",
              " Prediction(uid='A1SE7S6RQJGOYP', iid='B00008ZLHG', r_ui=1.0, est=4.064259962582604, details={'was_impossible': True, 'reason': 'User and/or item is unkown.'}),\n",
              " Prediction(uid='A30JK7SRFS0YR4', iid='B00009V7MU', r_ui=5.0, est=4.064259962582604, details={'was_impossible': True, 'reason': 'User and/or item is unkown.'}),\n",
              " Prediction(uid='ADL3NOQITA8CR', iid='B0001DYXOU', r_ui=5.0, est=4.064259962582604, details={'was_impossible': True, 'reason': 'User and/or item is unkown.'}),\n",
              " Prediction(uid='A2AKVI868FSHQV', iid='B0002QLQ96', r_ui=4.0, est=4.064259962582604, details={'was_impossible': True, 'reason': 'User and/or item is unkown.'}),\n",
              " Prediction(uid='A3AFIF3XDFKEJ9', iid='B00029U1DK', r_ui=5.0, est=4.064259962582604, details={'was_impossible': True, 'reason': 'User and/or item is unkown.'}),\n",
              " Prediction(uid='A7462BPM66OUE', iid='B0002SQ2P2', r_ui=4.0, est=4.064259962582604, details={'was_impossible': True, 'reason': 'User and/or item is unkown.'}),\n",
              " Prediction(uid='A2R2A79LIGQT0S', iid='B00005A1KZ', r_ui=3.0, est=4.064259962582604, details={'was_impossible': True, 'reason': 'User and/or item is unkown.'}),\n",
              " Prediction(uid='A6OVB36POO5EF', iid='B00004VUGJ', r_ui=5.0, est=4.064259962582604, details={'was_impossible': True, 'reason': 'User and/or item is unkown.'}),\n",
              " Prediction(uid='AVWJR79G5ZUFH', iid='B0003QER7S', r_ui=5.0, est=4.064259962582604, details={'was_impossible': True, 'reason': 'User and/or item is unkown.'}),\n",
              " Prediction(uid='AF2KW4QQF4VQN', iid='B0002OF2FC', r_ui=1.0, est=4.064259962582604, details={'was_impossible': True, 'reason': 'User and/or item is unkown.'}),\n",
              " Prediction(uid='A2I9S3PXGL7D4A', iid='B00004Z5KA', r_ui=5.0, est=4.064259962582604, details={'was_impossible': True, 'reason': 'User and/or item is unkown.'}),\n",
              " Prediction(uid='AFT1P432EB3QO', iid='B00005854B', r_ui=5.0, est=4.064259962582604, details={'was_impossible': True, 'reason': 'User and/or item is unkown.'}),\n",
              " Prediction(uid='A3U90T9CQCXJCP', iid='B00005N6KG', r_ui=3.0, est=4.055273639984723, details={'actual_k': 1, 'was_impossible': False}),\n",
              " Prediction(uid='A37ZA7SCKF2SVT', iid='B0002SQ2P2', r_ui=5.0, est=4.064259962582604, details={'was_impossible': True, 'reason': 'User and/or item is unkown.'}),\n",
              " Prediction(uid='A1DDKD66PWDYB2', iid='B0002Y5WZM', r_ui=4.0, est=4.064259962582604, details={'was_impossible': True, 'reason': 'User and/or item is unkown.'}),\n",
              " Prediction(uid='A18LHAN2XQVYQ3', iid='B0001A06GW', r_ui=5.0, est=4.188270989946563, details={'actual_k': 1, 'was_impossible': False}),\n",
              " Prediction(uid='A14Y5DWH1HLAO2', iid='B00005T3BD', r_ui=5.0, est=4.064259962582604, details={'was_impossible': True, 'reason': 'User and/or item is unkown.'}),\n",
              " Prediction(uid='A36XKL5N5MFZ3P', iid='B00007B6L5', r_ui=5.0, est=4.064259962582604, details={'was_impossible': True, 'reason': 'User and/or item is unkown.'}),\n",
              " Prediction(uid='AB8W4KDWKK113', iid='B00066IJPQ', r_ui=4.0, est=4.064259962582604, details={'was_impossible': True, 'reason': 'User and/or item is unkown.'}),\n",
              " Prediction(uid='A28RQA5CFYIXKI', iid='B0000513US', r_ui=5.0, est=4.064259962582604, details={'was_impossible': True, 'reason': 'User and/or item is unkown.'}),\n",
              " Prediction(uid='A2CP02KSIYJI3N', iid='B00004WHFK', r_ui=4.0, est=4.064259962582604, details={'was_impossible': True, 'reason': 'User and/or item is unkown.'}),\n",
              " Prediction(uid='A2Y68FOWFKNRIL', iid='B0002HS1A2', r_ui=1.0, est=4.064259962582604, details={'was_impossible': True, 'reason': 'User and/or item is unkown.'}),\n",
              " Prediction(uid='A27E50PUMWUSXY', iid='B00000J1SC', r_ui=3.0, est=4.064259962582604, details={'was_impossible': True, 'reason': 'User and/or item is unkown.'}),\n",
              " Prediction(uid='A1IKIHT1RQZ6HI', iid='B00004T1XK', r_ui=4.0, est=4.064259962582604, details={'was_impossible': True, 'reason': 'User and/or item is unkown.'}),\n",
              " Prediction(uid='A2CLHETS107G3F', iid='B00004ZCKV', r_ui=5.0, est=4.064259962582604, details={'was_impossible': True, 'reason': 'User and/or item is unkown.'}),\n",
              " Prediction(uid='A2XVL2JX069PYE', iid='B000058BCQ', r_ui=5.0, est=4.064259962582604, details={'was_impossible': True, 'reason': 'User and/or item is unkown.'}),\n",
              " Prediction(uid='A1ECBJ131M1SP7', iid='B00004SB92', r_ui=5.0, est=3.935933147632312, details={'actual_k': 0, 'was_impossible': False}),\n",
              " Prediction(uid='A2F9HUF0OBVLIW', iid='B0002KKIUA', r_ui=5.0, est=4.127272727272727, details={'actual_k': 0, 'was_impossible': False}),\n",
              " Prediction(uid='A2NKNV89Y7XWIE', iid='B0001FTVDG', r_ui=5.0, est=4.064259962582604, details={'was_impossible': True, 'reason': 'User and/or item is unkown.'}),\n",
              " Prediction(uid='A3TYNEZOKSR9NC', iid='B0002ZLYYY', r_ui=5.0, est=4.064259962582604, details={'was_impossible': True, 'reason': 'User and/or item is unkown.'}),\n",
              " Prediction(uid='A28997WHXDMBC6', iid='B0000BVDM7', r_ui=5.0, est=4.064259962582604, details={'was_impossible': True, 'reason': 'User and/or item is unkown.'}),\n",
              " Prediction(uid='AB2L3T0WT5BIQ', iid='B00007E7C8', r_ui=5.0, est=4.064259962582604, details={'was_impossible': True, 'reason': 'User and/or item is unkown.'}),\n",
              " Prediction(uid='A1ARUXDAJOKXKT', iid='B00004TBLW', r_ui=5.0, est=4.064259962582604, details={'was_impossible': True, 'reason': 'User and/or item is unkown.'}),\n",
              " Prediction(uid='A2E0U7C9PSY25V', iid='B0002L5R78', r_ui=5.0, est=4.064259962582604, details={'was_impossible': True, 'reason': 'User and/or item is unkown.'}),\n",
              " Prediction(uid='A1A240VJCGY1MI', iid='B00000JCTO', r_ui=4.0, est=4.064259962582604, details={'was_impossible': True, 'reason': 'User and/or item is unkown.'}),\n",
              " Prediction(uid='A2XLP6N8AXEPLZ', iid='B000065BP9', r_ui=4.0, est=4.064259962582604, details={'was_impossible': True, 'reason': 'User and/or item is unkown.'}),\n",
              " Prediction(uid='A34HDS5JCQOTKE', iid='B00008ZPJU', r_ui=1.0, est=4.064259962582604, details={'was_impossible': True, 'reason': 'User and/or item is unkown.'}),\n",
              " Prediction(uid='A2S89R6IFH8RCH', iid='B00007EDM8', r_ui=3.0, est=4.064259962582604, details={'was_impossible': True, 'reason': 'User and/or item is unkown.'}),\n",
              " Prediction(uid='ATY2HFOERI1WB', iid='B0001FV364', r_ui=5.0, est=4.252173913043478, details={'actual_k': 0, 'was_impossible': False}),\n",
              " Prediction(uid='A25WLQIWN3N9RN', iid='B00025742A', r_ui=4.0, est=4.064259962582604, details={'was_impossible': True, 'reason': 'User and/or item is unkown.'}),\n",
              " Prediction(uid='A2Q1E3VVB3DA1O', iid='B0002U1TJY', r_ui=5.0, est=4.064259962582604, details={'was_impossible': True, 'reason': 'User and/or item is unkown.'}),\n",
              " Prediction(uid='APT0T9JXL597R', iid='B00007KDVI', r_ui=3.0, est=3.574519230769231, details={'actual_k': 0, 'was_impossible': False}),\n",
              " Prediction(uid='A239TEREGMCV13', iid='B000092TT0', r_ui=5.0, est=4.064259962582604, details={'was_impossible': True, 'reason': 'User and/or item is unkown.'}),\n",
              " Prediction(uid='A1ELCPEN8D2AV6', iid='B00005BC0K', r_ui=5.0, est=4.064259962582604, details={'was_impossible': True, 'reason': 'User and/or item is unkown.'}),\n",
              " Prediction(uid='A2KZYGPVILDKYC', iid='B00006JINY', r_ui=5.0, est=4.064259962582604, details={'was_impossible': True, 'reason': 'User and/or item is unkown.'}),\n",
              " Prediction(uid='A3DLEYZYGV059M', iid='B0002SQ0A4', r_ui=5.0, est=4.064259962582604, details={'was_impossible': True, 'reason': 'User and/or item is unkown.'}),\n",
              " Prediction(uid='A31KBO106ZLNTV', iid='B00006B9CR', r_ui=5.0, est=3.8641975308641974, details={'actual_k': 0, 'was_impossible': False}),\n",
              " Prediction(uid='ARZFJJF77BMW6', iid='B00006HYPV', r_ui=3.0, est=4.064259962582604, details={'was_impossible': True, 'reason': 'User and/or item is unkown.'}),\n",
              " Prediction(uid='A3DP4KMBMG3TPU', iid='B00064V6SK', r_ui=5.0, est=4.064259962582604, details={'was_impossible': True, 'reason': 'User and/or item is unkown.'}),\n",
              " Prediction(uid='A1JSDWQMFZCFS2', iid='B00001WRSJ', r_ui=4.0, est=4.62956204379562, details={'actual_k': 0, 'was_impossible': False}),\n",
              " Prediction(uid='A2BAQ6AQ34SWUC', iid='B000063574', r_ui=5.0, est=4.064259962582604, details={'was_impossible': True, 'reason': 'User and/or item is unkown.'}),\n",
              " Prediction(uid='A29NN6HHEKAHFW', iid='B00005ATZN', r_ui=5.0, est=4.064259962582604, details={'was_impossible': True, 'reason': 'User and/or item is unkown.'}),\n",
              " Prediction(uid='A2ACJSHEC2RZVZ', iid='0972683275', r_ui=4.0, est=4.064259962582604, details={'was_impossible': True, 'reason': 'User and/or item is unkown.'}),\n",
              " Prediction(uid='APE97MRGDZYSB', iid='B00026KYFS', r_ui=5.0, est=4.064259962582604, details={'was_impossible': True, 'reason': 'User and/or item is unkown.'}),\n",
              " Prediction(uid='A3CSWGNGP9HH9N', iid='B000092YQW', r_ui=4.0, est=4.064259962582604, details={'was_impossible': True, 'reason': 'User and/or item is unkown.'}),\n",
              " Prediction(uid='A1D4R9BW6T6L4X', iid='B0001FTVEA', r_ui=3.0, est=4.064259962582604, details={'was_impossible': True, 'reason': 'User and/or item is unkown.'}),\n",
              " Prediction(uid='A1F40Y9ET713JZ', iid='B0002L5R78', r_ui=1.0, est=4.064259962582604, details={'was_impossible': True, 'reason': 'User and/or item is unkown.'}),\n",
              " Prediction(uid='A207ZFNMN00OWH', iid='B000067SMH', r_ui=5.0, est=4.205555555555556, details={'actual_k': 0, 'was_impossible': False}),\n",
              " Prediction(uid='A1K05RZKX73TZ2', iid='B0000DK5LW', r_ui=5.0, est=3.7382978723404254, details={'actual_k': 0, 'was_impossible': False}),\n",
              " Prediction(uid='A28X7NZ02016FO', iid='B00000JDF5', r_ui=5.0, est=4.609625668449198, details={'actual_k': 0, 'was_impossible': False}),\n",
              " Prediction(uid='A3TI60UGRU5YRF', iid='B00007E7C8', r_ui=5.0, est=4.064259962582604, details={'was_impossible': True, 'reason': 'User and/or item is unkown.'}),\n",
              " Prediction(uid='AY6LLHI0VAG12', iid='B00017LSPI', r_ui=4.0, est=4.064259962582604, details={'was_impossible': True, 'reason': 'User and/or item is unkown.'}),\n",
              " Prediction(uid='A2KCUJ2ZO7TRUC', iid='B0000DB4D1', r_ui=5.0, est=4.064259962582604, details={'was_impossible': True, 'reason': 'User and/or item is unkown.'}),\n",
              " Prediction(uid='A3QVRIRAYT064E', iid='B00004ZCJE', r_ui=5.0, est=4.064259962582604, details={'was_impossible': True, 'reason': 'User and/or item is unkown.'}),\n",
              " Prediction(uid='A3HTQRGG45X4A3', iid='B00005NPWJ', r_ui=4.0, est=4.064259962582604, details={'was_impossible': True, 'reason': 'User and/or item is unkown.'}),\n",
              " Prediction(uid='A4JN2T82R31WQ', iid='B00005N6KG', r_ui=5.0, est=4.064259962582604, details={'was_impossible': True, 'reason': 'User and/or item is unkown.'}),\n",
              " Prediction(uid='A1F0ITW7KPUKQI', iid='B0000BYDKO', r_ui=5.0, est=3.3666666666666667, details={'actual_k': 0, 'was_impossible': False}),\n",
              " Prediction(uid='A3O51GZNTN1P2M', iid='B0002L5R78', r_ui=5.0, est=4.064259962582604, details={'was_impossible': True, 'reason': 'User and/or item is unkown.'}),\n",
              " Prediction(uid='AGHP52NRXFCS4', iid='B000067RIV', r_ui=3.0, est=4.064259962582604, details={'was_impossible': True, 'reason': 'User and/or item is unkown.'}),\n",
              " Prediction(uid='A3EQADUHGYC9HQ', iid='B000097O5F', r_ui=5.0, est=4.064259962582604, details={'was_impossible': True, 'reason': 'User and/or item is unkown.'}),\n",
              " Prediction(uid='A10F2FZ8UDIVYJ', iid='B000067S60', r_ui=5.0, est=4.064259962582604, details={'was_impossible': True, 'reason': 'User and/or item is unkown.'}),\n",
              " Prediction(uid='A2NPXRZ6I0LSZJ', iid='B0002JY712', r_ui=5.0, est=4.064259962582604, details={'was_impossible': True, 'reason': 'User and/or item is unkown.'}),\n",
              " Prediction(uid='A3CS59W3PJ0RTY', iid='B00020S7XK', r_ui=2.0, est=4.396135265700483, details={'actual_k': 0, 'was_impossible': False}),\n",
              " Prediction(uid='A2N7N2TW268Q4K', iid='B0001ML86C', r_ui=1.0, est=4.064259962582604, details={'was_impossible': True, 'reason': 'User and/or item is unkown.'}),\n",
              " Prediction(uid='AUPQZ0IJ9KOSV', iid='B00066FHHO', r_ui=2.0, est=4.064259962582604, details={'was_impossible': True, 'reason': 'User and/or item is unkown.'}),\n",
              " Prediction(uid='A2RPM4XC0IMZCL', iid='B00029U1DK', r_ui=1.0, est=4.064259962582604, details={'was_impossible': True, 'reason': 'User and/or item is unkown.'}),\n",
              " Prediction(uid='A8PELRDGP13TJ', iid='B00024ENES', r_ui=5.0, est=4.518105849582173, details={'actual_k': 0, 'was_impossible': False}),\n",
              " Prediction(uid='A38FBWZAIBEI24', iid='B0000511U7', r_ui=5.0, est=4.064259962582604, details={'was_impossible': True, 'reason': 'User and/or item is unkown.'}),\n",
              " Prediction(uid='A26Q85JIMIX2K4', iid='B0000EW9M8', r_ui=4.0, est=4.064259962582604, details={'was_impossible': True, 'reason': 'User and/or item is unkown.'}),\n",
              " Prediction(uid='AQF2TF7HV571B', iid='B00005N6KG', r_ui=5.0, est=4.064259962582604, details={'was_impossible': True, 'reason': 'User and/or item is unkown.'}),\n",
              " Prediction(uid='A3FK9UUQLAITGN', iid='B00007B8SN', r_ui=4.0, est=4.064259962582604, details={'was_impossible': True, 'reason': 'User and/or item is unkown.'}),\n",
              " Prediction(uid='A2UKDRYSEWWM8', iid='B0002L5R78', r_ui=5.0, est=4.064259962582604, details={'was_impossible': True, 'reason': 'User and/or item is unkown.'}),\n",
              " Prediction(uid='AW3QYMTY9QG5O', iid='B00009RUFZ', r_ui=5.0, est=4.064259962582604, details={'was_impossible': True, 'reason': 'User and/or item is unkown.'}),\n",
              " Prediction(uid='A1XCKQIEZ61QND', iid='B000069092', r_ui=2.0, est=4.064259962582604, details={'was_impossible': True, 'reason': 'User and/or item is unkown.'}),\n",
              " Prediction(uid='A1GBD3VOM2IOFB', iid='B000230LJK', r_ui=5.0, est=4.064259962582604, details={'was_impossible': True, 'reason': 'User and/or item is unkown.'}),\n",
              " Prediction(uid='A38NXCI7GT7PU6', iid='B00004THCZ', r_ui=5.0, est=4.064259962582604, details={'was_impossible': True, 'reason': 'User and/or item is unkown.'}),\n",
              " Prediction(uid='A1ZF1SK0F56GZK', iid='B0002IYOES', r_ui=5.0, est=3.7027027027027026, details={'actual_k': 0, 'was_impossible': False}),\n",
              " Prediction(uid='ARIT2B786L31Y', iid='B000203PBY', r_ui=5.0, est=4.064259962582604, details={'was_impossible': True, 'reason': 'User and/or item is unkown.'}),\n",
              " Prediction(uid='A2PK64OVZA1U8Z', iid='B00007B8SN', r_ui=4.0, est=4.384615384615385, details={'actual_k': 0, 'was_impossible': False}),\n",
              " Prediction(uid='A19FH0QNBWVBB7', iid='B000067RC4', r_ui=5.0, est=4.064259962582604, details={'was_impossible': True, 'reason': 'User and/or item is unkown.'}),\n",
              " Prediction(uid='A3FS2X63O78N5I', iid='B000067SOH', r_ui=5.0, est=4.333333333333333, details={'actual_k': 0, 'was_impossible': False}),\n",
              " Prediction(uid='A9DG0RP4JJH87', iid='B00009UHXR', r_ui=1.0, est=4.064259962582604, details={'was_impossible': True, 'reason': 'User and/or item is unkown.'}),\n",
              " Prediction(uid='A1I0F4U2HV4ET5', iid='B0000U9H40', r_ui=5.0, est=4.064259962582604, details={'was_impossible': True, 'reason': 'User and/or item is unkown.'}),\n",
              " Prediction(uid='A288CEKL8FA6QC', iid='B0000BZL0G', r_ui=5.0, est=4.571428571428571, details={'actual_k': 0, 'was_impossible': False}),\n",
              " Prediction(uid='A152WSB0S9M6W1', iid='B0000BZOGJ', r_ui=4.0, est=4.064259962582604, details={'was_impossible': True, 'reason': 'User and/or item is unkown.'}),\n",
              " Prediction(uid='A1Z1JZ0EHX3R0L', iid='B000669BVW', r_ui=5.0, est=4.064259962582604, details={'was_impossible': True, 'reason': 'User and/or item is unkown.'}),\n",
              " Prediction(uid='A3APEIJOQXE142', iid='B000243DNA', r_ui=4.0, est=4.155555555555556, details={'actual_k': 0, 'was_impossible': False}),\n",
              " Prediction(uid='A3170DM5FY5GB5', iid='B00001WRSJ', r_ui=5.0, est=4.064259962582604, details={'was_impossible': True, 'reason': 'User and/or item is unkown.'}),\n",
              " Prediction(uid='A3F2JNUUD54Q3U', iid='B00004WCGF', r_ui=5.0, est=4.064259962582604, details={'was_impossible': True, 'reason': 'User and/or item is unkown.'}),\n",
              " Prediction(uid='AEZEE300KUU8X', iid='B00009RUCH', r_ui=5.0, est=4.064259962582604, details={'was_impossible': True, 'reason': 'User and/or item is unkown.'}),\n",
              " Prediction(uid='AM7BBHWDZL1PR', iid='B0002Z82XA', r_ui=2.0, est=4.064259962582604, details={'was_impossible': True, 'reason': 'User and/or item is unkown.'}),\n",
              " Prediction(uid='A2LYZ1XYVCBOGY', iid='B00008KWWF', r_ui=2.0, est=4.064259962582604, details={'was_impossible': True, 'reason': 'User and/or item is unkown.'}),\n",
              " Prediction(uid='A2CGXESBRL7J8J', iid='B00006B7DA', r_ui=5.0, est=4.064259962582604, details={'was_impossible': True, 'reason': 'User and/or item is unkown.'}),\n",
              " Prediction(uid='A1WP96EYF40GI1', iid='B00024VTKE', r_ui=4.0, est=4.213483146067416, details={'actual_k': 0, 'was_impossible': False}),\n",
              " Prediction(uid='A1R3BYC15ZZ6P0', iid='B0001EZN52', r_ui=1.0, est=4.064259962582604, details={'was_impossible': True, 'reason': 'User and/or item is unkown.'}),\n",
              " Prediction(uid='A3K14CUPSNGD3G', iid='B00004SB92', r_ui=5.0, est=4.064259962582604, details={'was_impossible': True, 'reason': 'User and/or item is unkown.'}),\n",
              " Prediction(uid='A3PJLRJJOKBV3I', iid='B00008SCFL', r_ui=4.0, est=3.291223404255319, details={'actual_k': 0, 'was_impossible': False}),\n",
              " Prediction(uid='A7RKDASTHW9C4', iid='B0001FTVEK', r_ui=5.0, est=4.064259962582604, details={'was_impossible': True, 'reason': 'User and/or item is unkown.'}),\n",
              " Prediction(uid='AK22T1RQS2S8D', iid='B00006IAAN', r_ui=5.0, est=4.064259962582604, details={'was_impossible': True, 'reason': 'User and/or item is unkown.'}),\n",
              " Prediction(uid='A247MCYT5KRXMT', iid='B00006HOLO', r_ui=5.0, est=4.064259962582604, details={'was_impossible': True, 'reason': 'User and/or item is unkown.'}),\n",
              " Prediction(uid='A1OL8IISTUIYBC', iid='B00005Y3V6', r_ui=5.0, est=4.303030303030303, details={'actual_k': 0, 'was_impossible': False}),\n",
              " Prediction(uid='APXDB69W8Q9A1', iid='B000165ARQ', r_ui=5.0, est=4.064259962582604, details={'was_impossible': True, 'reason': 'User and/or item is unkown.'}),\n",
              " Prediction(uid='A2FHLVW936UP22', iid='B00000K2YR', r_ui=3.0, est=4.064259962582604, details={'was_impossible': True, 'reason': 'User and/or item is unkown.'}),\n",
              " Prediction(uid='A1QNUMK9OJTPHG', iid='B00008VWOJ', r_ui=2.0, est=4.064259962582604, details={'was_impossible': True, 'reason': 'User and/or item is unkown.'}),\n",
              " Prediction(uid='A2QJ1LIVC35XY6', iid='B000066E6Y', r_ui=5.0, est=4.064259962582604, details={'was_impossible': True, 'reason': 'User and/or item is unkown.'}),\n",
              " Prediction(uid='AY8Q1X7G96HV5', iid='B000059MSI', r_ui=5.0, est=3.746726285531779, details={'actual_k': 1, 'was_impossible': False}),\n",
              " Prediction(uid='A2BDSRFEJ4EJJJ', iid='B0002L5R78', r_ui=5.0, est=4.064259962582604, details={'was_impossible': True, 'reason': 'User and/or item is unkown.'}),\n",
              " Prediction(uid='ANBJ6T65F2XN9', iid='B0000642RX', r_ui=2.0, est=4.208333333333333, details={'actual_k': 0, 'was_impossible': False}),\n",
              " Prediction(uid='A2O6HGZ0KKVCE4', iid='B00004Z5CQ', r_ui=5.0, est=4.064259962582604, details={'was_impossible': True, 'reason': 'User and/or item is unkown.'}),\n",
              " Prediction(uid='A39EDK9N93LHB5', iid='B00006JPDG', r_ui=5.0, est=4.603174603174603, details={'actual_k': 0, 'was_impossible': False}),\n",
              " Prediction(uid='A39FCPRLJAEA78', iid='B0002CPBWI', r_ui=3.0, est=4.076058772687986, details={'actual_k': 0, 'was_impossible': False}),\n",
              " Prediction(uid='A3MCS49S426521', iid='B00007EDM8', r_ui=4.0, est=4.064259962582604, details={'was_impossible': True, 'reason': 'User and/or item is unkown.'}),\n",
              " Prediction(uid='A3UWIFV83CR95M', iid='B0002BA57A', r_ui=5.0, est=4.064259962582604, details={'was_impossible': True, 'reason': 'User and/or item is unkown.'}),\n",
              " Prediction(uid='A1IYD5S8CEOJT0', iid='B00065TGTA', r_ui=5.0, est=4.064259962582604, details={'was_impossible': True, 'reason': 'User and/or item is unkown.'}),\n",
              " Prediction(uid='A115I9N643HLKQ', iid='B00008EM7V', r_ui=5.0, est=4.064259962582604, details={'was_impossible': True, 'reason': 'User and/or item is unkown.'}),\n",
              " Prediction(uid='ALJBGILX066TZ', iid='B00005137P', r_ui=3.0, est=4.064259962582604, details={'was_impossible': True, 'reason': 'User and/or item is unkown.'}),\n",
              " Prediction(uid='AKOKJ5024ZLHF', iid='B00004TKVD', r_ui=5.0, est=3.727272727272727, details={'actual_k': 0, 'was_impossible': False}),\n",
              " Prediction(uid='A37B071WQXD3DV', iid='B0002JFN10', r_ui=3.0, est=4.064259962582604, details={'was_impossible': True, 'reason': 'User and/or item is unkown.'}),\n",
              " Prediction(uid='A1HK6IB3OR9ZZT', iid='B00009EHJV', r_ui=5.0, est=4.064259962582604, details={'was_impossible': True, 'reason': 'User and/or item is unkown.'}),\n",
              " Prediction(uid='A3A1RLH5UZGG3U', iid='B000067RC4', r_ui=4.0, est=4.064259962582604, details={'was_impossible': True, 'reason': 'User and/or item is unkown.'}),\n",
              " Prediction(uid='A23KRZV1CDBB4J', iid='B0001FV36E', r_ui=4.0, est=4.064259962582604, details={'was_impossible': True, 'reason': 'User and/or item is unkown.'}),\n",
              " Prediction(uid='A2NIFIK1NOUYX6', iid='B000067SBL', r_ui=5.0, est=4.064259962582604, details={'was_impossible': True, 'reason': 'User and/or item is unkown.'}),\n",
              " Prediction(uid='A28NZSEYZKDVZ3', iid='B00005ML7Q', r_ui=5.0, est=4.064259962582604, details={'was_impossible': True, 'reason': 'User and/or item is unkown.'}),\n",
              " Prediction(uid='A1QUDRW5N0VWTC', iid='B0002LEMWE', r_ui=5.0, est=4.064259962582604, details={'was_impossible': True, 'reason': 'User and/or item is unkown.'}),\n",
              " Prediction(uid='A3SJXW111TUPPZ', iid='B00003CWDK', r_ui=5.0, est=4.064259962582604, details={'was_impossible': True, 'reason': 'User and/or item is unkown.'}),\n",
              " Prediction(uid='A1JLNAP9O841WK', iid='B00006RVPW', r_ui=1.0, est=4.064259962582604, details={'was_impossible': True, 'reason': 'User and/or item is unkown.'}),\n",
              " Prediction(uid='ADI57BUO0PKTZ', iid='B00030097G', r_ui=4.0, est=4.064259962582604, details={'was_impossible': True, 'reason': 'User and/or item is unkown.'}),\n",
              " Prediction(uid='A1IV8U9KQEYISR', iid='B0001YEOCU', r_ui=1.0, est=4.064259962582604, details={'was_impossible': True, 'reason': 'User and/or item is unkown.'}),\n",
              " Prediction(uid='A1KRZZKWH7CEFP', iid='B000068NYF', r_ui=5.0, est=4.064259962582604, details={'was_impossible': True, 'reason': 'User and/or item is unkown.'}),\n",
              " Prediction(uid='A8280XCOY1QTE', iid='B0000A2QBP', r_ui=5.0, est=4.064259962582604, details={'was_impossible': True, 'reason': 'User and/or item is unkown.'}),\n",
              " Prediction(uid='A2QAT3H95JZKFH', iid='B000067S60', r_ui=4.0, est=4.064259962582604, details={'was_impossible': True, 'reason': 'User and/or item is unkown.'}),\n",
              " Prediction(uid='AQ74ZA43URQOG', iid='B00005A9AV', r_ui=4.0, est=4.064259962582604, details={'was_impossible': True, 'reason': 'User and/or item is unkown.'}),\n",
              " Prediction(uid='A2C8OCVR9MQVXM', iid='B00004WCGF', r_ui=3.0, est=4.064259962582604, details={'was_impossible': True, 'reason': 'User and/or item is unkown.'}),\n",
              " Prediction(uid='A2H451L335HMK5', iid='B00008Y0VN', r_ui=5.0, est=4.064259962582604, details={'was_impossible': True, 'reason': 'User and/or item is unkown.'}),\n",
              " Prediction(uid='A1OHINODZ6BMMC', iid='B00008VFCS', r_ui=4.0, est=4.064259962582604, details={'was_impossible': True, 'reason': 'User and/or item is unkown.'}),\n",
              " Prediction(uid='A19XGO9O5QNL9O', iid='B00008T1TZ', r_ui=4.0, est=4.064259962582604, details={'was_impossible': True, 'reason': 'User and/or item is unkown.'}),\n",
              " Prediction(uid='A2BR52ZO4C2GD2', iid='B00005KK2Q', r_ui=4.0, est=4.064259962582604, details={'was_impossible': True, 'reason': 'User and/or item is unkown.'}),\n",
              " Prediction(uid='A158AAD6KVWSDT', iid='B0002Y7DO0', r_ui=5.0, est=4.064259962582604, details={'was_impossible': True, 'reason': 'User and/or item is unkown.'}),\n",
              " Prediction(uid='AR65R3QYUUGGR', iid='B0002U1TJY', r_ui=5.0, est=4.064259962582604, details={'was_impossible': True, 'reason': 'User and/or item is unkown.'}),\n",
              " Prediction(uid='A2ZMDF5DYWB7II', iid='B00005LENO', r_ui=5.0, est=4.491525423728813, details={'actual_k': 0, 'was_impossible': False}),\n",
              " Prediction(uid='A3R0LW9CZ1KD8V', iid='B00006HMPN', r_ui=5.0, est=4.064259962582604, details={'was_impossible': True, 'reason': 'User and/or item is unkown.'}),\n",
              " Prediction(uid='A2ASGA1SPT1Y04', iid='B00069BVIK', r_ui=5.0, est=4.064259962582604, details={'was_impossible': True, 'reason': 'User and/or item is unkown.'}),\n",
              " Prediction(uid='ABIFYTCN8DOZ', iid='B00017LSPI', r_ui=5.0, est=5, details={'actual_k': 1, 'was_impossible': False}),\n",
              " Prediction(uid='A1WVMDRJU19AFD', iid='B00019068G', r_ui=5.0, est=3.519230769230769, details={'actual_k': 0, 'was_impossible': False}),\n",
              " Prediction(uid='ADWNI2JD19FMA', iid='B00007KDVI', r_ui=5.0, est=4.064259962582604, details={'was_impossible': True, 'reason': 'User and/or item is unkown.'}),\n",
              " Prediction(uid='A16HZ1ILBW2AK9', iid='B0002D6QJO', r_ui=5.0, est=4.064259962582604, details={'was_impossible': True, 'reason': 'User and/or item is unkown.'}),\n",
              " Prediction(uid='A32ACCKBN9XN7N', iid='B0002GMDQG', r_ui=1.0, est=4.064259962582604, details={'was_impossible': True, 'reason': 'User and/or item is unkown.'}),\n",
              " Prediction(uid='A30Q4VLJO773AT', iid='B0001KWGP6', r_ui=1.0, est=4.064259962582604, details={'was_impossible': True, 'reason': 'User and/or item is unkown.'}),\n",
              " Prediction(uid='AVA8EWZIPA3N5', iid='B00003CWDG', r_ui=3.0, est=4.064259962582604, details={'was_impossible': True, 'reason': 'User and/or item is unkown.'}),\n",
              " Prediction(uid='A1CTNR5DBGWWXW', iid='B0002L5R78', r_ui=5.0, est=4.064259962582604, details={'was_impossible': True, 'reason': 'User and/or item is unkown.'}),\n",
              " Prediction(uid='A3F5JV08JUY06C', iid='B00008ZOYE', r_ui=5.0, est=3.388059701492537, details={'actual_k': 0, 'was_impossible': False}),\n",
              " Prediction(uid='A2R81BWDLDWQMI', iid='B000233ZMU', r_ui=2.0, est=4.064259962582604, details={'was_impossible': True, 'reason': 'User and/or item is unkown.'}),\n",
              " Prediction(uid='A1COAJT3JRBD5K', iid='B000067SL4', r_ui=5.0, est=4.064259962582604, details={'was_impossible': True, 'reason': 'User and/or item is unkown.'}),\n",
              " Prediction(uid='A1TU6HFRT91XIO', iid='B00025742A', r_ui=5.0, est=4.064259962582604, details={'was_impossible': True, 'reason': 'User and/or item is unkown.'}),\n",
              " Prediction(uid='A20XG52K22PPY7', iid='B00005ARK3', r_ui=4.0, est=4.064259962582604, details={'was_impossible': True, 'reason': 'User and/or item is unkown.'}),\n",
              " Prediction(uid='A24JMS7QHZZMR9', iid='B00008Z1QI', r_ui=5.0, est=4.064259962582604, details={'was_impossible': True, 'reason': 'User and/or item is unkown.'}),\n",
              " Prediction(uid='A2A41RX3GWSN4', iid='B0000C4G79', r_ui=4.0, est=4.051282051282051, details={'actual_k': 0, 'was_impossible': False}),\n",
              " Prediction(uid='A3R0FL5RQ12WVS', iid='B00007IFED', r_ui=5.0, est=4.064259962582604, details={'was_impossible': True, 'reason': 'User and/or item is unkown.'}),\n",
              " Prediction(uid='A3MKNU3O3M2WDT', iid='B00022AVDM', r_ui=5.0, est=4.064259962582604, details={'was_impossible': True, 'reason': 'User and/or item is unkown.'}),\n",
              " Prediction(uid='AU4ZHYIRVT45J', iid='B0002AHT0M', r_ui=1.0, est=4.064259962582604, details={'was_impossible': True, 'reason': 'User and/or item is unkown.'}),\n",
              " Prediction(uid='A31VVWM2HIJNV5', iid='B000089GN3', r_ui=5.0, est=4.064259962582604, details={'was_impossible': True, 'reason': 'User and/or item is unkown.'}),\n",
              " Prediction(uid='A1UG19FVRU7JCC', iid='B00009WO51', r_ui=5.0, est=4.064259962582604, details={'was_impossible': True, 'reason': 'User and/or item is unkown.'}),\n",
              " Prediction(uid='A1DWSLLBBGFLWL', iid='B00001WRSJ', r_ui=2.0, est=4.064259962582604, details={'was_impossible': True, 'reason': 'User and/or item is unkown.'}),\n",
              " Prediction(uid='A3DPXY6YSLFCVP', iid='B00011KM38', r_ui=5.0, est=4.064259962582604, details={'was_impossible': True, 'reason': 'User and/or item is unkown.'}),\n",
              " Prediction(uid='A59RNZFPN2WMU', iid='B00008VF63', r_ui=1.0, est=4.064259962582604, details={'was_impossible': True, 'reason': 'User and/or item is unkown.'}),\n",
              " Prediction(uid='A2R9RA5QKO3NQX', iid='B0002OD3JY', r_ui=5.0, est=4.064259962582604, details={'was_impossible': True, 'reason': 'User and/or item is unkown.'}),\n",
              " Prediction(uid='A3LRSA8D2B2VRS', iid='B00006B7DA', r_ui=1.0, est=4.064259962582604, details={'was_impossible': True, 'reason': 'User and/or item is unkown.'}),\n",
              " Prediction(uid='ANDDNNY89LLYK', iid='B00006RH5I', r_ui=5.0, est=4.064259962582604, details={'was_impossible': True, 'reason': 'User and/or item is unkown.'}),\n",
              " Prediction(uid='A2OPQYTUAQX91I', iid='B00005T408', r_ui=1.0, est=4.064259962582604, details={'was_impossible': True, 'reason': 'User and/or item is unkown.'}),\n",
              " Prediction(uid='A1GHFMIBD8EYTK', iid='7214047977', r_ui=1.0, est=4.064259962582604, details={'was_impossible': True, 'reason': 'User and/or item is unkown.'}),\n",
              " Prediction(uid='A2RTPEXII7328Q', iid='B00000K4KH', r_ui=3.0, est=4.064259962582604, details={'was_impossible': True, 'reason': 'User and/or item is unkown.'}),\n",
              " Prediction(uid='A2G6NF0YM5CBBP', iid='B00004SB92', r_ui=1.0, est=4.064259962582604, details={'was_impossible': True, 'reason': 'User and/or item is unkown.'}),\n",
              " Prediction(uid='A3I399XR7NHO5F', iid='B0006698SS', r_ui=4.0, est=4.064259962582604, details={'was_impossible': True, 'reason': 'User and/or item is unkown.'}),\n",
              " Prediction(uid='ASIX20HNI6G1F', iid='B0002FHENE', r_ui=5.0, est=4.064259962582604, details={'was_impossible': True, 'reason': 'User and/or item is unkown.'}),\n",
              " Prediction(uid='A1Z0BZ0KIJ6XLL', iid='B00007EDM8', r_ui=4.0, est=4.064259962582604, details={'was_impossible': True, 'reason': 'User and/or item is unkown.'}),\n",
              " Prediction(uid='A38V23FTZAANBU', iid='B000065BP9', r_ui=3.0, est=4.064259962582604, details={'was_impossible': True, 'reason': 'User and/or item is unkown.'}),\n",
              " Prediction(uid='A3Z1PZDE1SQ7J', iid='B0002SQ0AE', r_ui=4.0, est=4.064259962582604, details={'was_impossible': True, 'reason': 'User and/or item is unkown.'}),\n",
              " Prediction(uid='A9H8ZFNDBG8ST', iid='B00007E7JU', r_ui=5.0, est=5, details={'actual_k': 2, 'was_impossible': False}),\n",
              " Prediction(uid='A1GGXSQ7AT8SDT', iid='B0002EXJ8Y', r_ui=1.0, est=4.064259962582604, details={'was_impossible': True, 'reason': 'User and/or item is unkown.'}),\n",
              " Prediction(uid='A1IIQO2453V234', iid='B00004Z5KA', r_ui=5.0, est=4.647058823529412, details={'actual_k': 0, 'was_impossible': False}),\n",
              " Prediction(uid='A2G4O71XBXS8Z9', iid='B00001P4ZH', r_ui=3.0, est=4.064259962582604, details={'was_impossible': True, 'reason': 'User and/or item is unkown.'}),\n",
              " Prediction(uid='A31WDJB6BGIMA9', iid='B0002KR88A', r_ui=5.0, est=4.064259962582604, details={'was_impossible': True, 'reason': 'User and/or item is unkown.'}),\n",
              " Prediction(uid='A2YF1HBHPPSJIR', iid='B00007E7C8', r_ui=4.0, est=4.064259962582604, details={'was_impossible': True, 'reason': 'User and/or item is unkown.'}),\n",
              " Prediction(uid='A379TF7EJI1DS6', iid='B0002IP2TY', r_ui=4.0, est=4.064259962582604, details={'was_impossible': True, 'reason': 'User and/or item is unkown.'}),\n",
              " Prediction(uid='A208JA1RFSXHV6', iid='B00008VWOJ', r_ui=5.0, est=4.064259962582604, details={'was_impossible': True, 'reason': 'User and/or item is unkown.'}),\n",
              " Prediction(uid='A1NK4UPG4GCBR', iid='B00012F6A6', r_ui=5.0, est=4.064259962582604, details={'was_impossible': True, 'reason': 'User and/or item is unkown.'}),\n",
              " Prediction(uid='A2376W7VDCQVXF', iid='B0002Y5WZM', r_ui=3.0, est=4.064259962582604, details={'was_impossible': True, 'reason': 'User and/or item is unkown.'}),\n",
              " Prediction(uid='A272KAWIVWYL6B', iid='B0002L5R78', r_ui=5.0, est=4.064259962582604, details={'was_impossible': True, 'reason': 'User and/or item is unkown.'}),\n",
              " Prediction(uid='A18GB7XUCCU3OW', iid='B00008JOMD', r_ui=5.0, est=4.064259962582604, details={'was_impossible': True, 'reason': 'User and/or item is unkown.'}),\n",
              " Prediction(uid='A28P80YKSMGTAN', iid='B00006FXHQ', r_ui=1.0, est=4.064259962582604, details={'was_impossible': True, 'reason': 'User and/or item is unkown.'}),\n",
              " Prediction(uid='A32LNH4HM7N5RM', iid='B0000AZ67Z', r_ui=5.0, est=4.064259962582604, details={'was_impossible': True, 'reason': 'User and/or item is unkown.'}),\n",
              " Prediction(uid='ACONJXITSMMZW', iid='B000067S60', r_ui=5.0, est=4.064259962582604, details={'was_impossible': True, 'reason': 'User and/or item is unkown.'}),\n",
              " Prediction(uid='A1F9OBHODC7916', iid='B0002CPBUK', r_ui=5.0, est=4.064259962582604, details={'was_impossible': True, 'reason': 'User and/or item is unkown.'}),\n",
              " Prediction(uid='A1AKO5ELAKMXWB', iid='B00015GYTU', r_ui=1.0, est=4.064259962582604, details={'was_impossible': True, 'reason': 'User and/or item is unkown.'}),\n",
              " Prediction(uid='AOI81AB9625WK', iid='B0002MQGOA', r_ui=5.0, est=4.064259962582604, details={'was_impossible': True, 'reason': 'User and/or item is unkown.'}),\n",
              " Prediction(uid='A3PQPN7W1A3U7A', iid='B0002K6RK0', r_ui=4.0, est=4.064259962582604, details={'was_impossible': True, 'reason': 'User and/or item is unkown.'}),\n",
              " Prediction(uid='A1QRWSDG9TKO4H', iid='B0000BZOGJ', r_ui=5.0, est=4.064259962582604, details={'was_impossible': True, 'reason': 'User and/or item is unkown.'}),\n",
              " Prediction(uid='A38OZMAGA4JN8C', iid='B00017LSPI', r_ui=4.0, est=4.064259962582604, details={'was_impossible': True, 'reason': 'User and/or item is unkown.'}),\n",
              " Prediction(uid='A1ATTDOJ8SY1I8', iid='B00005T3EM', r_ui=4.0, est=4.064259962582604, details={'was_impossible': True, 'reason': 'User and/or item is unkown.'}),\n",
              " Prediction(uid='A2OLDI2NKAZ02A', iid='B00004YBVE', r_ui=3.0, est=4.064259962582604, details={'was_impossible': True, 'reason': 'User and/or item is unkown.'}),\n",
              " Prediction(uid='A2T70SN2VZHOR4', iid='B0000952XU', r_ui=4.0, est=4.064259962582604, details={'was_impossible': True, 'reason': 'User and/or item is unkown.'}),\n",
              " Prediction(uid='A17DZF0QWX6NBP', iid='B000069K8N', r_ui=5.0, est=4.064259962582604, details={'was_impossible': True, 'reason': 'User and/or item is unkown.'}),\n",
              " Prediction(uid='AC221BF3E9C68', iid='B000075UZ7', r_ui=5.0, est=4.064259962582604, details={'was_impossible': True, 'reason': 'User and/or item is unkown.'}),\n",
              " Prediction(uid='A3B0357YJHT078', iid='B0002JY712', r_ui=5.0, est=4.064259962582604, details={'was_impossible': True, 'reason': 'User and/or item is unkown.'}),\n",
              " Prediction(uid='A1MVVAFJD1V3NR', iid='B0000DC0T4', r_ui=3.0, est=4.064259962582604, details={'was_impossible': True, 'reason': 'User and/or item is unkown.'}),\n",
              " Prediction(uid='A18GJ9MYYO6GCQ', iid='B00011G5FW', r_ui=5.0, est=3.6179775280898876, details={'actual_k': 0, 'was_impossible': False}),\n",
              " Prediction(uid='A3PPO2X5PJE1L9', iid='B0002Y5WXE', r_ui=5.0, est=5, details={'actual_k': 1, 'was_impossible': False}),\n",
              " Prediction(uid='A29H8JSO9GIDNL', iid='B0001FTVDQ', r_ui=5.0, est=4.505995203836931, details={'actual_k': 0, 'was_impossible': False}),\n",
              " Prediction(uid='A3DS5WGGWPTS6K', iid='B00007056H', r_ui=5.0, est=4.064259962582604, details={'was_impossible': True, 'reason': 'User and/or item is unkown.'}),\n",
              " Prediction(uid='A264M7S5S2YVF3', iid='B00069SORG', r_ui=5.0, est=4.064259962582604, details={'was_impossible': True, 'reason': 'User and/or item is unkown.'}),\n",
              " Prediction(uid='ADV1TDTZ2NNCZ', iid='B000067O8H', r_ui=4.0, est=4.064259962582604, details={'was_impossible': True, 'reason': 'User and/or item is unkown.'}),\n",
              " Prediction(uid='AVJDPFMUVGEHF', iid='B00061UISM', r_ui=5.0, est=4.7317073170731705, details={'actual_k': 0, 'was_impossible': False}),\n",
              " Prediction(uid='A3IBGV6VCVLFK4', iid='B0002L5R78', r_ui=5.0, est=4.064259962582604, details={'was_impossible': True, 'reason': 'User and/or item is unkown.'}),\n",
              " Prediction(uid='A3DKHUVFU01NKH', iid='B0002SQ2P2', r_ui=5.0, est=4.064259962582604, details={'was_impossible': True, 'reason': 'User and/or item is unkown.'}),\n",
              " Prediction(uid='AM5DFU3YLDHQO', iid='B0001D3K8A', r_ui=5.0, est=4.064259962582604, details={'was_impossible': True, 'reason': 'User and/or item is unkown.'}),\n",
              " Prediction(uid='AXBYUL0LCVL4Y', iid='B0002MQGK4', r_ui=3.0, est=4.064259962582604, details={'was_impossible': True, 'reason': 'User and/or item is unkown.'}),\n",
              " Prediction(uid='A1UW9JIS9683AY', iid='B0002JUH3O', r_ui=3.0, est=4.064259962582604, details={'was_impossible': True, 'reason': 'User and/or item is unkown.'}),\n",
              " Prediction(uid='A217WMMMD8FO80', iid='B0002E52S4', r_ui=5.0, est=4.064259962582604, details={'was_impossible': True, 'reason': 'User and/or item is unkown.'}),\n",
              " Prediction(uid='A1LYE9ARP9C595', iid='B0001H27PS', r_ui=4.0, est=4.064259962582604, details={'was_impossible': True, 'reason': 'User and/or item is unkown.'}),\n",
              " Prediction(uid='A1ZRQPND18LRNR', iid='B0002WPSBC', r_ui=5.0, est=4.064259962582604, details={'was_impossible': True, 'reason': 'User and/or item is unkown.'}),\n",
              " Prediction(uid='AS2D7NZWROI5Q', iid='B0000DZET4', r_ui=5.0, est=4.064259962582604, details={'was_impossible': True, 'reason': 'User and/or item is unkown.'}),\n",
              " Prediction(uid='A2JKY31R64UEAC', iid='B0002YV8EG', r_ui=5.0, est=4.0, details={'actual_k': 0, 'was_impossible': False}),\n",
              " Prediction(uid='A15ONARSB1TLYO', iid='B000069DOV', r_ui=5.0, est=4.064259962582604, details={'was_impossible': True, 'reason': 'User and/or item is unkown.'}),\n",
              " Prediction(uid='A2MVTPI43N128M', iid='B00005NWQN', r_ui=5.0, est=4.064259962582604, details={'was_impossible': True, 'reason': 'User and/or item is unkown.'}),\n",
              " Prediction(uid='A19FG4YV7UY76', iid='B00005BC0J', r_ui=1.0, est=4.064259962582604, details={'was_impossible': True, 'reason': 'User and/or item is unkown.'}),\n",
              " Prediction(uid='A3HYAIDY6G6MZ1', iid='B0002Y5WZM', r_ui=5.0, est=4.659033078880407, details={'actual_k': 0, 'was_impossible': False}),\n",
              " Prediction(uid='AD8GWG3DV3OME', iid='B0000AN4EG', r_ui=5.0, est=4.271739130434782, details={'actual_k': 0, 'was_impossible': False}),\n",
              " Prediction(uid='APT3TTE74ANFG', iid='B00007M1TZ', r_ui=5.0, est=4.064259962582604, details={'was_impossible': True, 'reason': 'User and/or item is unkown.'}),\n",
              " Prediction(uid='A2613MDJ3GUO7T', iid='B0000A2QBX', r_ui=5.0, est=4.064259962582604, details={'was_impossible': True, 'reason': 'User and/or item is unkown.'}),\n",
              " Prediction(uid='A2DDCWMOUKYH7R', iid='B00009EHJV', r_ui=5.0, est=4.064259962582604, details={'was_impossible': True, 'reason': 'User and/or item is unkown.'}),\n",
              " Prediction(uid='AVP8SPS22L0P4', iid='B00004T8R2', r_ui=5.0, est=4.064259962582604, details={'was_impossible': True, 'reason': 'User and/or item is unkown.'}),\n",
              " Prediction(uid='A16GSQVYNRC3TK', iid='B0001FTVEK', r_ui=5.0, est=4.064259962582604, details={'was_impossible': True, 'reason': 'User and/or item is unkown.'}),\n",
              " Prediction(uid='A3CU7BX8LGW86S', iid='B00004ZCJE', r_ui=5.0, est=4.5722227640916495, details={'actual_k': 1, 'was_impossible': False}),\n",
              " Prediction(uid='A38W61G7QW0QDZ', iid='B00006B9W3', r_ui=2.0, est=4.064259962582604, details={'was_impossible': True, 'reason': 'User and/or item is unkown.'}),\n",
              " Prediction(uid='A3JWXWKOZ5XME8', iid='B00004T8R2', r_ui=5.0, est=4.064259962582604, details={'was_impossible': True, 'reason': 'User and/or item is unkown.'}),\n",
              " Prediction(uid='A2V99RXY8L0HL7', iid='B0002D6Q0I', r_ui=1.0, est=4.035714285714286, details={'actual_k': 0, 'was_impossible': False}),\n",
              " Prediction(uid='A25S45G80IYPWW', iid='B00005BC0K', r_ui=5.0, est=4.064259962582604, details={'was_impossible': True, 'reason': 'User and/or item is unkown.'}),\n",
              " Prediction(uid='AWW5G3PXGR53J', iid='B00004ZCJE', r_ui=2.0, est=4.064259962582604, details={'was_impossible': True, 'reason': 'User and/or item is unkown.'}),\n",
              " Prediction(uid='A2FUW8RR8V4VAA', iid='B00006IAAN', r_ui=5.0, est=4.064259962582604, details={'was_impossible': True, 'reason': 'User and/or item is unkown.'}),\n",
              " Prediction(uid='AFOV73SRGQIB3', iid='B00004ZCJE', r_ui=5.0, est=4.064259962582604, details={'was_impossible': True, 'reason': 'User and/or item is unkown.'}),\n",
              " Prediction(uid='A1JFWF86FB7DI6', iid='B00029X1MI', r_ui=1.0, est=4.064259962582604, details={'was_impossible': True, 'reason': 'User and/or item is unkown.'}),\n",
              " Prediction(uid='A1ZZCY1WRVPV73', iid='B00008VIX2', r_ui=5.0, est=4.064259962582604, details={'was_impossible': True, 'reason': 'User and/or item is unkown.'}),\n",
              " Prediction(uid='A3BVY7XGU89QUO', iid='B0000A0AJH', r_ui=5.0, est=4.064259962582604, details={'was_impossible': True, 'reason': 'User and/or item is unkown.'}),\n",
              " Prediction(uid='A1MS0KNAJ63MNN', iid='B0001GRTK2', r_ui=4.0, est=4.064259962582604, details={'was_impossible': True, 'reason': 'User and/or item is unkown.'}),\n",
              " Prediction(uid='A110PC8C5Y7MQD', iid='B0001656FW', r_ui=4.0, est=4.466666666666667, details={'actual_k': 0, 'was_impossible': False}),\n",
              " Prediction(uid='A2AGOSB7OW5DMC', iid='B0001FTVEK', r_ui=5.0, est=4.064259962582604, details={'was_impossible': True, 'reason': 'User and/or item is unkown.'}),\n",
              " Prediction(uid='A2MZTTLB1G7IWG', iid='B0002Z82XA', r_ui=2.0, est=4.064259962582604, details={'was_impossible': True, 'reason': 'User and/or item is unkown.'}),\n",
              " Prediction(uid='A3OB6AAFTA0BH8', iid='B00028Y826', r_ui=4.0, est=4.064259962582604, details={'was_impossible': True, 'reason': 'User and/or item is unkown.'}),\n",
              " Prediction(uid='A9Q5F0649KMC1', iid='B00004THCZ', r_ui=4.0, est=4.064259962582604, details={'was_impossible': True, 'reason': 'User and/or item is unkown.'}),\n",
              " Prediction(uid='AK2KBFOYR6YLQ', iid='B0000DZEZB', r_ui=5.0, est=4.3924050632911396, details={'actual_k': 0, 'was_impossible': False}),\n",
              " Prediction(uid='A2FZJ5SZXBMA49', iid='B0002WPREU', r_ui=1.0, est=4.064259962582604, details={'was_impossible': True, 'reason': 'User and/or item is unkown.'}),\n",
              " Prediction(uid='AP8DU1VO4G52R', iid='B00006HYPV', r_ui=4.0, est=4.064259962582604, details={'was_impossible': True, 'reason': 'User and/or item is unkown.'}),\n",
              " Prediction(uid='A30K0K2F75MWG8', iid='B00005AB9R', r_ui=5.0, est=4.064259962582604, details={'was_impossible': True, 'reason': 'User and/or item is unkown.'}),\n",
              " Prediction(uid='A3D5J63W3HSYWZ', iid='B0002UB2P0', r_ui=3.0, est=4.064259962582604, details={'was_impossible': True, 'reason': 'User and/or item is unkown.'}),\n",
              " Prediction(uid='A1RAZ6TB3RKQ99', iid='B00011KM38', r_ui=5.0, est=4.064259962582604, details={'was_impossible': True, 'reason': 'User and/or item is unkown.'}),\n",
              " Prediction(uid='A1QOLVP5OUCHL3', iid='B00004WCID', r_ui=5.0, est=4.064259962582604, details={'was_impossible': True, 'reason': 'User and/or item is unkown.'}),\n",
              " Prediction(uid='A33G3WLS9CQODL', iid='B00005A1K1', r_ui=1.0, est=4.064259962582604, details={'was_impossible': True, 'reason': 'User and/or item is unkown.'}),\n",
              " Prediction(uid='AIAY720FN8S9Z', iid='B00020M1U0', r_ui=5.0, est=4.064259962582604, details={'was_impossible': True, 'reason': 'User and/or item is unkown.'}),\n",
              " Prediction(uid='A2OIK6MYTVHK89', iid='B00062QY5W', r_ui=4.0, est=4.064259962582604, details={'was_impossible': True, 'reason': 'User and/or item is unkown.'}),\n",
              " Prediction(uid='A1IDABV4LRXGAF', iid='B0002ZAILY', r_ui=5.0, est=4.064259962582604, details={'was_impossible': True, 'reason': 'User and/or item is unkown.'}),\n",
              " Prediction(uid='A1MDRO14OHZFYM', iid='B000087NBW', r_ui=5.0, est=4.064259962582604, details={'was_impossible': True, 'reason': 'User and/or item is unkown.'}),\n",
              " Prediction(uid='A6MYNS3UNVU2K', iid='B00011KHTW', r_ui=5.0, est=4.064259962582604, details={'was_impossible': True, 'reason': 'User and/or item is unkown.'}),\n",
              " Prediction(uid='A1Q21SXSR69Z8A', iid='B0001AU6H6', r_ui=5.0, est=4.064259962582604, details={'was_impossible': True, 'reason': 'User and/or item is unkown.'}),\n",
              " Prediction(uid='A3HBDAJ6YKH60V', iid='B0001LTT5K', r_ui=2.0, est=4.064259962582604, details={'was_impossible': True, 'reason': 'User and/or item is unkown.'}),\n",
              " Prediction(uid='A39T0UI3LF4B88', iid='B000652LUG', r_ui=2.0, est=4.064259962582604, details={'was_impossible': True, 'reason': 'User and/or item is unkown.'}),\n",
              " Prediction(uid='A1MP5OP9FOUWJ2', iid='B0000BZOGJ', r_ui=3.0, est=4.064259962582604, details={'was_impossible': True, 'reason': 'User and/or item is unkown.'}),\n",
              " Prediction(uid='A1PF21OF6KVHJ1', iid='B00009R6TA', r_ui=5.0, est=4.064259962582604, details={'was_impossible': True, 'reason': 'User and/or item is unkown.'}),\n",
              " Prediction(uid='A2SX6Y9SEBSRJ3', iid='B0000ALPB9', r_ui=1.0, est=4.064259962582604, details={'was_impossible': True, 'reason': 'User and/or item is unkown.'}),\n",
              " Prediction(uid='A1IUNUV8YDSMHU', iid='B0002GX1XA', r_ui=5.0, est=4.026315789473684, details={'actual_k': 0, 'was_impossible': False}),\n",
              " Prediction(uid='A3UMIIIDFU7WGL', iid='B00006BXBS', r_ui=5.0, est=4.064259962582604, details={'was_impossible': True, 'reason': 'User and/or item is unkown.'}),\n",
              " Prediction(uid='A2JJ5PEUANIP2W', iid='B0002OZXHO', r_ui=5.0, est=4.064259962582604, details={'was_impossible': True, 'reason': 'User and/or item is unkown.'}),\n",
              " Prediction(uid='A2II7MT1WINCG9', iid='B00000K2YR', r_ui=4.0, est=3.9901315789473686, details={'actual_k': 0, 'was_impossible': False}),\n",
              " Prediction(uid='A2X9Z6PINNRY2B', iid='B000062R4P', r_ui=5.0, est=4.064259962582604, details={'was_impossible': True, 'reason': 'User and/or item is unkown.'}),\n",
              " Prediction(uid='A1AP1ISMSL6GD5', iid='B0002ER5B6', r_ui=5.0, est=3.75, details={'actual_k': 0, 'was_impossible': False}),\n",
              " Prediction(uid='A1G3BAV1192WK6', iid='B0001DQ5YG', r_ui=4.0, est=4.064259962582604, details={'was_impossible': True, 'reason': 'User and/or item is unkown.'}),\n",
              " Prediction(uid='A3ACJ58WZVJEML', iid='B00006I53S', r_ui=4.0, est=4.2644927536231885, details={'actual_k': 0, 'was_impossible': False}),\n",
              " Prediction(uid='A2X3RNU1HI91XM', iid='B00009XVCZ', r_ui=5.0, est=4.064259962582604, details={'was_impossible': True, 'reason': 'User and/or item is unkown.'}),\n",
              " ...]"
            ]
          },
          "metadata": {
            "tags": []
          },
          "execution_count": 51
        }
      ]
    },
    {
      "cell_type": "code",
      "metadata": {
        "id": "L1UZ-ChlX6an",
        "colab_type": "code",
        "colab": {
          "base_uri": "https://localhost:8080/",
          "height": 68
        },
        "outputId": "dace1837-ffb6-42d8-b9bc-8b6189a42e1b"
      },
      "source": [
        "# get RMSE\n",
        "print(\"Item-based Model : Test Set\")\n",
        "accuracy.rmse(test_pred, verbose=True)"
      ],
      "execution_count": 54,
      "outputs": [
        {
          "output_type": "stream",
          "text": [
            "Item-based Model : Test Set\n",
            "RMSE: 1.3393\n"
          ],
          "name": "stdout"
        },
        {
          "output_type": "execute_result",
          "data": {
            "text/plain": [
              "1.3392736572376256"
            ]
          },
          "metadata": {
            "tags": []
          },
          "execution_count": 54
        }
      ]
    },
    {
      "cell_type": "markdown",
      "metadata": {
        "id": "w50omIsCYHw6",
        "colab_type": "text"
      },
      "source": [
        "# Model-based collaborative filtering system\n",
        "These methods are based on machine learning and data mining techniques. The goal is to train models to be able to make predictions. For example, we could use existing user-item interactions to train a model to predict the top-5 items that a user might like the most. One advantage of these methods is that they are able to recommend a larger number of items to a larger number of users, compared to other methods like memory based approach. They have large coverage, even when working with large sparse matrices.\n",
        "\n"
      ]
    },
    {
      "cell_type": "code",
      "metadata": {
        "id": "cx57Ed2FYb4a",
        "colab_type": "code",
        "colab": {
          "base_uri": "https://localhost:8080/",
          "height": 255
        },
        "outputId": "e70a19fc-0103-4fbd-b868-3a8dfa3e7a1f"
      },
      "source": [
        "new_df1=new_df.head(10000)\n",
        "ratings_matrix = new_df1.pivot_table(values='Rating', index='userId', columns='productId', fill_value=0)\n",
        "ratings_matrix.head()"
      ],
      "execution_count": 55,
      "outputs": [
        {
          "output_type": "execute_result",
          "data": {
            "text/html": [
              "<div>\n",
              "<style scoped>\n",
              "    .dataframe tbody tr th:only-of-type {\n",
              "        vertical-align: middle;\n",
              "    }\n",
              "\n",
              "    .dataframe tbody tr th {\n",
              "        vertical-align: top;\n",
              "    }\n",
              "\n",
              "    .dataframe thead th {\n",
              "        text-align: right;\n",
              "    }\n",
              "</style>\n",
              "<table border=\"1\" class=\"dataframe\">\n",
              "  <thead>\n",
              "    <tr style=\"text-align: right;\">\n",
              "      <th>productId</th>\n",
              "      <th>0972683275</th>\n",
              "      <th>1400501466</th>\n",
              "      <th>1400501520</th>\n",
              "      <th>1400501776</th>\n",
              "      <th>1400532620</th>\n",
              "      <th>1400532655</th>\n",
              "      <th>140053271X</th>\n",
              "      <th>1400532736</th>\n",
              "      <th>1400599997</th>\n",
              "      <th>1400698987</th>\n",
              "      <th>3744295508</th>\n",
              "      <th>6301977173</th>\n",
              "      <th>7214047977</th>\n",
              "      <th>8862935293</th>\n",
              "      <th>9573212919</th>\n",
              "      <th>9575871979</th>\n",
              "      <th>9625993428</th>\n",
              "      <th>9888002198</th>\n",
              "      <th>9966694544</th>\n",
              "      <th>9983891212</th>\n",
              "      <th>9984984354</th>\n",
              "      <th>9985511476</th>\n",
              "      <th>B000001OM4</th>\n",
              "      <th>B000001OM5</th>\n",
              "      <th>B000001OMI</th>\n",
              "      <th>B000001ON6</th>\n",
              "      <th>B00000DM9W</th>\n",
              "      <th>B00000IGBF</th>\n",
              "      <th>B00000J05A</th>\n",
              "      <th>B00000J061</th>\n",
              "      <th>B00000J08Q</th>\n",
              "      <th>B00000J0D2</th>\n",
              "      <th>B00000J0D5</th>\n",
              "      <th>B00000J0D8</th>\n",
              "      <th>B00000J1EJ</th>\n",
              "      <th>B00000J1EP</th>\n",
              "      <th>B00000J1EQ</th>\n",
              "      <th>B00000J1F3</th>\n",
              "      <th>B00000J1GA</th>\n",
              "      <th>B00000J1QK</th>\n",
              "      <th>B00000J1QR</th>\n",
              "      <th>B00000J1SC</th>\n",
              "      <th>B00000J1TX</th>\n",
              "      <th>B00000J1U8</th>\n",
              "      <th>B00000J1UQ</th>\n",
              "      <th>B00000J1V3</th>\n",
              "      <th>B00000J1V5</th>\n",
              "      <th>B00000J3NF</th>\n",
              "      <th>B00000J3Q7</th>\n",
              "      <th>B00000J3UJ</th>\n",
              "      <th>B00000J434</th>\n",
              "      <th>B00000J4EY</th>\n",
              "      <th>B00000J4FS</th>\n",
              "      <th>B00000J4GE</th>\n",
              "      <th>B00000J6WY</th>\n",
              "      <th>B00000JBAT</th>\n",
              "      <th>B00000JBHP</th>\n",
              "      <th>B00000JBPB</th>\n",
              "      <th>B00000JCT8</th>\n",
              "      <th>B00000JCTO</th>\n",
              "      <th>B00000JD34</th>\n",
              "      <th>B00000JDF5</th>\n",
              "      <th>B00000JDF6</th>\n",
              "      <th>B00000JDHV</th>\n",
              "      <th>B00000JFE3</th>\n",
              "      <th>B00000JFIF</th>\n",
              "      <th>B00000JFMK</th>\n",
              "      <th>B00000JHWX</th>\n",
              "      <th>B00000JI4F</th>\n",
              "      <th>B00000JII6</th>\n",
              "      <th>B00000JMUG</th>\n",
              "      <th>B00000JPPI</th>\n",
              "      <th>B00000JSGF</th>\n",
              "      <th>B00000JYLO</th>\n",
              "      <th>B00000JYWQ</th>\n",
              "      <th>B00000K135</th>\n",
              "    </tr>\n",
              "    <tr>\n",
              "      <th>userId</th>\n",
              "      <th></th>\n",
              "      <th></th>\n",
              "      <th></th>\n",
              "      <th></th>\n",
              "      <th></th>\n",
              "      <th></th>\n",
              "      <th></th>\n",
              "      <th></th>\n",
              "      <th></th>\n",
              "      <th></th>\n",
              "      <th></th>\n",
              "      <th></th>\n",
              "      <th></th>\n",
              "      <th></th>\n",
              "      <th></th>\n",
              "      <th></th>\n",
              "      <th></th>\n",
              "      <th></th>\n",
              "      <th></th>\n",
              "      <th></th>\n",
              "      <th></th>\n",
              "      <th></th>\n",
              "      <th></th>\n",
              "      <th></th>\n",
              "      <th></th>\n",
              "      <th></th>\n",
              "      <th></th>\n",
              "      <th></th>\n",
              "      <th></th>\n",
              "      <th></th>\n",
              "      <th></th>\n",
              "      <th></th>\n",
              "      <th></th>\n",
              "      <th></th>\n",
              "      <th></th>\n",
              "      <th></th>\n",
              "      <th></th>\n",
              "      <th></th>\n",
              "      <th></th>\n",
              "      <th></th>\n",
              "      <th></th>\n",
              "      <th></th>\n",
              "      <th></th>\n",
              "      <th></th>\n",
              "      <th></th>\n",
              "      <th></th>\n",
              "      <th></th>\n",
              "      <th></th>\n",
              "      <th></th>\n",
              "      <th></th>\n",
              "      <th></th>\n",
              "      <th></th>\n",
              "      <th></th>\n",
              "      <th></th>\n",
              "      <th></th>\n",
              "      <th></th>\n",
              "      <th></th>\n",
              "      <th></th>\n",
              "      <th></th>\n",
              "      <th></th>\n",
              "      <th></th>\n",
              "      <th></th>\n",
              "      <th></th>\n",
              "      <th></th>\n",
              "      <th></th>\n",
              "      <th></th>\n",
              "      <th></th>\n",
              "      <th></th>\n",
              "      <th></th>\n",
              "      <th></th>\n",
              "      <th></th>\n",
              "      <th></th>\n",
              "      <th></th>\n",
              "      <th></th>\n",
              "      <th></th>\n",
              "      <th></th>\n",
              "    </tr>\n",
              "  </thead>\n",
              "  <tbody>\n",
              "    <tr>\n",
              "      <th>A01852072Z7B68UHLI5UG</th>\n",
              "      <td>0</td>\n",
              "      <td>0</td>\n",
              "      <td>0</td>\n",
              "      <td>0</td>\n",
              "      <td>0</td>\n",
              "      <td>0</td>\n",
              "      <td>0</td>\n",
              "      <td>0</td>\n",
              "      <td>0</td>\n",
              "      <td>0</td>\n",
              "      <td>0</td>\n",
              "      <td>0</td>\n",
              "      <td>0</td>\n",
              "      <td>0</td>\n",
              "      <td>0</td>\n",
              "      <td>0</td>\n",
              "      <td>0</td>\n",
              "      <td>0</td>\n",
              "      <td>0</td>\n",
              "      <td>0</td>\n",
              "      <td>0</td>\n",
              "      <td>0</td>\n",
              "      <td>0</td>\n",
              "      <td>0</td>\n",
              "      <td>0</td>\n",
              "      <td>0</td>\n",
              "      <td>0</td>\n",
              "      <td>0</td>\n",
              "      <td>0</td>\n",
              "      <td>0</td>\n",
              "      <td>0</td>\n",
              "      <td>0</td>\n",
              "      <td>0</td>\n",
              "      <td>0</td>\n",
              "      <td>0</td>\n",
              "      <td>0</td>\n",
              "      <td>0</td>\n",
              "      <td>0</td>\n",
              "      <td>0</td>\n",
              "      <td>0</td>\n",
              "      <td>0</td>\n",
              "      <td>0</td>\n",
              "      <td>0</td>\n",
              "      <td>0</td>\n",
              "      <td>0</td>\n",
              "      <td>0</td>\n",
              "      <td>4</td>\n",
              "      <td>0</td>\n",
              "      <td>0</td>\n",
              "      <td>0</td>\n",
              "      <td>0</td>\n",
              "      <td>0</td>\n",
              "      <td>0</td>\n",
              "      <td>0</td>\n",
              "      <td>0</td>\n",
              "      <td>0</td>\n",
              "      <td>0</td>\n",
              "      <td>0</td>\n",
              "      <td>0</td>\n",
              "      <td>0</td>\n",
              "      <td>0</td>\n",
              "      <td>0</td>\n",
              "      <td>0</td>\n",
              "      <td>0</td>\n",
              "      <td>0</td>\n",
              "      <td>0</td>\n",
              "      <td>0</td>\n",
              "      <td>0</td>\n",
              "      <td>0</td>\n",
              "      <td>0</td>\n",
              "      <td>0</td>\n",
              "      <td>0</td>\n",
              "      <td>0</td>\n",
              "      <td>0</td>\n",
              "      <td>0</td>\n",
              "      <td>0</td>\n",
              "    </tr>\n",
              "    <tr>\n",
              "      <th>A0266076X6KPZ6CCHGVS</th>\n",
              "      <td>0</td>\n",
              "      <td>0</td>\n",
              "      <td>0</td>\n",
              "      <td>0</td>\n",
              "      <td>0</td>\n",
              "      <td>0</td>\n",
              "      <td>0</td>\n",
              "      <td>0</td>\n",
              "      <td>0</td>\n",
              "      <td>0</td>\n",
              "      <td>0</td>\n",
              "      <td>0</td>\n",
              "      <td>0</td>\n",
              "      <td>0</td>\n",
              "      <td>0</td>\n",
              "      <td>0</td>\n",
              "      <td>0</td>\n",
              "      <td>0</td>\n",
              "      <td>0</td>\n",
              "      <td>0</td>\n",
              "      <td>0</td>\n",
              "      <td>0</td>\n",
              "      <td>0</td>\n",
              "      <td>0</td>\n",
              "      <td>0</td>\n",
              "      <td>0</td>\n",
              "      <td>0</td>\n",
              "      <td>0</td>\n",
              "      <td>0</td>\n",
              "      <td>0</td>\n",
              "      <td>0</td>\n",
              "      <td>0</td>\n",
              "      <td>0</td>\n",
              "      <td>0</td>\n",
              "      <td>0</td>\n",
              "      <td>0</td>\n",
              "      <td>0</td>\n",
              "      <td>0</td>\n",
              "      <td>0</td>\n",
              "      <td>0</td>\n",
              "      <td>5</td>\n",
              "      <td>0</td>\n",
              "      <td>0</td>\n",
              "      <td>0</td>\n",
              "      <td>0</td>\n",
              "      <td>0</td>\n",
              "      <td>0</td>\n",
              "      <td>0</td>\n",
              "      <td>0</td>\n",
              "      <td>0</td>\n",
              "      <td>0</td>\n",
              "      <td>0</td>\n",
              "      <td>0</td>\n",
              "      <td>0</td>\n",
              "      <td>0</td>\n",
              "      <td>0</td>\n",
              "      <td>0</td>\n",
              "      <td>0</td>\n",
              "      <td>0</td>\n",
              "      <td>0</td>\n",
              "      <td>0</td>\n",
              "      <td>0</td>\n",
              "      <td>0</td>\n",
              "      <td>0</td>\n",
              "      <td>0</td>\n",
              "      <td>0</td>\n",
              "      <td>0</td>\n",
              "      <td>0</td>\n",
              "      <td>0</td>\n",
              "      <td>0</td>\n",
              "      <td>0</td>\n",
              "      <td>0</td>\n",
              "      <td>0</td>\n",
              "      <td>0</td>\n",
              "      <td>0</td>\n",
              "      <td>0</td>\n",
              "    </tr>\n",
              "    <tr>\n",
              "      <th>A0293130VTX2ZXA70JQS</th>\n",
              "      <td>5</td>\n",
              "      <td>0</td>\n",
              "      <td>0</td>\n",
              "      <td>0</td>\n",
              "      <td>0</td>\n",
              "      <td>0</td>\n",
              "      <td>0</td>\n",
              "      <td>0</td>\n",
              "      <td>0</td>\n",
              "      <td>0</td>\n",
              "      <td>0</td>\n",
              "      <td>0</td>\n",
              "      <td>0</td>\n",
              "      <td>0</td>\n",
              "      <td>0</td>\n",
              "      <td>0</td>\n",
              "      <td>0</td>\n",
              "      <td>0</td>\n",
              "      <td>0</td>\n",
              "      <td>0</td>\n",
              "      <td>0</td>\n",
              "      <td>0</td>\n",
              "      <td>0</td>\n",
              "      <td>0</td>\n",
              "      <td>0</td>\n",
              "      <td>0</td>\n",
              "      <td>0</td>\n",
              "      <td>0</td>\n",
              "      <td>0</td>\n",
              "      <td>0</td>\n",
              "      <td>0</td>\n",
              "      <td>0</td>\n",
              "      <td>0</td>\n",
              "      <td>0</td>\n",
              "      <td>0</td>\n",
              "      <td>0</td>\n",
              "      <td>0</td>\n",
              "      <td>0</td>\n",
              "      <td>0</td>\n",
              "      <td>0</td>\n",
              "      <td>0</td>\n",
              "      <td>0</td>\n",
              "      <td>0</td>\n",
              "      <td>0</td>\n",
              "      <td>0</td>\n",
              "      <td>0</td>\n",
              "      <td>0</td>\n",
              "      <td>0</td>\n",
              "      <td>0</td>\n",
              "      <td>0</td>\n",
              "      <td>0</td>\n",
              "      <td>0</td>\n",
              "      <td>0</td>\n",
              "      <td>0</td>\n",
              "      <td>0</td>\n",
              "      <td>0</td>\n",
              "      <td>0</td>\n",
              "      <td>0</td>\n",
              "      <td>0</td>\n",
              "      <td>0</td>\n",
              "      <td>0</td>\n",
              "      <td>0</td>\n",
              "      <td>0</td>\n",
              "      <td>0</td>\n",
              "      <td>0</td>\n",
              "      <td>0</td>\n",
              "      <td>0</td>\n",
              "      <td>0</td>\n",
              "      <td>0</td>\n",
              "      <td>0</td>\n",
              "      <td>0</td>\n",
              "      <td>0</td>\n",
              "      <td>0</td>\n",
              "      <td>0</td>\n",
              "      <td>0</td>\n",
              "      <td>0</td>\n",
              "    </tr>\n",
              "    <tr>\n",
              "      <th>A030530627MK66BD8V4LN</th>\n",
              "      <td>4</td>\n",
              "      <td>0</td>\n",
              "      <td>0</td>\n",
              "      <td>0</td>\n",
              "      <td>0</td>\n",
              "      <td>0</td>\n",
              "      <td>0</td>\n",
              "      <td>0</td>\n",
              "      <td>0</td>\n",
              "      <td>0</td>\n",
              "      <td>0</td>\n",
              "      <td>0</td>\n",
              "      <td>0</td>\n",
              "      <td>0</td>\n",
              "      <td>0</td>\n",
              "      <td>0</td>\n",
              "      <td>0</td>\n",
              "      <td>0</td>\n",
              "      <td>0</td>\n",
              "      <td>0</td>\n",
              "      <td>0</td>\n",
              "      <td>0</td>\n",
              "      <td>0</td>\n",
              "      <td>0</td>\n",
              "      <td>0</td>\n",
              "      <td>0</td>\n",
              "      <td>0</td>\n",
              "      <td>0</td>\n",
              "      <td>0</td>\n",
              "      <td>0</td>\n",
              "      <td>0</td>\n",
              "      <td>0</td>\n",
              "      <td>0</td>\n",
              "      <td>0</td>\n",
              "      <td>0</td>\n",
              "      <td>0</td>\n",
              "      <td>0</td>\n",
              "      <td>0</td>\n",
              "      <td>0</td>\n",
              "      <td>0</td>\n",
              "      <td>0</td>\n",
              "      <td>0</td>\n",
              "      <td>0</td>\n",
              "      <td>0</td>\n",
              "      <td>0</td>\n",
              "      <td>0</td>\n",
              "      <td>0</td>\n",
              "      <td>0</td>\n",
              "      <td>0</td>\n",
              "      <td>0</td>\n",
              "      <td>0</td>\n",
              "      <td>0</td>\n",
              "      <td>0</td>\n",
              "      <td>0</td>\n",
              "      <td>0</td>\n",
              "      <td>0</td>\n",
              "      <td>0</td>\n",
              "      <td>0</td>\n",
              "      <td>0</td>\n",
              "      <td>0</td>\n",
              "      <td>0</td>\n",
              "      <td>0</td>\n",
              "      <td>0</td>\n",
              "      <td>0</td>\n",
              "      <td>0</td>\n",
              "      <td>0</td>\n",
              "      <td>0</td>\n",
              "      <td>0</td>\n",
              "      <td>0</td>\n",
              "      <td>0</td>\n",
              "      <td>0</td>\n",
              "      <td>0</td>\n",
              "      <td>0</td>\n",
              "      <td>0</td>\n",
              "      <td>0</td>\n",
              "      <td>0</td>\n",
              "    </tr>\n",
              "    <tr>\n",
              "      <th>A0571176384K8RBNKGF8O</th>\n",
              "      <td>0</td>\n",
              "      <td>0</td>\n",
              "      <td>0</td>\n",
              "      <td>0</td>\n",
              "      <td>0</td>\n",
              "      <td>0</td>\n",
              "      <td>0</td>\n",
              "      <td>0</td>\n",
              "      <td>0</td>\n",
              "      <td>0</td>\n",
              "      <td>0</td>\n",
              "      <td>0</td>\n",
              "      <td>0</td>\n",
              "      <td>0</td>\n",
              "      <td>0</td>\n",
              "      <td>0</td>\n",
              "      <td>0</td>\n",
              "      <td>0</td>\n",
              "      <td>0</td>\n",
              "      <td>0</td>\n",
              "      <td>0</td>\n",
              "      <td>0</td>\n",
              "      <td>0</td>\n",
              "      <td>0</td>\n",
              "      <td>0</td>\n",
              "      <td>0</td>\n",
              "      <td>0</td>\n",
              "      <td>0</td>\n",
              "      <td>0</td>\n",
              "      <td>0</td>\n",
              "      <td>0</td>\n",
              "      <td>0</td>\n",
              "      <td>0</td>\n",
              "      <td>0</td>\n",
              "      <td>0</td>\n",
              "      <td>0</td>\n",
              "      <td>0</td>\n",
              "      <td>0</td>\n",
              "      <td>0</td>\n",
              "      <td>0</td>\n",
              "      <td>0</td>\n",
              "      <td>0</td>\n",
              "      <td>0</td>\n",
              "      <td>0</td>\n",
              "      <td>0</td>\n",
              "      <td>0</td>\n",
              "      <td>0</td>\n",
              "      <td>0</td>\n",
              "      <td>0</td>\n",
              "      <td>0</td>\n",
              "      <td>0</td>\n",
              "      <td>0</td>\n",
              "      <td>0</td>\n",
              "      <td>0</td>\n",
              "      <td>0</td>\n",
              "      <td>0</td>\n",
              "      <td>0</td>\n",
              "      <td>0</td>\n",
              "      <td>0</td>\n",
              "      <td>0</td>\n",
              "      <td>5</td>\n",
              "      <td>0</td>\n",
              "      <td>0</td>\n",
              "      <td>0</td>\n",
              "      <td>0</td>\n",
              "      <td>0</td>\n",
              "      <td>0</td>\n",
              "      <td>0</td>\n",
              "      <td>0</td>\n",
              "      <td>0</td>\n",
              "      <td>0</td>\n",
              "      <td>0</td>\n",
              "      <td>0</td>\n",
              "      <td>0</td>\n",
              "      <td>0</td>\n",
              "      <td>0</td>\n",
              "    </tr>\n",
              "  </tbody>\n",
              "</table>\n",
              "</div>"
            ],
            "text/plain": [
              "productId              0972683275  1400501466  ...  B00000JYWQ  B00000K135\n",
              "userId                                         ...                        \n",
              "A01852072Z7B68UHLI5UG           0           0  ...           0           0\n",
              "A0266076X6KPZ6CCHGVS            0           0  ...           0           0\n",
              "A0293130VTX2ZXA70JQS            5           0  ...           0           0\n",
              "A030530627MK66BD8V4LN           4           0  ...           0           0\n",
              "A0571176384K8RBNKGF8O           0           0  ...           0           0\n",
              "\n",
              "[5 rows x 76 columns]"
            ]
          },
          "metadata": {
            "tags": []
          },
          "execution_count": 55
        }
      ]
    },
    {
      "cell_type": "markdown",
      "metadata": {
        "id": "niyd5xfTZQBe",
        "colab_type": "text"
      },
      "source": [
        "As expected, the utility matrix obtaned above is sparce, I have filled up the unknown values wth 0.\n",
        "\n"
      ]
    },
    {
      "cell_type": "code",
      "metadata": {
        "id": "EnkKtzqbZUqq",
        "colab_type": "code",
        "colab": {
          "base_uri": "https://localhost:8080/",
          "height": 34
        },
        "outputId": "2c2631ed-b9af-4c13-fe64-fe43b917f8ef"
      },
      "source": [
        "ratings_matrix.shape"
      ],
      "execution_count": 56,
      "outputs": [
        {
          "output_type": "execute_result",
          "data": {
            "text/plain": [
              "(9832, 76)"
            ]
          },
          "metadata": {
            "tags": []
          },
          "execution_count": 56
        }
      ]
    },
    {
      "cell_type": "markdown",
      "metadata": {
        "id": "2tORyvIwZfsT",
        "colab_type": "text"
      },
      "source": [
        "**Transposing the matrix**"
      ]
    },
    {
      "cell_type": "code",
      "metadata": {
        "id": "zXJe044OZk-h",
        "colab_type": "code",
        "colab": {
          "base_uri": "https://localhost:8080/",
          "height": 284
        },
        "outputId": "4c62a867-74ae-4261-9d42-525bc3d20da1"
      },
      "source": [
        "X = ratings_matrix.T\n",
        "X.head()"
      ],
      "execution_count": 57,
      "outputs": [
        {
          "output_type": "execute_result",
          "data": {
            "text/html": [
              "<div>\n",
              "<style scoped>\n",
              "    .dataframe tbody tr th:only-of-type {\n",
              "        vertical-align: middle;\n",
              "    }\n",
              "\n",
              "    .dataframe tbody tr th {\n",
              "        vertical-align: top;\n",
              "    }\n",
              "\n",
              "    .dataframe thead th {\n",
              "        text-align: right;\n",
              "    }\n",
              "</style>\n",
              "<table border=\"1\" class=\"dataframe\">\n",
              "  <thead>\n",
              "    <tr style=\"text-align: right;\">\n",
              "      <th>userId</th>\n",
              "      <th>A01852072Z7B68UHLI5UG</th>\n",
              "      <th>A0266076X6KPZ6CCHGVS</th>\n",
              "      <th>A0293130VTX2ZXA70JQS</th>\n",
              "      <th>A030530627MK66BD8V4LN</th>\n",
              "      <th>A0571176384K8RBNKGF8O</th>\n",
              "      <th>A0590501PZ7HOWJKBGQ4</th>\n",
              "      <th>A0641581307AKT5MAOU0Q</th>\n",
              "      <th>A076219533YHEV2LJO988</th>\n",
              "      <th>A0821988FXKFYX53V4QG</th>\n",
              "      <th>A099626739FNCRNHIKBCG</th>\n",
              "      <th>A1003EYWAQFOUG</th>\n",
              "      <th>A100LLXMXDZHJZ</th>\n",
              "      <th>A10121433FMMZNY18RWZ8</th>\n",
              "      <th>A1013OEQCVS6AR</th>\n",
              "      <th>A1013Q8NLCY56R</th>\n",
              "      <th>A101DJDPGK0Q46</th>\n",
              "      <th>A101IWCCIWQWC9</th>\n",
              "      <th>A10285OSAM1MZK</th>\n",
              "      <th>A102IUFPXVDRB6</th>\n",
              "      <th>A102L0RVI4LHH3</th>\n",
              "      <th>A102RLOGIBBDMW</th>\n",
              "      <th>A102ZABPUPNYCT</th>\n",
              "      <th>A1038957GWRBP375RU5T</th>\n",
              "      <th>A103XY7DJYZHFN</th>\n",
              "      <th>A104VHQ06KFLDT</th>\n",
              "      <th>A1058D8UFZL711</th>\n",
              "      <th>A105AZN9C8UAOJ</th>\n",
              "      <th>A105TOJ6LTVMBG</th>\n",
              "      <th>A106YUCY4SVX1D</th>\n",
              "      <th>A1077JEY0CE3BB</th>\n",
              "      <th>A1079KKA0AXSL3</th>\n",
              "      <th>A107I2HYD2JZ5G</th>\n",
              "      <th>A1089S59XSJT2T</th>\n",
              "      <th>A108LYH0NZ9919</th>\n",
              "      <th>A108UXJTIV8XXY</th>\n",
              "      <th>A10956KAP9F1CO</th>\n",
              "      <th>A109ZR833WIFQS</th>\n",
              "      <th>A10BH1JDT6SNGA</th>\n",
              "      <th>A10BOETDPAFJ4C</th>\n",
              "      <th>A10CRW7XRJBJ2G</th>\n",
              "      <th>...</th>\n",
              "      <th>AZKKZ58QBXZUA</th>\n",
              "      <th>AZKOO6TVQBDAF</th>\n",
              "      <th>AZL95QPWJDM3Y</th>\n",
              "      <th>AZM8PD2KBVXN5</th>\n",
              "      <th>AZMCJ61JS6L3X</th>\n",
              "      <th>AZMY6E8B52L2T</th>\n",
              "      <th>AZN6Z0QRMZYX8</th>\n",
              "      <th>AZNMO6T8G0ZEU</th>\n",
              "      <th>AZNVF1G1GJRR4</th>\n",
              "      <th>AZO3DZAJ8S0D9</th>\n",
              "      <th>AZODG8OG0CETL</th>\n",
              "      <th>AZOFJX627J181</th>\n",
              "      <th>AZOPTWUSS6UM0</th>\n",
              "      <th>AZOTUFIYPVNDT</th>\n",
              "      <th>AZPPZOYTNLEN0</th>\n",
              "      <th>AZPT44204EODM</th>\n",
              "      <th>AZPT6K5K0IVCT</th>\n",
              "      <th>AZPYIAOEAV3OZ</th>\n",
              "      <th>AZQ2YSCWSKWX6</th>\n",
              "      <th>AZQ9DYG38GVBR</th>\n",
              "      <th>AZQJQBJ75DHMS</th>\n",
              "      <th>AZQOWHUHXMIMS</th>\n",
              "      <th>AZQQVI9RHJYH6</th>\n",
              "      <th>AZQTJ6HUS5L2Q</th>\n",
              "      <th>AZRPGTU8A7KD5</th>\n",
              "      <th>AZS8W54PXQ01W</th>\n",
              "      <th>AZSUNAT0BRQDU</th>\n",
              "      <th>AZTC7YC8PKG39</th>\n",
              "      <th>AZTC8ZV20NO1D</th>\n",
              "      <th>AZV9WA9MNT0FB</th>\n",
              "      <th>AZWOPBY75SGAM</th>\n",
              "      <th>AZX0ZDVAFMN78</th>\n",
              "      <th>AZX5LAN9JEAFF</th>\n",
              "      <th>AZX7I110AF0W2</th>\n",
              "      <th>AZXKUK895VGSM</th>\n",
              "      <th>AZXP46IB63PU8</th>\n",
              "      <th>AZYTSU42BZ7TP</th>\n",
              "      <th>AZZGJ2KMWB7R</th>\n",
              "      <th>AZZMV5VT9W7Y8</th>\n",
              "      <th>AZZST8OYL5P4Q</th>\n",
              "    </tr>\n",
              "    <tr>\n",
              "      <th>productId</th>\n",
              "      <th></th>\n",
              "      <th></th>\n",
              "      <th></th>\n",
              "      <th></th>\n",
              "      <th></th>\n",
              "      <th></th>\n",
              "      <th></th>\n",
              "      <th></th>\n",
              "      <th></th>\n",
              "      <th></th>\n",
              "      <th></th>\n",
              "      <th></th>\n",
              "      <th></th>\n",
              "      <th></th>\n",
              "      <th></th>\n",
              "      <th></th>\n",
              "      <th></th>\n",
              "      <th></th>\n",
              "      <th></th>\n",
              "      <th></th>\n",
              "      <th></th>\n",
              "      <th></th>\n",
              "      <th></th>\n",
              "      <th></th>\n",
              "      <th></th>\n",
              "      <th></th>\n",
              "      <th></th>\n",
              "      <th></th>\n",
              "      <th></th>\n",
              "      <th></th>\n",
              "      <th></th>\n",
              "      <th></th>\n",
              "      <th></th>\n",
              "      <th></th>\n",
              "      <th></th>\n",
              "      <th></th>\n",
              "      <th></th>\n",
              "      <th></th>\n",
              "      <th></th>\n",
              "      <th></th>\n",
              "      <th></th>\n",
              "      <th></th>\n",
              "      <th></th>\n",
              "      <th></th>\n",
              "      <th></th>\n",
              "      <th></th>\n",
              "      <th></th>\n",
              "      <th></th>\n",
              "      <th></th>\n",
              "      <th></th>\n",
              "      <th></th>\n",
              "      <th></th>\n",
              "      <th></th>\n",
              "      <th></th>\n",
              "      <th></th>\n",
              "      <th></th>\n",
              "      <th></th>\n",
              "      <th></th>\n",
              "      <th></th>\n",
              "      <th></th>\n",
              "      <th></th>\n",
              "      <th></th>\n",
              "      <th></th>\n",
              "      <th></th>\n",
              "      <th></th>\n",
              "      <th></th>\n",
              "      <th></th>\n",
              "      <th></th>\n",
              "      <th></th>\n",
              "      <th></th>\n",
              "      <th></th>\n",
              "      <th></th>\n",
              "      <th></th>\n",
              "      <th></th>\n",
              "      <th></th>\n",
              "      <th></th>\n",
              "      <th></th>\n",
              "      <th></th>\n",
              "      <th></th>\n",
              "      <th></th>\n",
              "      <th></th>\n",
              "    </tr>\n",
              "  </thead>\n",
              "  <tbody>\n",
              "    <tr>\n",
              "      <th>0972683275</th>\n",
              "      <td>0</td>\n",
              "      <td>0</td>\n",
              "      <td>5</td>\n",
              "      <td>4</td>\n",
              "      <td>0</td>\n",
              "      <td>0</td>\n",
              "      <td>0</td>\n",
              "      <td>0</td>\n",
              "      <td>0</td>\n",
              "      <td>0</td>\n",
              "      <td>0</td>\n",
              "      <td>0</td>\n",
              "      <td>0</td>\n",
              "      <td>0</td>\n",
              "      <td>0</td>\n",
              "      <td>0</td>\n",
              "      <td>0</td>\n",
              "      <td>0</td>\n",
              "      <td>0</td>\n",
              "      <td>0</td>\n",
              "      <td>0</td>\n",
              "      <td>0</td>\n",
              "      <td>5</td>\n",
              "      <td>0</td>\n",
              "      <td>0</td>\n",
              "      <td>0</td>\n",
              "      <td>0</td>\n",
              "      <td>0</td>\n",
              "      <td>5</td>\n",
              "      <td>0</td>\n",
              "      <td>4</td>\n",
              "      <td>0</td>\n",
              "      <td>0</td>\n",
              "      <td>0</td>\n",
              "      <td>5</td>\n",
              "      <td>0</td>\n",
              "      <td>0</td>\n",
              "      <td>0</td>\n",
              "      <td>0</td>\n",
              "      <td>0</td>\n",
              "      <td>...</td>\n",
              "      <td>0</td>\n",
              "      <td>0</td>\n",
              "      <td>0</td>\n",
              "      <td>5</td>\n",
              "      <td>0</td>\n",
              "      <td>0</td>\n",
              "      <td>0</td>\n",
              "      <td>0</td>\n",
              "      <td>0</td>\n",
              "      <td>5</td>\n",
              "      <td>0</td>\n",
              "      <td>0</td>\n",
              "      <td>0</td>\n",
              "      <td>0</td>\n",
              "      <td>0</td>\n",
              "      <td>5</td>\n",
              "      <td>0</td>\n",
              "      <td>0</td>\n",
              "      <td>0</td>\n",
              "      <td>0</td>\n",
              "      <td>0</td>\n",
              "      <td>0</td>\n",
              "      <td>0</td>\n",
              "      <td>0</td>\n",
              "      <td>0</td>\n",
              "      <td>0</td>\n",
              "      <td>0</td>\n",
              "      <td>5</td>\n",
              "      <td>0</td>\n",
              "      <td>0</td>\n",
              "      <td>0</td>\n",
              "      <td>0</td>\n",
              "      <td>0</td>\n",
              "      <td>0</td>\n",
              "      <td>0</td>\n",
              "      <td>0</td>\n",
              "      <td>0</td>\n",
              "      <td>0</td>\n",
              "      <td>0</td>\n",
              "      <td>0</td>\n",
              "    </tr>\n",
              "    <tr>\n",
              "      <th>1400501466</th>\n",
              "      <td>0</td>\n",
              "      <td>0</td>\n",
              "      <td>0</td>\n",
              "      <td>0</td>\n",
              "      <td>0</td>\n",
              "      <td>0</td>\n",
              "      <td>0</td>\n",
              "      <td>0</td>\n",
              "      <td>0</td>\n",
              "      <td>0</td>\n",
              "      <td>0</td>\n",
              "      <td>0</td>\n",
              "      <td>0</td>\n",
              "      <td>0</td>\n",
              "      <td>0</td>\n",
              "      <td>0</td>\n",
              "      <td>0</td>\n",
              "      <td>0</td>\n",
              "      <td>0</td>\n",
              "      <td>0</td>\n",
              "      <td>0</td>\n",
              "      <td>0</td>\n",
              "      <td>0</td>\n",
              "      <td>0</td>\n",
              "      <td>0</td>\n",
              "      <td>0</td>\n",
              "      <td>0</td>\n",
              "      <td>0</td>\n",
              "      <td>0</td>\n",
              "      <td>0</td>\n",
              "      <td>0</td>\n",
              "      <td>5</td>\n",
              "      <td>5</td>\n",
              "      <td>0</td>\n",
              "      <td>0</td>\n",
              "      <td>0</td>\n",
              "      <td>0</td>\n",
              "      <td>0</td>\n",
              "      <td>0</td>\n",
              "      <td>0</td>\n",
              "      <td>...</td>\n",
              "      <td>0</td>\n",
              "      <td>0</td>\n",
              "      <td>0</td>\n",
              "      <td>0</td>\n",
              "      <td>0</td>\n",
              "      <td>0</td>\n",
              "      <td>0</td>\n",
              "      <td>0</td>\n",
              "      <td>0</td>\n",
              "      <td>0</td>\n",
              "      <td>0</td>\n",
              "      <td>0</td>\n",
              "      <td>0</td>\n",
              "      <td>0</td>\n",
              "      <td>0</td>\n",
              "      <td>0</td>\n",
              "      <td>0</td>\n",
              "      <td>0</td>\n",
              "      <td>0</td>\n",
              "      <td>0</td>\n",
              "      <td>0</td>\n",
              "      <td>0</td>\n",
              "      <td>3</td>\n",
              "      <td>0</td>\n",
              "      <td>0</td>\n",
              "      <td>0</td>\n",
              "      <td>0</td>\n",
              "      <td>0</td>\n",
              "      <td>0</td>\n",
              "      <td>0</td>\n",
              "      <td>0</td>\n",
              "      <td>0</td>\n",
              "      <td>0</td>\n",
              "      <td>0</td>\n",
              "      <td>0</td>\n",
              "      <td>0</td>\n",
              "      <td>0</td>\n",
              "      <td>0</td>\n",
              "      <td>0</td>\n",
              "      <td>0</td>\n",
              "    </tr>\n",
              "    <tr>\n",
              "      <th>1400501520</th>\n",
              "      <td>0</td>\n",
              "      <td>0</td>\n",
              "      <td>0</td>\n",
              "      <td>0</td>\n",
              "      <td>0</td>\n",
              "      <td>0</td>\n",
              "      <td>0</td>\n",
              "      <td>0</td>\n",
              "      <td>0</td>\n",
              "      <td>3</td>\n",
              "      <td>0</td>\n",
              "      <td>0</td>\n",
              "      <td>0</td>\n",
              "      <td>0</td>\n",
              "      <td>0</td>\n",
              "      <td>0</td>\n",
              "      <td>0</td>\n",
              "      <td>0</td>\n",
              "      <td>0</td>\n",
              "      <td>0</td>\n",
              "      <td>0</td>\n",
              "      <td>0</td>\n",
              "      <td>0</td>\n",
              "      <td>0</td>\n",
              "      <td>0</td>\n",
              "      <td>0</td>\n",
              "      <td>0</td>\n",
              "      <td>0</td>\n",
              "      <td>0</td>\n",
              "      <td>0</td>\n",
              "      <td>0</td>\n",
              "      <td>0</td>\n",
              "      <td>0</td>\n",
              "      <td>0</td>\n",
              "      <td>0</td>\n",
              "      <td>0</td>\n",
              "      <td>0</td>\n",
              "      <td>0</td>\n",
              "      <td>0</td>\n",
              "      <td>0</td>\n",
              "      <td>...</td>\n",
              "      <td>0</td>\n",
              "      <td>0</td>\n",
              "      <td>0</td>\n",
              "      <td>0</td>\n",
              "      <td>0</td>\n",
              "      <td>0</td>\n",
              "      <td>0</td>\n",
              "      <td>0</td>\n",
              "      <td>0</td>\n",
              "      <td>0</td>\n",
              "      <td>0</td>\n",
              "      <td>0</td>\n",
              "      <td>0</td>\n",
              "      <td>0</td>\n",
              "      <td>0</td>\n",
              "      <td>0</td>\n",
              "      <td>0</td>\n",
              "      <td>0</td>\n",
              "      <td>0</td>\n",
              "      <td>0</td>\n",
              "      <td>0</td>\n",
              "      <td>0</td>\n",
              "      <td>0</td>\n",
              "      <td>0</td>\n",
              "      <td>0</td>\n",
              "      <td>0</td>\n",
              "      <td>0</td>\n",
              "      <td>0</td>\n",
              "      <td>0</td>\n",
              "      <td>0</td>\n",
              "      <td>0</td>\n",
              "      <td>0</td>\n",
              "      <td>0</td>\n",
              "      <td>0</td>\n",
              "      <td>0</td>\n",
              "      <td>0</td>\n",
              "      <td>0</td>\n",
              "      <td>0</td>\n",
              "      <td>0</td>\n",
              "      <td>0</td>\n",
              "    </tr>\n",
              "    <tr>\n",
              "      <th>1400501776</th>\n",
              "      <td>0</td>\n",
              "      <td>0</td>\n",
              "      <td>0</td>\n",
              "      <td>0</td>\n",
              "      <td>0</td>\n",
              "      <td>0</td>\n",
              "      <td>0</td>\n",
              "      <td>0</td>\n",
              "      <td>0</td>\n",
              "      <td>0</td>\n",
              "      <td>0</td>\n",
              "      <td>0</td>\n",
              "      <td>0</td>\n",
              "      <td>0</td>\n",
              "      <td>0</td>\n",
              "      <td>0</td>\n",
              "      <td>0</td>\n",
              "      <td>0</td>\n",
              "      <td>0</td>\n",
              "      <td>0</td>\n",
              "      <td>0</td>\n",
              "      <td>0</td>\n",
              "      <td>0</td>\n",
              "      <td>0</td>\n",
              "      <td>0</td>\n",
              "      <td>0</td>\n",
              "      <td>0</td>\n",
              "      <td>0</td>\n",
              "      <td>0</td>\n",
              "      <td>0</td>\n",
              "      <td>0</td>\n",
              "      <td>0</td>\n",
              "      <td>0</td>\n",
              "      <td>0</td>\n",
              "      <td>0</td>\n",
              "      <td>0</td>\n",
              "      <td>0</td>\n",
              "      <td>0</td>\n",
              "      <td>0</td>\n",
              "      <td>0</td>\n",
              "      <td>...</td>\n",
              "      <td>0</td>\n",
              "      <td>0</td>\n",
              "      <td>0</td>\n",
              "      <td>0</td>\n",
              "      <td>0</td>\n",
              "      <td>0</td>\n",
              "      <td>0</td>\n",
              "      <td>0</td>\n",
              "      <td>0</td>\n",
              "      <td>0</td>\n",
              "      <td>0</td>\n",
              "      <td>0</td>\n",
              "      <td>0</td>\n",
              "      <td>0</td>\n",
              "      <td>0</td>\n",
              "      <td>0</td>\n",
              "      <td>0</td>\n",
              "      <td>0</td>\n",
              "      <td>0</td>\n",
              "      <td>0</td>\n",
              "      <td>0</td>\n",
              "      <td>4</td>\n",
              "      <td>0</td>\n",
              "      <td>0</td>\n",
              "      <td>0</td>\n",
              "      <td>0</td>\n",
              "      <td>0</td>\n",
              "      <td>0</td>\n",
              "      <td>0</td>\n",
              "      <td>0</td>\n",
              "      <td>0</td>\n",
              "      <td>0</td>\n",
              "      <td>0</td>\n",
              "      <td>0</td>\n",
              "      <td>0</td>\n",
              "      <td>0</td>\n",
              "      <td>0</td>\n",
              "      <td>0</td>\n",
              "      <td>1</td>\n",
              "      <td>0</td>\n",
              "    </tr>\n",
              "    <tr>\n",
              "      <th>1400532620</th>\n",
              "      <td>0</td>\n",
              "      <td>0</td>\n",
              "      <td>0</td>\n",
              "      <td>0</td>\n",
              "      <td>0</td>\n",
              "      <td>0</td>\n",
              "      <td>0</td>\n",
              "      <td>0</td>\n",
              "      <td>0</td>\n",
              "      <td>0</td>\n",
              "      <td>0</td>\n",
              "      <td>0</td>\n",
              "      <td>0</td>\n",
              "      <td>0</td>\n",
              "      <td>0</td>\n",
              "      <td>5</td>\n",
              "      <td>0</td>\n",
              "      <td>0</td>\n",
              "      <td>0</td>\n",
              "      <td>0</td>\n",
              "      <td>0</td>\n",
              "      <td>0</td>\n",
              "      <td>0</td>\n",
              "      <td>0</td>\n",
              "      <td>0</td>\n",
              "      <td>0</td>\n",
              "      <td>0</td>\n",
              "      <td>0</td>\n",
              "      <td>0</td>\n",
              "      <td>0</td>\n",
              "      <td>0</td>\n",
              "      <td>0</td>\n",
              "      <td>0</td>\n",
              "      <td>0</td>\n",
              "      <td>0</td>\n",
              "      <td>0</td>\n",
              "      <td>0</td>\n",
              "      <td>0</td>\n",
              "      <td>5</td>\n",
              "      <td>0</td>\n",
              "      <td>...</td>\n",
              "      <td>0</td>\n",
              "      <td>0</td>\n",
              "      <td>0</td>\n",
              "      <td>0</td>\n",
              "      <td>0</td>\n",
              "      <td>0</td>\n",
              "      <td>0</td>\n",
              "      <td>0</td>\n",
              "      <td>0</td>\n",
              "      <td>0</td>\n",
              "      <td>0</td>\n",
              "      <td>0</td>\n",
              "      <td>0</td>\n",
              "      <td>0</td>\n",
              "      <td>0</td>\n",
              "      <td>0</td>\n",
              "      <td>0</td>\n",
              "      <td>0</td>\n",
              "      <td>0</td>\n",
              "      <td>0</td>\n",
              "      <td>0</td>\n",
              "      <td>0</td>\n",
              "      <td>0</td>\n",
              "      <td>0</td>\n",
              "      <td>0</td>\n",
              "      <td>0</td>\n",
              "      <td>0</td>\n",
              "      <td>0</td>\n",
              "      <td>0</td>\n",
              "      <td>0</td>\n",
              "      <td>0</td>\n",
              "      <td>0</td>\n",
              "      <td>0</td>\n",
              "      <td>0</td>\n",
              "      <td>0</td>\n",
              "      <td>0</td>\n",
              "      <td>0</td>\n",
              "      <td>0</td>\n",
              "      <td>0</td>\n",
              "      <td>0</td>\n",
              "    </tr>\n",
              "  </tbody>\n",
              "</table>\n",
              "<p>5 rows × 9832 columns</p>\n",
              "</div>"
            ],
            "text/plain": [
              "userId      A01852072Z7B68UHLI5UG  ...  AZZST8OYL5P4Q\n",
              "productId                          ...               \n",
              "0972683275                      0  ...              0\n",
              "1400501466                      0  ...              0\n",
              "1400501520                      0  ...              0\n",
              "1400501776                      0  ...              0\n",
              "1400532620                      0  ...              0\n",
              "\n",
              "[5 rows x 9832 columns]"
            ]
          },
          "metadata": {
            "tags": []
          },
          "execution_count": 57
        }
      ]
    },
    {
      "cell_type": "code",
      "metadata": {
        "id": "cK9Nj_gUZu8O",
        "colab_type": "code",
        "colab": {
          "base_uri": "https://localhost:8080/",
          "height": 34
        },
        "outputId": "51f4d47c-8be0-4b6d-96ec-24172b543796"
      },
      "source": [
        "X.shape"
      ],
      "execution_count": 58,
      "outputs": [
        {
          "output_type": "execute_result",
          "data": {
            "text/plain": [
              "(76, 9832)"
            ]
          },
          "metadata": {
            "tags": []
          },
          "execution_count": 58
        }
      ]
    },
    {
      "cell_type": "markdown",
      "metadata": {
        "id": "PGtHeMzpaxsq",
        "colab_type": "text"
      },
      "source": [
        "**Unique products in subset of data**"
      ]
    },
    {
      "cell_type": "code",
      "metadata": {
        "id": "LwJMQdwwa2bs",
        "colab_type": "code",
        "colab": {}
      },
      "source": [
        "X1 = X"
      ],
      "execution_count": 0,
      "outputs": []
    },
    {
      "cell_type": "code",
      "metadata": {
        "id": "4bDwu7ZtbLNg",
        "colab_type": "code",
        "colab": {
          "base_uri": "https://localhost:8080/",
          "height": 34
        },
        "outputId": "dde9800c-0908-4bca-bf83-fde62111057f"
      },
      "source": [
        "#Decomposing the Matrix\n",
        "from sklearn.decomposition import TruncatedSVD\n",
        "SVD = TruncatedSVD(n_components=10)\n",
        "decomposed_matrix = SVD.fit_transform(X)\n",
        "decomposed_matrix.shape"
      ],
      "execution_count": 60,
      "outputs": [
        {
          "output_type": "execute_result",
          "data": {
            "text/plain": [
              "(76, 10)"
            ]
          },
          "metadata": {
            "tags": []
          },
          "execution_count": 60
        }
      ]
    },
    {
      "cell_type": "code",
      "metadata": {
        "id": "XVcgbrxebQ7P",
        "colab_type": "code",
        "colab": {
          "base_uri": "https://localhost:8080/",
          "height": 34
        },
        "outputId": "3ab52efb-cf5d-4a74-fee6-6ee31341c537"
      },
      "source": [
        "#Correlation Matrix\n",
        "correlation_matrix = np.corrcoef(decomposed_matrix)\n",
        "correlation_matrix.shape"
      ],
      "execution_count": 61,
      "outputs": [
        {
          "output_type": "execute_result",
          "data": {
            "text/plain": [
              "(76, 76)"
            ]
          },
          "metadata": {
            "tags": []
          },
          "execution_count": 61
        }
      ]
    },
    {
      "cell_type": "code",
      "metadata": {
        "id": "lQPwgsbxbkDl",
        "colab_type": "code",
        "colab": {
          "base_uri": "https://localhost:8080/",
          "height": 34
        },
        "outputId": "e75180f0-8d64-4949-c8d3-668ca93fac20"
      },
      "source": [
        "X.index[74]"
      ],
      "execution_count": 68,
      "outputs": [
        {
          "output_type": "execute_result",
          "data": {
            "text/plain": [
              "'B00000JYWQ'"
            ]
          },
          "metadata": {
            "tags": []
          },
          "execution_count": 68
        }
      ]
    },
    {
      "cell_type": "code",
      "metadata": {
        "id": "qvZ3UMGlb2iq",
        "colab_type": "code",
        "colab": {
          "base_uri": "https://localhost:8080/",
          "height": 34
        },
        "outputId": "392a9585-76df-4021-f82c-61e713f953e6"
      },
      "source": [
        "i = \"B00000JYWQ\"\n",
        "product_names = list(X.index)\n",
        "product_ID = product_names.index(i)\n",
        "product_ID"
      ],
      "execution_count": 70,
      "outputs": [
        {
          "output_type": "execute_result",
          "data": {
            "text/plain": [
              "74"
            ]
          },
          "metadata": {
            "tags": []
          },
          "execution_count": 70
        }
      ]
    },
    {
      "cell_type": "markdown",
      "metadata": {
        "id": "6sqIKHnCcMun",
        "colab_type": "text"
      },
      "source": [
        "Correlation for all items with the item purchased by this customer based on items rated by other customers people who bought the same product\n",
        "\n"
      ]
    },
    {
      "cell_type": "code",
      "metadata": {
        "id": "-sje_6gTcN76",
        "colab_type": "code",
        "colab": {
          "base_uri": "https://localhost:8080/",
          "height": 34
        },
        "outputId": "fc2d25fe-af53-42e1-eb84-f3220814418a"
      },
      "source": [
        "correlation_product_ID = correlation_matrix[product_ID]\n",
        "correlation_product_ID.shape"
      ],
      "execution_count": 71,
      "outputs": [
        {
          "output_type": "execute_result",
          "data": {
            "text/plain": [
              "(76,)"
            ]
          },
          "metadata": {
            "tags": []
          },
          "execution_count": 71
        }
      ]
    },
    {
      "cell_type": "markdown",
      "metadata": {
        "id": "PllvTyffd-f0",
        "colab_type": "text"
      },
      "source": [
        "Recommending top 25 highly correlated products in sequence\n",
        "\n"
      ]
    },
    {
      "cell_type": "code",
      "metadata": {
        "id": "kuwxk9d0eCFS",
        "colab_type": "code",
        "colab": {
          "base_uri": "https://localhost:8080/",
          "height": 425
        },
        "outputId": "95f42ea7-6d72-4b39-a1de-9af2c97fb41c"
      },
      "source": [
        "Recommend = list(X.index[correlation_product_ID > 0.65])\n",
        "# Removes the item already bought by the customer\n",
        "Recommend.remove(i) \n",
        "Recommend[0:24]"
      ],
      "execution_count": 72,
      "outputs": [
        {
          "output_type": "execute_result",
          "data": {
            "text/plain": [
              "['7214047977',\n",
              " '9966694544',\n",
              " '9983891212',\n",
              " '9984984354',\n",
              " '9985511476',\n",
              " 'B000001OM4',\n",
              " 'B000001OM5',\n",
              " 'B000001ON6',\n",
              " 'B00000IGBF',\n",
              " 'B00000J05A',\n",
              " 'B00000J08Q',\n",
              " 'B00000J1EP',\n",
              " 'B00000J1EQ',\n",
              " 'B00000J1F3',\n",
              " 'B00000J1SC',\n",
              " 'B00000J1UQ',\n",
              " 'B00000J3NF',\n",
              " 'B00000J3UJ',\n",
              " 'B00000J434',\n",
              " 'B00000J4FS',\n",
              " 'B00000JBAT',\n",
              " 'B00000JBHP',\n",
              " 'B00000JDHV',\n",
              " 'B00000JFIF']"
            ]
          },
          "metadata": {
            "tags": []
          },
          "execution_count": 72
        }
      ]
    },
    {
      "cell_type": "markdown",
      "metadata": {
        "id": "sWKzJnn7eaB3",
        "colab_type": "text"
      },
      "source": [
        "Here are the top 10 products to be displayed by the recommendation system to the above customer based on the purchase history of other customers in the website."
      ]
    }
  ]
}